{
 "cells": [
  {
   "cell_type": "code",
   "execution_count": 1,
   "metadata": {},
   "outputs": [],
   "source": [
    "import time\n",
    "from bs4 import BeautifulSoup\n",
    "from selenium import webdriver\n",
    "from selenium.webdriver.chrome.options import Options\n",
    "import requests\n",
    "import numpy as np\n",
    "import pandas as pd\n",
    "import json"
   ]
  },
  {
   "cell_type": "code",
   "execution_count": null,
   "metadata": {},
   "outputs": [],
   "source": [
    "def get_tutor_info(zip_code, links, headers):\n",
    "    \n",
    "    mains = []\n",
    "    scheds = []\n",
    "    empty = {'sunday': [None], 'monday': [None], 'tuesday': [None], 'wednesday': [None],\n",
    "         'thursday': [None], 'friday': [None], 'saturday': [None]}\n",
    "    \n",
    "    for i, link in enumerate(links):\n",
    "        r = requests.get(link, headers = headers).text\n",
    "        soup = BeautifulSoup(r, 'html.parser')\n",
    "\n",
    "        tags = soup.find_all('script')\n",
    "        time_tutoring = soup.find_all('h3')[0].text\n",
    "        bio_list = soup.find_all('p', {'class':  'spc-zero-n spc-sm-s'})\n",
    "        bio = [part.text for part in bio_list]\n",
    "        if soup.find_all('i' ,{'class':'wc-background-pass wc-green'}):\n",
    "            bck = 1\n",
    "        else:\n",
    "            bck = 0\n",
    "        \n",
    "        main_details = json.loads(tags[0].string)\n",
    "        main_details['time_tutoring'] = time_tutoring\n",
    "        main_details['bio'] = bio\n",
    "        main_details['background_check'] = bck\n",
    "        \n",
    "        mains.append(main_details)\n",
    "        try:\n",
    "            scheds.append(json.loads(tags[6].string.split('=')[1][:-1]))\n",
    "        except:\n",
    "            scheds.append(empty)\n",
    "        time.sleep(np.random.rand()*5)\n",
    "        \n",
    "    df = pd.merge(pd.DataFrame(mains), pd.DataFrame(scheds), left_index=True, right_index=True)\n",
    "    df.to_csv('/home/codonnell/tutors_' + str(zip_code) + '.csv')"
   ]
  },
  {
   "cell_type": "code",
   "execution_count": null,
   "metadata": {},
   "outputs": [],
   "source": [
    "search_add = 'https://www.wyzant.com/match/search?sort=1&d=20&utc_offset=-5&min_price=10&max_price=200&min_age=18&max_age=100&gender_pref=none&st=5&kw=physics&ol=false&z='\n",
    "zip_code = 78750\n",
    "url = search_add + str(zip_code)\n",
    "\n",
    "chromedriver = '/home/codonnell/chromedriver.exe'\n",
    "driver = webdriver.Chrome(chromedriver)\n",
    "driver.get(url)\n",
    "\n",
    "#run this, then manually skip fields on the website to get to search page\n",
    "#then run next cell\n",
    "#search for all tutor links on page"
   ]
  },
  {
   "cell_type": "code",
   "execution_count": 2,
   "metadata": {},
   "outputs": [
    {
     "ename": "NameError",
     "evalue": "name 'driver' is not defined",
     "output_type": "error",
     "traceback": [
      "\u001b[0;31m---------------------------------------------------------------------------\u001b[0m",
      "\u001b[0;31mNameError\u001b[0m                                 Traceback (most recent call last)",
      "\u001b[0;32m<ipython-input-2-6f2931939939>\u001b[0m in \u001b[0;36m<module>\u001b[0;34m\u001b[0m\n\u001b[1;32m     18\u001b[0m \u001b[0;34m\u001b[0m\u001b[0m\n\u001b[1;32m     19\u001b[0m             \u001b[0murl\u001b[0m \u001b[0;34m=\u001b[0m \u001b[0;34m'https://www.wyzant.com/match/search?sort='\u001b[0m \u001b[0;34m+\u001b[0m \u001b[0mstr\u001b[0m\u001b[0;34m(\u001b[0m\u001b[0msort\u001b[0m\u001b[0;34m)\u001b[0m \u001b[0;34m+\u001b[0m \u001b[0;34m'&d=20&utc_offset=-5&min_price=10&max_price=200&min_age=18&max_age=100&gender_pref=none&st=0&kw='\u001b[0m \u001b[0;34m+\u001b[0m \u001b[0msubject\u001b[0m \u001b[0;34m+\u001b[0m \u001b[0;34m'&ol=false&z='\u001b[0m \u001b[0;34m+\u001b[0m \u001b[0mstr\u001b[0m\u001b[0;34m(\u001b[0m\u001b[0mzip_code\u001b[0m\u001b[0;34m)\u001b[0m\u001b[0;34m\u001b[0m\u001b[0;34m\u001b[0m\u001b[0m\n\u001b[0;32m---> 20\u001b[0;31m             \u001b[0mdriver\u001b[0m\u001b[0;34m.\u001b[0m\u001b[0mget\u001b[0m\u001b[0;34m(\u001b[0m\u001b[0murl\u001b[0m\u001b[0;34m)\u001b[0m\u001b[0;34m\u001b[0m\u001b[0;34m\u001b[0m\u001b[0m\n\u001b[0m\u001b[1;32m     21\u001b[0m \u001b[0;34m\u001b[0m\u001b[0m\n\u001b[1;32m     22\u001b[0m             \u001b[0mlks\u001b[0m \u001b[0;34m=\u001b[0m \u001b[0mdriver\u001b[0m\u001b[0;34m.\u001b[0m\u001b[0mfind_elements_by_xpath\u001b[0m\u001b[0;34m(\u001b[0m\u001b[0;34m'.//a[@class=\"tutor-card flex\"]'\u001b[0m\u001b[0;34m)\u001b[0m\u001b[0;34m\u001b[0m\u001b[0;34m\u001b[0m\u001b[0m\n",
      "\u001b[0;31mNameError\u001b[0m: name 'driver' is not defined"
     ]
    }
   ],
   "source": [
    "#list of zip codes and subjects to search\n",
    "\n",
    "zips = [91911,37128,85001]\n",
    "subjects = ['physics', 'math', 'spanish', 'english']\n",
    "\n",
    "#types of sorts to perform on webpage, 1: best match, 2: price highest-lowest, 3: price lowest-highest\n",
    "sorts = [1, 2, 3]\n",
    "\n",
    "for zip_code in zips:\n",
    "    \n",
    "    links = []\n",
    "    tot_tuts = []\n",
    "    \n",
    "    for subject in subjects:\n",
    "        \n",
    "        \n",
    "        for sort in sorts:\n",
    "            \n",
    "            url = 'https://www.wyzant.com/match/search?sort=' + str(sort) + '&d=20&utc_offset=-5&min_price=10&max_price=200&min_age=18&max_age=100&gender_pref=none&st=0&kw=' + subject + '&ol=false&z=' + str(zip_code)\n",
    "            driver.get(url)\n",
    "            \n",
    "            lks = driver.find_elements_by_xpath('.//a[@class=\"tutor-card flex\"]')\n",
    "            lks_found = [link.get_attribute('href') for link in lks]\n",
    "            links.append(lks_found)\n",
    "            \n",
    "            \n",
    "            tot_tuts.append(driver.find_elements_by_tag_name('strong')[2].text) #per subject given zip\n",
    "            \n",
    "            time.sleep(np.random.rand()*5)\n",
    "            \n",
    "        time.sleep(np.random.rand()*5)\n",
    "    \n",
    "    unique_tuts = np.unique(np.array([item for sublist in links for item in sublist]))\n",
    "    save_tut_id(unique_tuts)\n",
    "    get_tutor_info(zip_code, unique_tuts, headers)\n",
    "    tut_num_df = pd.DataFrame({'zip_code': [str(zip_code)]*12, 'tot_tuts': tot_tuts})\n",
    "    tut_num_df.to_csv('/home/codonnell/tutors/tut_num_' +str(zip_code) + '.csv')\n",
    "    \n",
    "    time.sleep(np.random.rand()*5)"
   ]
  },
  {
   "cell_type": "code",
   "execution_count": null,
   "metadata": {},
   "outputs": [],
   "source": []
  }
 ],
 "metadata": {
  "kernelspec": {
   "display_name": "Python 3",
   "language": "python",
   "name": "python3"
  },
  "language_info": {
   "codemirror_mode": {
    "name": "ipython",
    "version": 3
   },
   "file_extension": ".py",
   "mimetype": "text/x-python",
   "name": "python",
   "nbconvert_exporter": "python",
   "pygments_lexer": "ipython3",
   "version": "3.8.2"
  }
 },
 "nbformat": 4,
 "nbformat_minor": 4
}
