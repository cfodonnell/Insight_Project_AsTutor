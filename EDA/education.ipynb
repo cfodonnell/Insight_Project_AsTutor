{
 "cells": [
  {
   "cell_type": "code",
   "execution_count": 1,
   "metadata": {},
   "outputs": [],
   "source": [
    "import time\n",
    "import numpy as np\n",
    "import pandas as pd\n",
    "import json\n",
    "import seaborn as sb\n",
    "from matplotlib import pyplot as plt\n",
    "from matplotlib import rcParams\n",
    "import matplotlib.cm as cm\n",
    "from matplotlib.colors import ListedColormap\n",
    "import seaborn as sb\n",
    "import pickle\n",
    "\n",
    "from sqlalchemy import create_engine\n",
    "from sqlalchemy_utils import database_exists, create_database\n",
    "import psycopg2\n",
    "\n",
    "from sklearn.cluster import MiniBatchKMeans\n",
    "from sklearn.feature_extraction.text import TfidfVectorizer\n",
    "from sklearn.decomposition import PCA\n",
    "from sklearn.manifold import TSNE"
   ]
  },
  {
   "cell_type": "code",
   "execution_count": 2,
   "metadata": {},
   "outputs": [],
   "source": [
    "dbname = 'tutor_db'\n",
    "username = 'codonnell'\n",
    "pswd = '7883511'\n",
    "\n",
    "con = None\n",
    "con = psycopg2.connect(database = dbname, user = username, host='localhost', password=pswd)\n",
    "\n",
    "# query:\n",
    "sql_query = \"\"\"\n",
    "SELECT * FROM tutor_main\n",
    "\"\"\"\n",
    "tutor_data = pd.read_sql_query(sql_query,con)"
   ]
  },
  {
   "cell_type": "code",
   "execution_count": 5,
   "metadata": {},
   "outputs": [],
   "source": [
    "test_data = tutor_data[(tutor_data['hourly_rate']<100) \n",
    "                               & (tutor_data['hourly_rate']>20)]"
   ]
  },
  {
   "cell_type": "code",
   "execution_count": 13,
   "metadata": {},
   "outputs": [
    {
     "data": {
      "text/plain": [
       "{}                                          296\n",
       "Arizona State                                72\n",
       "UCLA                                         58\n",
       "San Diego State                              54\n",
       "Boston                                       52\n",
       "                                           ... \n",
       "the Sciences                                  1\n",
       "Alabama  Huntsville                           1\n",
       "Louisiana State , Baton Rouge, LA             1\n",
       "Current: Montgomery : Takoma Park Campus      1\n",
       "St. Scholastica                               1\n",
       "Name: inst_1, Length: 3470, dtype: int64"
      ]
     },
     "execution_count": 13,
     "metadata": {},
     "output_type": "execute_result"
    }
   ],
   "source": [
    "#len(test_data[test_data['inst_1'].str.contains('State')])\n",
    "test_data['inst_1'].value_counts()"
   ]
  },
  {
   "cell_type": "code",
   "execution_count": 15,
   "metadata": {},
   "outputs": [
    {
     "name": "stdout",
     "output_type": "stream",
     "text": [
      "[0.14813432835820894, 0.12457555178268251, 0.11637931034482758, 0.11984282907662082]\n",
      "[0.07201492537313432, 0.08234295415959253, 0.078125, 0.08055009823182711]\n",
      "[0.014552238805970149, 0.01803904923599321, 0.023168103448275863, 0.023575638506876228]\n"
     ]
    }
   ],
   "source": [
    "edges = [20,40,60,80,100]\n",
    "edu_bins = []\n",
    "\n",
    "state_cols1 = []\n",
    "state_cols2 = []\n",
    "state_cols3 = []\n",
    "\n",
    "for i in range(0,len(edges)-1):\n",
    "    df = test_data[(test_data['hourly_rate']>=edges[i])& (test_data['hourly_rate']<edges[i+1])]\n",
    "    state_cols1.append(len(df[df['inst_1'].str.contains('State')])/len(df))\n",
    "    state_cols2.append(len(df[df['inst_2'].str.contains('State')])/len(df))\n",
    "    state_cols3.append(len(df[df['inst_3'].str.contains('State')])/len(df))\n",
    "    #print(df['inst_1'].value_counts()\n",
    "print(state_cols1)\n",
    "print(state_cols2)\n",
    "print(state_cols3)"
   ]
  },
  {
   "cell_type": "code",
   "execution_count": 21,
   "metadata": {},
   "outputs": [
    {
     "name": "stdout",
     "output_type": "stream",
     "text": [
      "[0.027238805970149254, 0.03416808149405773, 0.05118534482758621, 0.08840864440078586]\n",
      "[0.017164179104477612, 0.022071307300509338, 0.03987068965517242, 0.07269155206286837]\n",
      "[0.004477611940298508, 0.010186757215619695, 0.014547413793103448, 0.025540275049115914]\n"
     ]
    }
   ],
   "source": [
    "ivys = 'Brown|Columbia|Dartmouth|Harvard|Cornell|Pennsylvania|Princeton|Yale'\n",
    "ivy_cols1 = []\n",
    "ivy_cols2 = []\n",
    "ivy_cols3 = []\n",
    "\n",
    "for i in range(0,len(edges)-1):\n",
    "    df = test_data[(test_data['hourly_rate']>=edges[i])& (test_data['hourly_rate']<edges[i+1])]\n",
    "    ivy_cols1.append(len(df[df['inst_1'].str.contains(ivys)])/len(df))\n",
    "    ivy_cols2.append(len(df[df['inst_2'].str.contains(ivys)])/len(df))\n",
    "    ivy_cols3.append(len(df[df['inst_3'].str.contains(ivys)])/len(df))\n",
    "    #print(df['inst_1'].value_counts()\n",
    "print(ivy_cols1)\n",
    "print(ivy_cols2)\n",
    "print(ivy_cols3)"
   ]
  },
  {
   "cell_type": "code",
   "execution_count": 24,
   "metadata": {},
   "outputs": [
    {
     "data": {
      "text/plain": [
       "100"
      ]
     },
     "execution_count": 24,
     "metadata": {},
     "output_type": "execute_result"
    }
   ],
   "source": [
    "len(test_data[test_data['inst_3'].str.contains(ivys)])"
   ]
  },
  {
   "cell_type": "code",
   "execution_count": 52,
   "metadata": {},
   "outputs": [],
   "source": [
    "all_edu_lists = [i for i in sample['education_list'].values]\n",
    "all_edus = [item for sublist in all_edu_lists for item in sublist]\n",
    "edu_counts = pd.Series(all_edus, name = 'edu_counts').value_counts()"
   ]
  },
  {
   "cell_type": "code",
   "execution_count": 54,
   "metadata": {},
   "outputs": [
    {
     "data": {
      "text/plain": [
       "and            1850\n",
       "California     1740\n",
       "PhD            1467\n",
       "Columbia       1421\n",
       "New            1411\n",
       "undergrad      1353\n",
       "Graduate       1338\n",
       "Mathematics    1282\n",
       "School         1275\n",
       "Engineering    1166\n",
       "Coursework     1152\n",
       "York           1150\n",
       "Science        1143\n",
       "English        1140\n",
       "Physics        1101\n",
       "Name: edu_counts, dtype: int64"
      ]
     },
     "execution_count": 54,
     "metadata": {},
     "output_type": "execute_result"
    }
   ],
   "source": [
    "edu_counts[5:20]"
   ]
  },
  {
   "cell_type": "code",
   "execution_count": 57,
   "metadata": {},
   "outputs": [],
   "source": [
    "edu_bigtext = listToString([i for i in sample['education_clean'].values])"
   ]
  },
  {
   "cell_type": "code",
   "execution_count": 59,
   "metadata": {},
   "outputs": [
    {
     "data": {
      "text/plain": [
       "[(('University', 'of'), 5745),\n",
       " (('State', 'University'), 1728),\n",
       " (('University', 'Masters'), 1720),\n",
       " (('Columbia', 'University'), 1158),\n",
       " (('Graduate', 'Coursework'), 1152),\n",
       " (('College', 'of'), 1105),\n",
       " (('New', 'York'), 1104),\n",
       " (('Masters', 'University'), 1086),\n",
       " (('of', 'California'), 911),\n",
       " (('School', 'of'), 801),\n",
       " (('of', 'Technology'), 687),\n",
       " (('Institute', 'of'), 623),\n",
       " (('City', 'College'), 536),\n",
       " (('of', 'New'), 532),\n",
       " (('University', 'English'), 504),\n",
       " (('University', 'PhD'), 473),\n",
       " (('York', 'University'), 455),\n",
       " (('Computer', 'Science'), 450),\n",
       " (('California', 'State'), 389),\n",
       " (('of', 'Texas'), 367)]"
      ]
     },
     "execution_count": 59,
     "metadata": {},
     "output_type": "execute_result"
    }
   ],
   "source": [
    "import collections\n",
    "def ngrams(text, n=2):\n",
    "    return zip(*[text[i:] for i in range(n)])\n",
    "ngram_counts_2 = collections.Counter(ngrams(edu_bigtext.split(), 2))\n",
    "ngram_counts_2.most_common(20)"
   ]
  },
  {
   "cell_type": "code",
   "execution_count": 60,
   "metadata": {},
   "outputs": [
    {
     "data": {
      "text/plain": [
       "[(('Masters', 'University', 'of'), 1072),\n",
       " (('University', 'of', 'California'), 876),\n",
       " (('Institute', 'of', 'Technology'), 514),\n",
       " (('of', 'New', 'York'), 468),\n",
       " (('City', 'College', 'of'), 456),\n",
       " (('New', 'York', 'University'), 413),\n",
       " (('State', 'University', 'Masters'), 365),\n",
       " (('University', 'of', 'Texas'), 354),\n",
       " (('College', 'of', 'New'), 343),\n",
       " (('The', 'University', 'of'), 341),\n",
       " (('California', 'State', 'University'), 325),\n",
       " (('Graduate', 'Coursework', 'University'), 278),\n",
       " (('Coursework', 'University', 'of'), 276),\n",
       " (('of', 'California', 'Berkeley'), 267),\n",
       " (('Masters', 'Columbia', 'University'), 259),\n",
       " (('University', 'Graduate', 'Coursework'), 259),\n",
       " (('University', 'Masters', 'University'), 258),\n",
       " (('PhD', 'University', 'of'), 257),\n",
       " (('University', 'of', 'Michigan'), 253),\n",
       " (('Columbia', 'University', 'Masters'), 240)]"
      ]
     },
     "execution_count": 60,
     "metadata": {},
     "output_type": "execute_result"
    }
   ],
   "source": [
    "def ngrams(text, n=3):\n",
    "    return zip(*[text[i:] for i in range(n)])\n",
    "ngram_counts_3 = collections.Counter(ngrams(edu_bigtext.split(), 3))\n",
    "ngram_counts_3.most_common(20)"
   ]
  },
  {
   "cell_type": "code",
   "execution_count": null,
   "metadata": {},
   "outputs": [],
   "source": []
  }
 ],
 "metadata": {
  "kernelspec": {
   "display_name": "Python 3",
   "language": "python",
   "name": "python3"
  },
  "language_info": {
   "codemirror_mode": {
    "name": "ipython",
    "version": 3
   },
   "file_extension": ".py",
   "mimetype": "text/x-python",
   "name": "python",
   "nbconvert_exporter": "python",
   "pygments_lexer": "ipython3",
   "version": "3.8.2"
  }
 },
 "nbformat": 4,
 "nbformat_minor": 4
}
