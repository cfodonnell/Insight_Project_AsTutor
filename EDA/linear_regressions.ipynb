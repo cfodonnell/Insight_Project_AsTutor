{
 "cells": [
  {
   "cell_type": "code",
   "execution_count": 1,
   "metadata": {},
   "outputs": [],
   "source": [
    "import time\n",
    "import numpy as np\n",
    "import pandas as pd\n",
    "import json\n",
    "import seaborn as sb\n",
    "from matplotlib import pyplot as plt\n",
    "from matplotlib import rcParams\n",
    "import matplotlib.cm as cm\n",
    "from matplotlib.colors import ListedColormap\n",
    "import seaborn as sb\n",
    "import pickle\n",
    "import re\n",
    "\n",
    "from sqlalchemy import create_engine\n",
    "from sqlalchemy_utils import database_exists, create_database\n",
    "import psycopg2\n",
    "\n",
    "from sklearn.cluster import MiniBatchKMeans\n",
    "from sklearn.feature_extraction.text import TfidfVectorizer\n",
    "from sklearn.decomposition import PCA\n",
    "from sklearn.manifold import TSNE\n",
    "import category_encoders as ce\n",
    "from sklearn.preprocessing import OneHotEncoder\n",
    "from sklearn.preprocessing import LabelEncoder\n",
    "from sklearn import metrics\n",
    "from sklearn.model_selection import KFold\n",
    "from sklearn.model_selection import cross_val_score\n",
    "from sklearn.model_selection import train_test_split\n",
    "from sklearn.ensemble import RandomForestRegressor\n",
    "from sklearn.preprocessing import StandardScaler\n",
    "from xgboost import XGBRegressor\n",
    "from sklearn.metrics import mean_absolute_error\n",
    "from xgboost import plot_importance\n",
    "from sklearn.metrics import r2_score\n",
    "from sklearn.feature_extraction.text import ENGLISH_STOP_WORDS as esw\n",
    "from sklearn.linear_model import LinearRegression\n",
    "from sklearn.linear_model import Lasso\n",
    "from sklearn.preprocessing import PolynomialFeatures\n",
    "from sklearn import feature_selection"
   ]
  },
  {
   "cell_type": "code",
   "execution_count": 2,
   "metadata": {},
   "outputs": [],
   "source": [
    "def qual_encode(qual):\n",
    "    \n",
    "    qual_list = ['Masters','MBA','PhD','J.D.']\n",
    "    qual_encodings = {'Masters': 5, 'MBA': 5, 'PhD': 20, 'J.D.': 30}\n",
    "    if qual in qual_list:\n",
    "        return qual_encodings[qual]\n",
    "    else:\n",
    "        return 0\n",
    "    \n",
    "def get_exp(bio):\n",
    "    \n",
    "    if 'years' in bio:\n",
    "        yrs = np.array([int(i) for i in re.findall('\\d+', bio)])\n",
    "        if len(yrs[yrs<50])>0:\n",
    "            return max(yrs[yrs<50])\n",
    "        else:\n",
    "            return 0\n",
    "    else:\n",
    "        return 0\n",
    "    \n",
    "def get_exp_text(bio):\n",
    "    \n",
    "    numbers = ['one','two','three','four','five','six','seven','eight','nine','ten','eleven','twelve',\n",
    "          'thirteen','fourteen','fifteen','sixteen','seventeen','eighteen','nineteen','twenty','thirty',\n",
    "          'forty','fifty']\n",
    "    numbers_dict = {'one':1,'two':2,'three':3,'four':4,'five':5,'six':6,'seven':7,'eight':8,'nine':9,'ten':10,\n",
    "                'eleven':11,'twelve':12, 'thirteen':13,'fourteen':14,'fifteen':15,'sixteen':16,'seventeen':17,\n",
    "                'eighteen':18,'nineteen':19,'twenty':20,'thirty':30,'forty':40,'fifty':50}\n",
    "    \n",
    "    if any(x in bio.lower() for x in numbers):\n",
    "        matches = [x for x in numbers if x in bio.lower()]\n",
    "        return sum([numbers_dict[x] for x in matches])\n",
    "    else:\n",
    "        return 0"
   ]
  },
  {
   "cell_type": "code",
   "execution_count": 3,
   "metadata": {},
   "outputs": [
    {
     "data": {
      "text/html": [
       "<div>\n",
       "<style scoped>\n",
       "    .dataframe tbody tr th:only-of-type {\n",
       "        vertical-align: middle;\n",
       "    }\n",
       "\n",
       "    .dataframe tbody tr th {\n",
       "        vertical-align: top;\n",
       "    }\n",
       "\n",
       "    .dataframe thead th {\n",
       "        text-align: right;\n",
       "    }\n",
       "</style>\n",
       "<table border=\"1\" class=\"dataframe\">\n",
       "  <thead>\n",
       "    <tr style=\"text-align: right;\">\n",
       "      <th></th>\n",
       "      <th>index</th>\n",
       "      <th>description</th>\n",
       "      <th>hourly_rate</th>\n",
       "      <th>bio</th>\n",
       "      <th>background_check</th>\n",
       "      <th>tut_id</th>\n",
       "      <th>photo</th>\n",
       "      <th>rating_count</th>\n",
       "      <th>rating_av</th>\n",
       "      <th>review_count</th>\n",
       "      <th>...</th>\n",
       "      <th>sunday_hours</th>\n",
       "      <th>monday_hours</th>\n",
       "      <th>tuesday_hours</th>\n",
       "      <th>wednesday_hours</th>\n",
       "      <th>thursday_hours</th>\n",
       "      <th>friday_hours</th>\n",
       "      <th>saturday_hours</th>\n",
       "      <th>mean_hours</th>\n",
       "      <th>log_hourly_rate</th>\n",
       "      <th>qual_encoded</th>\n",
       "    </tr>\n",
       "  </thead>\n",
       "  <tbody>\n",
       "    <tr>\n",
       "      <th>0</th>\n",
       "      <td>0</td>\n",
       "      <td>Fun Experienced Tutor!</td>\n",
       "      <td>60</td>\n",
       "      <td>['Hi!', \"I'm an experienced tutor with a sense...</td>\n",
       "      <td>1</td>\n",
       "      <td>7269032</td>\n",
       "      <td>1</td>\n",
       "      <td>269</td>\n",
       "      <td>4.98885</td>\n",
       "      <td>15.0</td>\n",
       "      <td>...</td>\n",
       "      <td>0.583333</td>\n",
       "      <td>0.416667</td>\n",
       "      <td>0.583333</td>\n",
       "      <td>0.375000</td>\n",
       "      <td>0.375000</td>\n",
       "      <td>0.583333</td>\n",
       "      <td>0.583333</td>\n",
       "      <td>0.500000</td>\n",
       "      <td>4.094345</td>\n",
       "      <td>5</td>\n",
       "    </tr>\n",
       "    <tr>\n",
       "      <th>1</th>\n",
       "      <td>1</td>\n",
       "      <td>Math, Writing and Econ Specialist, 8+ Years Tu...</td>\n",
       "      <td>75</td>\n",
       "      <td>['From Algebra to MLA, Middle School to MBA, I...</td>\n",
       "      <td>1</td>\n",
       "      <td>7277990</td>\n",
       "      <td>1</td>\n",
       "      <td>338</td>\n",
       "      <td>4.93195</td>\n",
       "      <td>18.0</td>\n",
       "      <td>...</td>\n",
       "      <td>0.500000</td>\n",
       "      <td>0.541667</td>\n",
       "      <td>0.583333</td>\n",
       "      <td>0.583333</td>\n",
       "      <td>0.583333</td>\n",
       "      <td>0.500000</td>\n",
       "      <td>0.333333</td>\n",
       "      <td>0.517857</td>\n",
       "      <td>4.317488</td>\n",
       "      <td>5</td>\n",
       "    </tr>\n",
       "    <tr>\n",
       "      <th>2</th>\n",
       "      <td>2</td>\n",
       "      <td>Top-Rated Test Prep (SAT / ACT / ISEE / HSPT) ...</td>\n",
       "      <td>95</td>\n",
       "      <td>[\"I am an experienced (3000+ hours) tutor cert...</td>\n",
       "      <td>1</td>\n",
       "      <td>7611743</td>\n",
       "      <td>1</td>\n",
       "      <td>1046</td>\n",
       "      <td>4.94349</td>\n",
       "      <td>74.0</td>\n",
       "      <td>...</td>\n",
       "      <td>1.000000</td>\n",
       "      <td>1.000000</td>\n",
       "      <td>1.000000</td>\n",
       "      <td>1.000000</td>\n",
       "      <td>1.000000</td>\n",
       "      <td>1.000000</td>\n",
       "      <td>1.000000</td>\n",
       "      <td>1.000000</td>\n",
       "      <td>4.553877</td>\n",
       "      <td>0</td>\n",
       "    </tr>\n",
       "    <tr>\n",
       "      <th>3</th>\n",
       "      <td>3</td>\n",
       "      <td>Congratulations to my students entering Harvar...</td>\n",
       "      <td>95</td>\n",
       "      <td>['MARCH 2020: IN ORDER TO ASSIST MORE STUDENTS...</td>\n",
       "      <td>1</td>\n",
       "      <td>7614535</td>\n",
       "      <td>1</td>\n",
       "      <td>1602</td>\n",
       "      <td>4.97940</td>\n",
       "      <td>32.0</td>\n",
       "      <td>...</td>\n",
       "      <td>0.000000</td>\n",
       "      <td>0.375000</td>\n",
       "      <td>0.541667</td>\n",
       "      <td>0.541667</td>\n",
       "      <td>0.250000</td>\n",
       "      <td>0.416667</td>\n",
       "      <td>0.375000</td>\n",
       "      <td>0.357143</td>\n",
       "      <td>4.553877</td>\n",
       "      <td>5</td>\n",
       "    </tr>\n",
       "    <tr>\n",
       "      <th>4</th>\n",
       "      <td>13</td>\n",
       "      <td>Patient, Knowledgeable and Effective Spanish T...</td>\n",
       "      <td>125</td>\n",
       "      <td>['I am a high school AP Spanish Language teach...</td>\n",
       "      <td>1</td>\n",
       "      <td>8022035</td>\n",
       "      <td>1</td>\n",
       "      <td>67</td>\n",
       "      <td>4.98507</td>\n",
       "      <td>12.0</td>\n",
       "      <td>...</td>\n",
       "      <td>0.041667</td>\n",
       "      <td>0.166667</td>\n",
       "      <td>0.083333</td>\n",
       "      <td>0.125000</td>\n",
       "      <td>0.125000</td>\n",
       "      <td>0.083333</td>\n",
       "      <td>0.000000</td>\n",
       "      <td>0.089286</td>\n",
       "      <td>4.828314</td>\n",
       "      <td>0</td>\n",
       "    </tr>\n",
       "  </tbody>\n",
       "</table>\n",
       "<p>5 rows × 32 columns</p>\n",
       "</div>"
      ],
      "text/plain": [
       "   index                                        description  hourly_rate  \\\n",
       "0      0                             Fun Experienced Tutor!           60   \n",
       "1      1  Math, Writing and Econ Specialist, 8+ Years Tu...           75   \n",
       "2      2  Top-Rated Test Prep (SAT / ACT / ISEE / HSPT) ...           95   \n",
       "3      3  Congratulations to my students entering Harvar...           95   \n",
       "4     13  Patient, Knowledgeable and Effective Spanish T...          125   \n",
       "\n",
       "                                                 bio  background_check  \\\n",
       "0  ['Hi!', \"I'm an experienced tutor with a sense...                 1   \n",
       "1  ['From Algebra to MLA, Middle School to MBA, I...                 1   \n",
       "2  [\"I am an experienced (3000+ hours) tutor cert...                 1   \n",
       "3  ['MARCH 2020: IN ORDER TO ASSIST MORE STUDENTS...                 1   \n",
       "4  ['I am a high school AP Spanish Language teach...                 1   \n",
       "\n",
       "    tut_id  photo  rating_count  rating_av  review_count  ...  sunday_hours  \\\n",
       "0  7269032      1           269    4.98885          15.0  ...      0.583333   \n",
       "1  7277990      1           338    4.93195          18.0  ...      0.500000   \n",
       "2  7611743      1          1046    4.94349          74.0  ...      1.000000   \n",
       "3  7614535      1          1602    4.97940          32.0  ...      0.000000   \n",
       "4  8022035      1            67    4.98507          12.0  ...      0.041667   \n",
       "\n",
       "   monday_hours  tuesday_hours wednesday_hours  thursday_hours  friday_hours  \\\n",
       "0      0.416667       0.583333        0.375000        0.375000      0.583333   \n",
       "1      0.541667       0.583333        0.583333        0.583333      0.500000   \n",
       "2      1.000000       1.000000        1.000000        1.000000      1.000000   \n",
       "3      0.375000       0.541667        0.541667        0.250000      0.416667   \n",
       "4      0.166667       0.083333        0.125000        0.125000      0.083333   \n",
       "\n",
       "  saturday_hours mean_hours log_hourly_rate qual_encoded  \n",
       "0       0.583333   0.500000        4.094345            5  \n",
       "1       0.333333   0.517857        4.317488            5  \n",
       "2       1.000000   1.000000        4.553877            0  \n",
       "3       0.375000   0.357143        4.553877            5  \n",
       "4       0.000000   0.089286        4.828314            0  \n",
       "\n",
       "[5 rows x 32 columns]"
      ]
     },
     "execution_count": 3,
     "metadata": {},
     "output_type": "execute_result"
    }
   ],
   "source": [
    "dbname = 'tutor_db'\n",
    "username = 'codonnell'\n",
    "pswd = '7883511'\n",
    "\n",
    "con = None\n",
    "con = psycopg2.connect(database = dbname, user = username, host='localhost', password=pswd)\n",
    "\n",
    "# query:\n",
    "sql_query = \"\"\"\n",
    "SELECT * FROM tutor_main\n",
    "\"\"\"\n",
    "tutor_data = pd.read_sql_query(sql_query,con)\n",
    "tutor_data = tutor_data.drop_duplicates(subset='tut_id').reset_index(drop=True)\n",
    "tutor_data['log_hourly_rate'] = np.log(tutor_data['hourly_rate'])\n",
    "tutor_data['qual_encoded'] = tutor_data.apply(lambda x: qual_encode(x['qual_1']) + qual_encode(x['qual_2']), axis =1) \n",
    "tutor_data.head()"
   ]
  },
  {
   "cell_type": "code",
   "execution_count": 63,
   "metadata": {},
   "outputs": [
    {
     "data": {
      "text/plain": [
       "Index(['index', 'description', 'hourly_rate', 'bio', 'background_check',\n",
       "       'tut_id', 'photo', 'rating_count', 'rating_av', 'review_count',\n",
       "       'bio_length', 'num_subjects', 'hours_tutoring', 'state', 'zip_code',\n",
       "       'edu_length', 'inst_1', 'inst_2', 'inst_3', 'qual_1', 'qual_2',\n",
       "       'qual_3', 'sunday_hours', 'monday_hours', 'tuesday_hours',\n",
       "       'wednesday_hours', 'thursday_hours', 'friday_hours', 'saturday_hours',\n",
       "       'mean_hours', 'log_hourly_rate', 'qual_encoded', 'all_ed', 'ivy_1e',\n",
       "       'ivy_2e', 'ivy_3e', 'ivy_tot', 'state_1e', 'state_2e', 'state_3e',\n",
       "       'state_tot', 'experience', 'exptext', 'exp_tot', 'ed_0', 'ed_1'],\n",
       "      dtype='object')"
      ]
     },
     "execution_count": 63,
     "metadata": {},
     "output_type": "execute_result"
    }
   ],
   "source": [
    "tutor_data.columns"
   ]
  },
  {
   "cell_type": "code",
   "execution_count": 4,
   "metadata": {},
   "outputs": [],
   "source": [
    "ivys = 'Brown|Columbia|Dartmouth|Harvard|Cornell|Pennsylvania|Princeton|Yale'"
   ]
  },
  {
   "cell_type": "code",
   "execution_count": 5,
   "metadata": {},
   "outputs": [],
   "source": [
    "tutor_data['all_ed'] = tutor_data['inst_1'] + ' ' + tutor_data['inst_2'] + ' ' + tutor_data['inst_3']"
   ]
  },
  {
   "cell_type": "code",
   "execution_count": 6,
   "metadata": {},
   "outputs": [],
   "source": [
    "tutor_data['ivy_1e'] = tutor_data['inst_1'].str.contains(ivys).astype(int)\n",
    "tutor_data['ivy_2e'] = tutor_data['inst_2'].str.contains(ivys).astype(int)\n",
    "tutor_data['ivy_3e'] = tutor_data['inst_3'].str.contains(ivys).astype(int)\n",
    "tutor_data['ivy_tot'] = tutor_data['ivy_1e']+tutor_data['ivy_2e']+tutor_data['ivy_3e']\n",
    "#tutor_data['inst_1e'] = tutor_data['inst_1'].apply(ivy)\n",
    "#tutor_data['inst_1e'] = tutor_data['inst_1'].apply(ivy)"
   ]
  },
  {
   "cell_type": "code",
   "execution_count": 7,
   "metadata": {},
   "outputs": [],
   "source": [
    "tutor_data['state_1e'] = tutor_data['inst_1'].str.contains('State').astype(int)\n",
    "tutor_data['state_2e'] = tutor_data['inst_2'].str.contains('State').astype(int)\n",
    "tutor_data['state_3e'] = tutor_data['inst_3'].str.contains('State').astype(int)\n",
    "tutor_data['state_tot'] = tutor_data['state_1e']+tutor_data['state_2e']+tutor_data['state_3e']\n",
    "tutor_data['experience'] = tutor_data['bio'].apply(get_exp)\n",
    "tutor_data['exptext'] = tutor_data['bio'].apply(get_exp_text)\n",
    "tutor_data['exp_tot'] = tutor_data['experience'] + tutor_data['exptext']"
   ]
  },
  {
   "cell_type": "code",
   "execution_count": 8,
   "metadata": {},
   "outputs": [],
   "source": [
    "#tutor_data = tutor_data[tutor_data['hours_tutoring']>10] "
   ]
  },
  {
   "cell_type": "code",
   "execution_count": 9,
   "metadata": {},
   "outputs": [],
   "source": [
    "stopWords = esw \n",
    "\n",
    "tfidf_ed = TfidfVectorizer(\n",
    "    min_df = 0,\n",
    "    max_df = 0.95,\n",
    "    max_features = 20000,\n",
    "    stop_words = stopWords,\n",
    "    ngram_range = (1,2)\n",
    ")\n",
    "tfidf_ed.fit(tutor_data['all_ed'])\n",
    "text_ed = tfidf_ed.transform(tutor_data['all_ed'])"
   ]
  },
  {
   "cell_type": "code",
   "execution_count": 8,
   "metadata": {},
   "outputs": [],
   "source": [
    "loaded_model = pickle.load(open('model_xgb2.sav', 'rb'))\n",
    "loaded_encodings = pickle.load(open('cbenc2.pkl', 'rb'))\n",
    "tfidf_sub = pickle.load(open('tfidf.sav', 'rb'))\n",
    "tfidf_ed = pickle.load(open('tfidf_ed.sav', 'rb'))\n",
    "subPCA = pickle.load(open('subPCA.pkl', 'rb'))\n",
    "edPCA = pickle.load(open('edPCA.pkl', 'rb'))"
   ]
  },
  {
   "cell_type": "code",
   "execution_count": 12,
   "metadata": {},
   "outputs": [],
   "source": [
    "text_ed = tfidf_ed.transform(tutor_data['all_ed'])\n",
    "ed_df = pd.DataFrame(edPCA.transform(text_ed.todense()))"
   ]
  },
  {
   "cell_type": "code",
   "execution_count": 10,
   "metadata": {},
   "outputs": [
    {
     "ename": "KeyboardInterrupt",
     "evalue": "",
     "output_type": "error",
     "traceback": [
      "\u001b[0;31m---------------------------------------------------------------------------\u001b[0m",
      "\u001b[0;31mKeyboardInterrupt\u001b[0m                         Traceback (most recent call last)",
      "\u001b[0;32m<ipython-input-10-a49a0b9a4ba7>\u001b[0m in \u001b[0;36m<module>\u001b[0;34m\u001b[0m\n\u001b[1;32m      9\u001b[0m )\n\u001b[1;32m     10\u001b[0m \u001b[0mtfidf_bio\u001b[0m\u001b[0;34m.\u001b[0m\u001b[0mfit\u001b[0m\u001b[0;34m(\u001b[0m\u001b[0mtutor_data\u001b[0m\u001b[0;34m[\u001b[0m\u001b[0;34m'bio'\u001b[0m\u001b[0;34m]\u001b[0m\u001b[0;34m)\u001b[0m\u001b[0;34m\u001b[0m\u001b[0;34m\u001b[0m\u001b[0m\n\u001b[0;32m---> 11\u001b[0;31m \u001b[0mtext_bio\u001b[0m \u001b[0;34m=\u001b[0m \u001b[0mtfidf_bio\u001b[0m\u001b[0;34m.\u001b[0m\u001b[0mtransform\u001b[0m\u001b[0;34m(\u001b[0m\u001b[0mtutor_data\u001b[0m\u001b[0;34m[\u001b[0m\u001b[0;34m'bio'\u001b[0m\u001b[0;34m]\u001b[0m\u001b[0;34m)\u001b[0m\u001b[0;34m\u001b[0m\u001b[0;34m\u001b[0m\u001b[0m\n\u001b[0m",
      "\u001b[0;32m~/anaconda3/envs/insight/lib/python3.8/site-packages/sklearn/feature_extraction/text.py\u001b[0m in \u001b[0;36mtransform\u001b[0;34m(self, raw_documents, copy)\u001b[0m\n\u001b[1;32m   1896\u001b[0m                    \"be removed in 0.24.\")\n\u001b[1;32m   1897\u001b[0m             \u001b[0mwarnings\u001b[0m\u001b[0;34m.\u001b[0m\u001b[0mwarn\u001b[0m\u001b[0;34m(\u001b[0m\u001b[0mmsg\u001b[0m\u001b[0;34m,\u001b[0m \u001b[0mFutureWarning\u001b[0m\u001b[0;34m)\u001b[0m\u001b[0;34m\u001b[0m\u001b[0;34m\u001b[0m\u001b[0m\n\u001b[0;32m-> 1898\u001b[0;31m         \u001b[0mX\u001b[0m \u001b[0;34m=\u001b[0m \u001b[0msuper\u001b[0m\u001b[0;34m(\u001b[0m\u001b[0;34m)\u001b[0m\u001b[0;34m.\u001b[0m\u001b[0mtransform\u001b[0m\u001b[0;34m(\u001b[0m\u001b[0mraw_documents\u001b[0m\u001b[0;34m)\u001b[0m\u001b[0;34m\u001b[0m\u001b[0;34m\u001b[0m\u001b[0m\n\u001b[0m\u001b[1;32m   1899\u001b[0m         \u001b[0;32mreturn\u001b[0m \u001b[0mself\u001b[0m\u001b[0;34m.\u001b[0m\u001b[0m_tfidf\u001b[0m\u001b[0;34m.\u001b[0m\u001b[0mtransform\u001b[0m\u001b[0;34m(\u001b[0m\u001b[0mX\u001b[0m\u001b[0;34m,\u001b[0m \u001b[0mcopy\u001b[0m\u001b[0;34m=\u001b[0m\u001b[0;32mFalse\u001b[0m\u001b[0;34m)\u001b[0m\u001b[0;34m\u001b[0m\u001b[0;34m\u001b[0m\u001b[0m\n\u001b[1;32m   1900\u001b[0m \u001b[0;34m\u001b[0m\u001b[0m\n",
      "\u001b[0;32m~/anaconda3/envs/insight/lib/python3.8/site-packages/sklearn/feature_extraction/text.py\u001b[0m in \u001b[0;36mtransform\u001b[0;34m(self, raw_documents)\u001b[0m\n\u001b[1;32m   1268\u001b[0m \u001b[0;34m\u001b[0m\u001b[0m\n\u001b[1;32m   1269\u001b[0m         \u001b[0;31m# use the same matrix-building strategy as fit_transform\u001b[0m\u001b[0;34m\u001b[0m\u001b[0;34m\u001b[0m\u001b[0;34m\u001b[0m\u001b[0m\n\u001b[0;32m-> 1270\u001b[0;31m         \u001b[0m_\u001b[0m\u001b[0;34m,\u001b[0m \u001b[0mX\u001b[0m \u001b[0;34m=\u001b[0m \u001b[0mself\u001b[0m\u001b[0;34m.\u001b[0m\u001b[0m_count_vocab\u001b[0m\u001b[0;34m(\u001b[0m\u001b[0mraw_documents\u001b[0m\u001b[0;34m,\u001b[0m \u001b[0mfixed_vocab\u001b[0m\u001b[0;34m=\u001b[0m\u001b[0;32mTrue\u001b[0m\u001b[0;34m)\u001b[0m\u001b[0;34m\u001b[0m\u001b[0;34m\u001b[0m\u001b[0m\n\u001b[0m\u001b[1;32m   1271\u001b[0m         \u001b[0;32mif\u001b[0m \u001b[0mself\u001b[0m\u001b[0;34m.\u001b[0m\u001b[0mbinary\u001b[0m\u001b[0;34m:\u001b[0m\u001b[0;34m\u001b[0m\u001b[0;34m\u001b[0m\u001b[0m\n\u001b[1;32m   1272\u001b[0m             \u001b[0mX\u001b[0m\u001b[0;34m.\u001b[0m\u001b[0mdata\u001b[0m\u001b[0;34m.\u001b[0m\u001b[0mfill\u001b[0m\u001b[0;34m(\u001b[0m\u001b[0;36m1\u001b[0m\u001b[0;34m)\u001b[0m\u001b[0;34m\u001b[0m\u001b[0;34m\u001b[0m\u001b[0m\n",
      "\u001b[0;32m~/anaconda3/envs/insight/lib/python3.8/site-packages/sklearn/feature_extraction/text.py\u001b[0m in \u001b[0;36m_count_vocab\u001b[0;34m(self, raw_documents, fixed_vocab)\u001b[0m\n\u001b[1;32m   1141\u001b[0m \u001b[0;34m\u001b[0m\u001b[0m\n\u001b[1;32m   1142\u001b[0m             \u001b[0mj_indices\u001b[0m\u001b[0;34m.\u001b[0m\u001b[0mextend\u001b[0m\u001b[0;34m(\u001b[0m\u001b[0mfeature_counter\u001b[0m\u001b[0;34m.\u001b[0m\u001b[0mkeys\u001b[0m\u001b[0;34m(\u001b[0m\u001b[0;34m)\u001b[0m\u001b[0;34m)\u001b[0m\u001b[0;34m\u001b[0m\u001b[0;34m\u001b[0m\u001b[0m\n\u001b[0;32m-> 1143\u001b[0;31m             \u001b[0mvalues\u001b[0m\u001b[0;34m.\u001b[0m\u001b[0mextend\u001b[0m\u001b[0;34m(\u001b[0m\u001b[0mfeature_counter\u001b[0m\u001b[0;34m.\u001b[0m\u001b[0mvalues\u001b[0m\u001b[0;34m(\u001b[0m\u001b[0;34m)\u001b[0m\u001b[0;34m)\u001b[0m\u001b[0;34m\u001b[0m\u001b[0;34m\u001b[0m\u001b[0m\n\u001b[0m\u001b[1;32m   1144\u001b[0m             \u001b[0mindptr\u001b[0m\u001b[0;34m.\u001b[0m\u001b[0mappend\u001b[0m\u001b[0;34m(\u001b[0m\u001b[0mlen\u001b[0m\u001b[0;34m(\u001b[0m\u001b[0mj_indices\u001b[0m\u001b[0;34m)\u001b[0m\u001b[0;34m)\u001b[0m\u001b[0;34m\u001b[0m\u001b[0;34m\u001b[0m\u001b[0m\n\u001b[1;32m   1145\u001b[0m \u001b[0;34m\u001b[0m\u001b[0m\n",
      "\u001b[0;31mKeyboardInterrupt\u001b[0m: "
     ]
    }
   ],
   "source": [
    "stopWords = esw \n",
    "\n",
    "tfidf_bio = TfidfVectorizer(\n",
    "    min_df = 0,\n",
    "    max_df = 0.95,\n",
    "    max_features = 20000,\n",
    "    stop_words = stopWords,\n",
    "    ngram_range = (1,2)\n",
    ")\n",
    "tfidf_bio.fit(tutor_data['bio'])\n",
    "text_bio = tfidf_bio.transform(tutor_data['bio'])"
   ]
  },
  {
   "cell_type": "code",
   "execution_count": null,
   "metadata": {},
   "outputs": [],
   "source": [
    "ed_df1 = pd.DataFrame(PCA(n_components=2).fit_transform(text_ed[:10000].todense()))"
   ]
  },
  {
   "cell_type": "code",
   "execution_count": 11,
   "metadata": {},
   "outputs": [],
   "source": [
    "edPCA = PCA(n_components=2).fit(text_ed[:10000].todense())"
   ]
  },
  {
   "cell_type": "code",
   "execution_count": 9,
   "metadata": {},
   "outputs": [
    {
     "ename": "NameError",
     "evalue": "name 'text_ed' is not defined",
     "output_type": "error",
     "traceback": [
      "\u001b[0;31m---------------------------------------------------------------------------\u001b[0m",
      "\u001b[0;31mNameError\u001b[0m                                 Traceback (most recent call last)",
      "\u001b[0;32m<ipython-input-9-19ff50da4570>\u001b[0m in \u001b[0;36m<module>\u001b[0;34m\u001b[0m\n\u001b[0;32m----> 1\u001b[0;31m \u001b[0med_df\u001b[0m \u001b[0;34m=\u001b[0m \u001b[0mpd\u001b[0m\u001b[0;34m.\u001b[0m\u001b[0mDataFrame\u001b[0m\u001b[0;34m(\u001b[0m\u001b[0medPCA\u001b[0m\u001b[0;34m.\u001b[0m\u001b[0mtransform\u001b[0m\u001b[0;34m(\u001b[0m\u001b[0mtext_ed\u001b[0m\u001b[0;34m.\u001b[0m\u001b[0mtodense\u001b[0m\u001b[0;34m(\u001b[0m\u001b[0;34m)\u001b[0m\u001b[0;34m)\u001b[0m\u001b[0;34m)\u001b[0m\u001b[0;34m\u001b[0m\u001b[0;34m\u001b[0m\u001b[0m\n\u001b[0m",
      "\u001b[0;31mNameError\u001b[0m: name 'text_ed' is not defined"
     ]
    }
   ],
   "source": [
    "ed_df = pd.DataFrame(edPCA.transform(text_ed.todense()))"
   ]
  },
  {
   "cell_type": "code",
   "execution_count": 11,
   "metadata": {},
   "outputs": [],
   "source": [
    "ed_df2 = pd.DataFrame(PCA(n_components=2).fit_transform(text_ed[10000:].todense()))"
   ]
  },
  {
   "cell_type": "code",
   "execution_count": 12,
   "metadata": {},
   "outputs": [],
   "source": [
    "bio_df1 = pd.DataFrame(PCA(n_components=5).fit_transform(text_bio[:8000].todense()))"
   ]
  },
  {
   "cell_type": "code",
   "execution_count": 13,
   "metadata": {},
   "outputs": [],
   "source": [
    "bio_df2 = pd.DataFrame(PCA(n_components=5).fit_transform(text_bio[8000:].todense()))"
   ]
  },
  {
   "cell_type": "code",
   "execution_count": 21,
   "metadata": {},
   "outputs": [],
   "source": [
    "#ed_df = pd.concat([ed_df1,ed_df2],ignore_index=True)\n",
    "ed_df = ed_df.rename(columns={0 : 'ed_0', 1:'ed_1'})"
   ]
  },
  {
   "cell_type": "code",
   "execution_count": 14,
   "metadata": {},
   "outputs": [
    {
     "data": {
      "text/html": [
       "<div>\n",
       "<style scoped>\n",
       "    .dataframe tbody tr th:only-of-type {\n",
       "        vertical-align: middle;\n",
       "    }\n",
       "\n",
       "    .dataframe tbody tr th {\n",
       "        vertical-align: top;\n",
       "    }\n",
       "\n",
       "    .dataframe thead th {\n",
       "        text-align: right;\n",
       "    }\n",
       "</style>\n",
       "<table border=\"1\" class=\"dataframe\">\n",
       "  <thead>\n",
       "    <tr style=\"text-align: right;\">\n",
       "      <th></th>\n",
       "      <th>ed_0</th>\n",
       "      <th>ed_1</th>\n",
       "    </tr>\n",
       "  </thead>\n",
       "  <tbody>\n",
       "    <tr>\n",
       "      <th>0</th>\n",
       "      <td>-0.016402</td>\n",
       "      <td>-0.031496</td>\n",
       "    </tr>\n",
       "    <tr>\n",
       "      <th>1</th>\n",
       "      <td>0.669648</td>\n",
       "      <td>0.020776</td>\n",
       "    </tr>\n",
       "    <tr>\n",
       "      <th>2</th>\n",
       "      <td>-0.017695</td>\n",
       "      <td>-0.031896</td>\n",
       "    </tr>\n",
       "    <tr>\n",
       "      <th>3</th>\n",
       "      <td>-0.022501</td>\n",
       "      <td>-0.033860</td>\n",
       "    </tr>\n",
       "    <tr>\n",
       "      <th>4</th>\n",
       "      <td>-0.017356</td>\n",
       "      <td>-0.031909</td>\n",
       "    </tr>\n",
       "    <tr>\n",
       "      <th>...</th>\n",
       "      <td>...</td>\n",
       "      <td>...</td>\n",
       "    </tr>\n",
       "    <tr>\n",
       "      <th>15862</th>\n",
       "      <td>-0.019587</td>\n",
       "      <td>-0.039422</td>\n",
       "    </tr>\n",
       "    <tr>\n",
       "      <th>15863</th>\n",
       "      <td>-0.018527</td>\n",
       "      <td>-0.035644</td>\n",
       "    </tr>\n",
       "    <tr>\n",
       "      <th>15864</th>\n",
       "      <td>-0.009955</td>\n",
       "      <td>0.040209</td>\n",
       "    </tr>\n",
       "    <tr>\n",
       "      <th>15865</th>\n",
       "      <td>-0.015581</td>\n",
       "      <td>-0.029421</td>\n",
       "    </tr>\n",
       "    <tr>\n",
       "      <th>15866</th>\n",
       "      <td>-0.017706</td>\n",
       "      <td>-0.030233</td>\n",
       "    </tr>\n",
       "  </tbody>\n",
       "</table>\n",
       "<p>15867 rows × 2 columns</p>\n",
       "</div>"
      ],
      "text/plain": [
       "           ed_0      ed_1\n",
       "0     -0.016402 -0.031496\n",
       "1      0.669648  0.020776\n",
       "2     -0.017695 -0.031896\n",
       "3     -0.022501 -0.033860\n",
       "4     -0.017356 -0.031909\n",
       "...         ...       ...\n",
       "15862 -0.019587 -0.039422\n",
       "15863 -0.018527 -0.035644\n",
       "15864 -0.009955  0.040209\n",
       "15865 -0.015581 -0.029421\n",
       "15866 -0.017706 -0.030233\n",
       "\n",
       "[15867 rows x 2 columns]"
      ]
     },
     "execution_count": 14,
     "metadata": {},
     "output_type": "execute_result"
    }
   ],
   "source": [
    "ed_df"
   ]
  },
  {
   "cell_type": "code",
   "execution_count": 15,
   "metadata": {},
   "outputs": [],
   "source": [
    "bio_df = pd.concat([bio_df1,bio_df2],ignore_index=True)\n",
    "bio_df = bio_df.rename(columns={0 : 'bio_0', 1:'bio_1',2: 'bio_2',3:'bio_3',4:'bio_4'})"
   ]
  },
  {
   "cell_type": "code",
   "execution_count": 22,
   "metadata": {},
   "outputs": [],
   "source": [
    "tutor_data['ed_0'] = ed_df['ed_0']\n",
    "tutor_data['ed_1'] = ed_df['ed_1']\n",
    "#tutor_data['bio_0'] = bio_df['bio_0']\n",
    "#tutor_data['bio_1'] = bio_df['bio_1']\n",
    "#tutor_data['bio_2'] = bio_df['bio_2']\n",
    "#tutor_data['bio_3'] = bio_df['bio_3']\n",
    "#tutor_data['bio_4'] = bio_df['bio_4']"
   ]
  },
  {
   "cell_type": "code",
   "execution_count": 13,
   "metadata": {},
   "outputs": [
    {
     "data": {
      "text/html": [
       "<div>\n",
       "<style scoped>\n",
       "    .dataframe tbody tr th:only-of-type {\n",
       "        vertical-align: middle;\n",
       "    }\n",
       "\n",
       "    .dataframe tbody tr th {\n",
       "        vertical-align: top;\n",
       "    }\n",
       "\n",
       "    .dataframe thead th {\n",
       "        text-align: right;\n",
       "    }\n",
       "</style>\n",
       "<table border=\"1\" class=\"dataframe\">\n",
       "  <thead>\n",
       "    <tr style=\"text-align: right;\">\n",
       "      <th></th>\n",
       "      <th>index</th>\n",
       "      <th>tutor_ids</th>\n",
       "      <th>subjects</th>\n",
       "    </tr>\n",
       "  </thead>\n",
       "  <tbody>\n",
       "    <tr>\n",
       "      <th>0</th>\n",
       "      <td>0</td>\n",
       "      <td>7269032</td>\n",
       "      <td>Precalculus</td>\n",
       "    </tr>\n",
       "    <tr>\n",
       "      <th>1</th>\n",
       "      <td>1</td>\n",
       "      <td>7269032</td>\n",
       "      <td>French</td>\n",
       "    </tr>\n",
       "    <tr>\n",
       "      <th>2</th>\n",
       "      <td>2</td>\n",
       "      <td>7269032</td>\n",
       "      <td>European History</td>\n",
       "    </tr>\n",
       "    <tr>\n",
       "      <th>3</th>\n",
       "      <td>3</td>\n",
       "      <td>7269032</td>\n",
       "      <td>Calculus</td>\n",
       "    </tr>\n",
       "    <tr>\n",
       "      <th>4</th>\n",
       "      <td>4</td>\n",
       "      <td>7269032</td>\n",
       "      <td>Spanish</td>\n",
       "    </tr>\n",
       "  </tbody>\n",
       "</table>\n",
       "</div>"
      ],
      "text/plain": [
       "   index tutor_ids          subjects\n",
       "0      0   7269032       Precalculus\n",
       "1      1   7269032            French\n",
       "2      2   7269032  European History\n",
       "3      3   7269032          Calculus\n",
       "4      4   7269032           Spanish"
      ]
     },
     "execution_count": 13,
     "metadata": {},
     "output_type": "execute_result"
    }
   ],
   "source": [
    "sql_query = \"\"\"\n",
    "SELECT * FROM tutor_subjects\n",
    "\"\"\"\n",
    "tutor_subjects = pd.read_sql_query(sql_query,con)\n",
    "tutor_subjects.head()"
   ]
  },
  {
   "cell_type": "code",
   "execution_count": 14,
   "metadata": {},
   "outputs": [],
   "source": [
    "tutors_joined = tutor_subjects.groupby('tutor_ids')['subjects'].apply(lambda x: ' '.join(x)).reset_index()\n",
    "tutors_joined['tutor_ids']=tutors_joined['tutor_ids'].apply(float)\n",
    "tutors_joined['tutor_ids']=tutors_joined['tutor_ids'].apply(int)"
   ]
  },
  {
   "cell_type": "code",
   "execution_count": 15,
   "metadata": {},
   "outputs": [],
   "source": [
    "#all_features = ['qual_encoded','num_subjects','hours_tutoring','edu_length','sunday_hours',\n",
    "#                'monday_hours','tuesday_hours','wednesday_hours','thursday_hours','friday_hours',\n",
    "#                'saturday_hours','ivy_1e','ivy_2e','ivy_3e','hourly_rate','state_1e','state_2e',\n",
    "#                'state_3e','experience',0,1,2,3,4,'log_hourly_rate']\n",
    "cat_features = ['state','ivy_1e','ivy_2e','ivy_3e']\n",
    "all_features = ['state','qual_encoded','num_subjects','hours_tutoring','edu_length',\n",
    "                'rating_count','review_count','rating_av','bio_length',\n",
    "                'sunday_hours','monday_hours','tuesday_hours','wednesday_hours','thursday_hours','friday_hours',\n",
    "                'saturday_hours','ivy_1e','ivy_2e','ivy_3e','experience','hourly_rate','sub_0','sub_1','sub_2',\n",
    "                'sub_3','sub_4','ed_0','ed_1','log_hourly_rate','exptext','exp_tot']\n",
    "num_features = ['num_subjects','hours_tutoring','edu_length', 'rating_count', 'rating_av','review_count',\n",
    "                'sunday_hours','monday_hours','tuesday_hours','wednesday_hours','thursday_hours','friday_hours',\n",
    "                'saturday_hours','experience','bio_length','hourly_rate','sub_0','sub_1','sub_2',\n",
    "                'sub_3','sub_4','ed_0','ed_1','exptext','exp_tot']"
   ]
  },
  {
   "cell_type": "code",
   "execution_count": 17,
   "metadata": {},
   "outputs": [],
   "source": [
    "tfidf = pickle.load(open('tfidf.sav', 'rb'))\n",
    "#tfidf.fit(tutors_joined['subjects'])\n",
    "text_sub = tfidf.transform(tutors_joined['subjects'])\n",
    "#subPCA = PCA(n_components=5).fit(text.todense())\n",
    "subjects_df = pd.DataFrame(subPCA.transform(text_sub.todense()))"
   ]
  },
  {
   "cell_type": "code",
   "execution_count": 18,
   "metadata": {},
   "outputs": [],
   "source": [
    "subjects_df = subjects_df.rename(columns={0 : 'sub_0', 1:'sub_1',2: 'sub_2',3:'sub_3',4:'sub_4'})"
   ]
  },
  {
   "cell_type": "code",
   "execution_count": 23,
   "metadata": {},
   "outputs": [],
   "source": [
    "tdf = tutors_joined.join(subjects_df).drop_duplicates(subset='tutor_ids').reset_index(drop=True)\n",
    "tutors_tfidf = pd.merge(tutor_data,tdf,left_on = 'tut_id',right_on = 'tutor_ids')[all_features]"
   ]
  },
  {
   "cell_type": "code",
   "execution_count": 24,
   "metadata": {},
   "outputs": [],
   "source": [
    "tutors_outliers = tutors_tfidf[(tutors_tfidf['log_hourly_rate']<6) \n",
    "                               & (tutors_tfidf['log_hourly_rate']>2.5)]\n",
    "                             # & (tutors_tfidf['state'])]\n",
    "                    \n",
    "tutors_outliers = tutors_outliers.drop('hourly_rate',axis=1)"
   ]
  },
  {
   "cell_type": "code",
   "execution_count": 29,
   "metadata": {},
   "outputs": [],
   "source": [
    "tutors_outliers = tutors_tfidf[(tutors_tfidf['hourly_rate']<100) \n",
    "                               & (tutors_tfidf['hourly_rate']>=25)]\n",
    "                             # & (tutors_tfidf['state'])]\n",
    "                    \n",
    "tutors_outliers = tutors_outliers.drop('log_hourly_rate',axis=1)\n",
    "#tutors_outliers = tutors_outliers.drop('hourly_rate',axis=1)"
   ]
  },
  {
   "cell_type": "code",
   "execution_count": 26,
   "metadata": {},
   "outputs": [],
   "source": [
    "cbenc = ce.CatBoostEncoder(cols=cat_features, random_state=1)\n",
    "#encoded_data = tutors_outliers[num_features].join(tutors_outliers[cat_features].apply(encoder.fit_transform))"
   ]
  },
  {
   "cell_type": "code",
   "execution_count": 231,
   "metadata": {},
   "outputs": [
    {
     "data": {
      "text/plain": [
       "array([[1.000e+00, 5.000e+00, 8.390e+02, ..., 0.000e+00, 0.000e+00,\n",
       "        1.500e+01],\n",
       "       [1.000e+00, 3.100e+01, 9.620e+02, ..., 0.000e+00, 0.000e+00,\n",
       "        9.000e+00],\n",
       "       [0.000e+00, 7.200e+01, 3.899e+03, ..., 0.000e+00, 0.000e+00,\n",
       "        3.000e+01],\n",
       "       ...,\n",
       "       [1.000e+00, 2.000e+00, 0.000e+00, ..., 0.000e+00, 0.000e+00,\n",
       "        5.000e+00],\n",
       "       [1.000e+00, 1.300e+01, 0.000e+00, ..., 0.000e+00, 0.000e+00,\n",
       "        0.000e+00],\n",
       "       [0.000e+00, 1.600e+01, 0.000e+00, ..., 0.000e+00, 0.000e+00,\n",
       "        2.000e+01]])"
      ]
     },
     "execution_count": 231,
     "metadata": {},
     "output_type": "execute_result"
    }
   ],
   "source": [
    "# Set up feature data and target data\n",
    "X = tutors_outliers.drop(['log_hourly_rate',0,1], axis=1)\n",
    "\n",
    "#X = poly.fit_transform(X)\n",
    "y = tutors_outliers['log_hourly_rate']\n",
    "\n",
    "X_new = feature_selection.SelectKBest(feature_selection.f_regression, k=10).fit_transform(X, y)"
   ]
  },
  {
   "cell_type": "code",
   "execution_count": 27,
   "metadata": {},
   "outputs": [
    {
     "name": "stdout",
     "output_type": "stream",
     "text": [
      "13.659082657864232\n",
      "0.15508641233092213\n"
     ]
    }
   ],
   "source": [
    "poly = PolynomialFeatures(2)\n",
    "\n",
    "# Set up feature data and target data\n",
    "#X = tutors_outliers.drop('hourly_rate', axis=1)\n",
    "X = tutors_outliers.drop('log_hourly_rate', axis=1)\n",
    "#X = encoded_data.drop('hourly_rate', axis=1)\n",
    "\n",
    "#X = poly.fit_transform(X)\n",
    "#y = tutors_outliers['hourly_rate']\n",
    "y = tutors_outliers['log_hourly_rate']\n",
    "#y = encoded_data['hourly_rate']\n",
    "\n",
    "# Initialise a balanced logisitic regression model\n",
    "#model_base = XGBRegressor(n_estimators=400, learning_rate=0.01, random_state=1)\n",
    "model_base = LinearRegression()\n",
    "\n",
    "# Perform feature normalisation\n",
    "scaler = StandardScaler()\n",
    "\n",
    "# Split into 80% training, 20% test\n",
    "train_X, val_X, train_y, val_y = train_test_split(X, y, train_size=0.8, test_size=0.2, random_state = 1)\n",
    "\n",
    "cbenc.fit(train_X[cat_features], train_y)\n",
    "\n",
    "train_X = train_X.join(cbenc.transform(train_X[cat_features]).add_suffix('_cb'))\n",
    "train_X = train_X.drop(['state','ivy_1e','ivy_2e','ivy_3e'],axis=1)\n",
    "val_X = val_X.join(cbenc.transform(val_X[cat_features]).add_suffix('_cb'))\n",
    "val_X = val_X.drop(['state','ivy_1e','ivy_2e','ivy_3e'],axis=1)\n",
    "\n",
    "#model_base.fit(train_X.values, train_y.values)\n",
    "model_base.fit(train_X, train_y.values)\n",
    "\n",
    "preds_val = model_base.predict(val_X)\n",
    "mae = mean_absolute_error(np.exp(val_y.values), np.exp(preds_val))\n",
    "#mae = mean_absolute_error(val_y.values, preds_val)\n",
    "print(mae)\n",
    "print(model_base.score(val_X,val_y))"
   ]
  },
  {
   "cell_type": "code",
   "execution_count": 35,
   "metadata": {},
   "outputs": [
    {
     "data": {
      "text/plain": [
       "Text(0, 0.5, 'Predicted Log Hourly Rate')"
      ]
     },
     "execution_count": 35,
     "metadata": {},
     "output_type": "execute_result"
    },
    {
     "data": {
      "image/png": "[encoded data removed]",
      "text/plain": [
       "<Figure size 576x576 with 1 Axes>"
      ]
     },
     "metadata": {
      "needs_background": "light"
     },
     "output_type": "display_data"
    }
   ],
   "source": [
    "fig, ax = plt.subplots(figsize=(8, 8))\n",
    "b = sb.regplot(val_y,preds_val, color='purple')\n",
    "b.set_xlabel(\"Log Hourly Rate\",fontsize=20)\n",
    "b.set_ylabel(\"Predicted Log Hourly Rate\",fontsize=20)"
   ]
  },
  {
   "cell_type": "code",
   "execution_count": 31,
   "metadata": {},
   "outputs": [
    {
     "name": "stdout",
     "output_type": "stream",
     "text": [
      "13.234854011993505\n"
     ]
    }
   ],
   "source": [
    "# Set up feature data and target data\n",
    "#X = tutors_outliers.drop('hourly_rate', axis=1)\n",
    "#X = encoded_data.drop('hourly_rate', axis=1)\n",
    "X = tutors_outliers.drop('log_hourly_rate', axis=1)\n",
    "\n",
    "#X = poly.fit_transform(X)\n",
    "#y = encoded_data['hourly_rate']\n",
    "#y = tutors_outliers['hourly_rate']\n",
    "y = tutors_outliers['log_hourly_rate']\n",
    "\n",
    "#model_base = Lasso(alpha=0.0004)\n",
    "model_xgb = XGBRegressor(n_estimators=600, learning_rate=0.02, random_state=1)\n",
    "\n",
    "# Perform feature normalisation\n",
    "scaler = StandardScaler()\n",
    "\n",
    "\n",
    "# Split into 80% training, 20% test\n",
    "train_X, val_X, train_y, val_y = train_test_split(X, y, train_size=0.8, test_size=0.2, random_state = 1)\n",
    "\n",
    "cbenc.fit(train_X[cat_features], train_y)\n",
    "\n",
    "train_X = train_X.join(cbenc.transform(train_X[cat_features]).add_suffix('_cb'))\n",
    "train_X = train_X.drop(['state','ivy_1e','ivy_2e','ivy_3e'],axis=1)\n",
    "val_X = val_X.join(cbenc.transform(val_X[cat_features]).add_suffix('_cb'))\n",
    "val_X = val_X.drop(['state','ivy_1e','ivy_2e','ivy_3e'],axis=1)\n",
    "\n",
    "#model_base.fit(train_X.values, train_y.values)\n",
    "model_xgb.fit(train_X.values, train_y.values)\n",
    "\n",
    "preds_val = model_xgb.predict(val_X.values)\n",
    "mae = mean_absolute_error(np.exp(val_y.values), np.exp(preds_val))\n",
    "#mae = mean_absolute_error(val_y.values, preds_val)\n",
    "print(mae)"
   ]
  },
  {
   "cell_type": "code",
   "execution_count": 29,
   "metadata": {},
   "outputs": [
    {
     "name": "stdout",
     "output_type": "stream",
     "text": [
      "0.20645427247118278\n"
     ]
    }
   ],
   "source": [
    "print(model_xgb.score(val_X,val_y))"
   ]
  },
  {
   "cell_type": "code",
   "execution_count": 33,
   "metadata": {},
   "outputs": [
    {
     "data": {
      "text/plain": [
       "6.663447766307118"
      ]
     },
     "execution_count": 33,
     "metadata": {},
     "output_type": "execute_result"
    }
   ],
   "source": [
    "np.mean(np.abs((val_y - preds_val) / val_y)) * 100"
   ]
  },
  {
   "cell_type": "code",
   "execution_count": 48,
   "metadata": {},
   "outputs": [
    {
     "data": {
      "text/plain": [
       "Text(0, 0.5, 'Predicted Log Hourly Rate')"
      ]
     },
     "execution_count": 48,
     "metadata": {},
     "output_type": "execute_result"
    },
    {
     "data": {
      "image/png": "[encoded data removed]",
      "text/plain": [
       "<Figure size 576x576 with 1 Axes>"
      ]
     },
     "metadata": {
      "needs_background": "light"
     },
     "output_type": "display_data"
    }
   ],
   "source": [
    "fig, ax = plt.subplots(figsize=(8, 8))\n",
    "b = sb.regplot(val_y,preds_val, color='purple')\n",
    "b.set_xlabel(\"Log Hourly Rate\",fontsize=20)\n",
    "b.set_ylabel(\"Predicted Log Hourly Rate\",fontsize=20)"
   ]
  },
  {
   "cell_type": "code",
   "execution_count": 53,
   "metadata": {},
   "outputs": [
    {
     "data": {
      "image/png": "[encoded data removed]",
      "text/plain": [
       "<Figure size 576x576 with 1 Axes>"
      ]
     },
     "metadata": {
      "needs_background": "light"
     },
     "output_type": "display_data"
    }
   ],
   "source": [
    "fig, ax = plt.subplots(figsize=(8, 8))\n",
    "\n",
    "c = plot_importance(model_xgb,ax=ax)\n",
    "c.set_xlabel(\"F score\",fontsize=20)\n",
    "c.set_ylabel(\"Features\",fontsize=20)\n",
    "plt.show()"
   ]
  },
  {
   "cell_type": "code",
   "execution_count": 72,
   "metadata": {},
   "outputs": [
    {
     "data": {
      "text/plain": [
       "Index(['qual_encoded', 'num_subjects', 'hours_tutoring', 'edu_length',\n",
       "       'rating_count', 'review_count', 'rating_av', 'bio_length',\n",
       "       'sunday_hours', 'monday_hours', 'tuesday_hours', 'wednesday_hours',\n",
       "       'thursday_hours', 'friday_hours', 'saturday_hours', 'experience',\n",
       "       'sub_0', 'sub_1', 'sub_2', 'sub_3', 'sub_4', 'ed_0', 'ed_1', 'exptext',\n",
       "       'exp_tot', 'state_cb', 'ivy_1e_cb', 'ivy_2e_cb', 'ivy_3e_cb'],\n",
       "      dtype='object')"
      ]
     },
     "execution_count": 72,
     "metadata": {},
     "output_type": "execute_result"
    }
   ],
   "source": [
    "val_X.columns"
   ]
  },
  {
   "cell_type": "code",
   "execution_count": 67,
   "metadata": {},
   "outputs": [
    {
     "data": {
      "text/plain": [
       "6561"
      ]
     },
     "execution_count": 67,
     "metadata": {},
     "output_type": "execute_result"
    }
   ],
   "source": [
    "len(tutor_data[tutor_data['review_count']==0])"
   ]
  },
  {
   "cell_type": "code",
   "execution_count": 69,
   "metadata": {},
   "outputs": [
    {
     "name": "stderr",
     "output_type": "stream",
     "text": [
      "/home/codonnell/anaconda3/envs/insight/lib/python3.8/site-packages/pandas/core/series.py:679: RuntimeWarning: divide by zero encountered in log\n",
      "  result = getattr(ufunc, method)(*inputs, **kwargs)\n",
      "/home/codonnell/anaconda3/envs/insight/lib/python3.8/site-packages/seaborn/distributions.py:35: RuntimeWarning: invalid value encountered in double_scalars\n",
      "  return int(np.ceil((a.max() - a.min()) / h))\n"
     ]
    },
    {
     "ename": "ValueError",
     "evalue": "cannot convert float NaN to integer",
     "output_type": "error",
     "traceback": [
      "\u001b[0;31m---------------------------------------------------------------------------\u001b[0m",
      "\u001b[0;31mValueError\u001b[0m                                Traceback (most recent call last)",
      "\u001b[0;32m<ipython-input-69-78792dc69267>\u001b[0m in \u001b[0;36m<module>\u001b[0;34m\u001b[0m\n\u001b[0;32m----> 1\u001b[0;31m \u001b[0msb\u001b[0m\u001b[0;34m.\u001b[0m\u001b[0mdistplot\u001b[0m\u001b[0;34m(\u001b[0m\u001b[0mnp\u001b[0m\u001b[0;34m.\u001b[0m\u001b[0mlog\u001b[0m\u001b[0;34m(\u001b[0m\u001b[0mtutor_data\u001b[0m\u001b[0;34m[\u001b[0m\u001b[0;34m'hours_tutoring'\u001b[0m\u001b[0;34m]\u001b[0m\u001b[0;34m)\u001b[0m\u001b[0;34m)\u001b[0m\u001b[0;34m\u001b[0m\u001b[0;34m\u001b[0m\u001b[0m\n\u001b[0m",
      "\u001b[0;32m~/anaconda3/envs/insight/lib/python3.8/site-packages/seaborn/distributions.py\u001b[0m in \u001b[0;36mdistplot\u001b[0;34m(a, bins, hist, kde, rug, fit, hist_kws, kde_kws, rug_kws, fit_kws, color, vertical, norm_hist, axlabel, label, ax)\u001b[0m\n\u001b[1;32m    213\u001b[0m     \u001b[0;32mif\u001b[0m \u001b[0mhist\u001b[0m\u001b[0;34m:\u001b[0m\u001b[0;34m\u001b[0m\u001b[0;34m\u001b[0m\u001b[0m\n\u001b[1;32m    214\u001b[0m         \u001b[0;32mif\u001b[0m \u001b[0mbins\u001b[0m \u001b[0;32mis\u001b[0m \u001b[0;32mNone\u001b[0m\u001b[0;34m:\u001b[0m\u001b[0;34m\u001b[0m\u001b[0;34m\u001b[0m\u001b[0m\n\u001b[0;32m--> 215\u001b[0;31m             \u001b[0mbins\u001b[0m \u001b[0;34m=\u001b[0m \u001b[0mmin\u001b[0m\u001b[0;34m(\u001b[0m\u001b[0m_freedman_diaconis_bins\u001b[0m\u001b[0;34m(\u001b[0m\u001b[0ma\u001b[0m\u001b[0;34m)\u001b[0m\u001b[0;34m,\u001b[0m \u001b[0;36m50\u001b[0m\u001b[0;34m)\u001b[0m\u001b[0;34m\u001b[0m\u001b[0;34m\u001b[0m\u001b[0m\n\u001b[0m\u001b[1;32m    216\u001b[0m         \u001b[0mhist_kws\u001b[0m\u001b[0;34m.\u001b[0m\u001b[0msetdefault\u001b[0m\u001b[0;34m(\u001b[0m\u001b[0;34m\"alpha\"\u001b[0m\u001b[0;34m,\u001b[0m \u001b[0;36m0.4\u001b[0m\u001b[0;34m)\u001b[0m\u001b[0;34m\u001b[0m\u001b[0;34m\u001b[0m\u001b[0m\n\u001b[1;32m    217\u001b[0m         \u001b[0mhist_kws\u001b[0m\u001b[0;34m.\u001b[0m\u001b[0msetdefault\u001b[0m\u001b[0;34m(\u001b[0m\u001b[0;34m\"density\"\u001b[0m\u001b[0;34m,\u001b[0m \u001b[0mnorm_hist\u001b[0m\u001b[0;34m)\u001b[0m\u001b[0;34m\u001b[0m\u001b[0;34m\u001b[0m\u001b[0m\n",
      "\u001b[0;32m~/anaconda3/envs/insight/lib/python3.8/site-packages/seaborn/distributions.py\u001b[0m in \u001b[0;36m_freedman_diaconis_bins\u001b[0;34m(a)\u001b[0m\n\u001b[1;32m     33\u001b[0m         \u001b[0;32mreturn\u001b[0m \u001b[0mint\u001b[0m\u001b[0;34m(\u001b[0m\u001b[0mnp\u001b[0m\u001b[0;34m.\u001b[0m\u001b[0msqrt\u001b[0m\u001b[0;34m(\u001b[0m\u001b[0ma\u001b[0m\u001b[0;34m.\u001b[0m\u001b[0msize\u001b[0m\u001b[0;34m)\u001b[0m\u001b[0;34m)\u001b[0m\u001b[0;34m\u001b[0m\u001b[0;34m\u001b[0m\u001b[0m\n\u001b[1;32m     34\u001b[0m     \u001b[0;32melse\u001b[0m\u001b[0;34m:\u001b[0m\u001b[0;34m\u001b[0m\u001b[0;34m\u001b[0m\u001b[0m\n\u001b[0;32m---> 35\u001b[0;31m         \u001b[0;32mreturn\u001b[0m \u001b[0mint\u001b[0m\u001b[0;34m(\u001b[0m\u001b[0mnp\u001b[0m\u001b[0;34m.\u001b[0m\u001b[0mceil\u001b[0m\u001b[0;34m(\u001b[0m\u001b[0;34m(\u001b[0m\u001b[0ma\u001b[0m\u001b[0;34m.\u001b[0m\u001b[0mmax\u001b[0m\u001b[0;34m(\u001b[0m\u001b[0;34m)\u001b[0m \u001b[0;34m-\u001b[0m \u001b[0ma\u001b[0m\u001b[0;34m.\u001b[0m\u001b[0mmin\u001b[0m\u001b[0;34m(\u001b[0m\u001b[0;34m)\u001b[0m\u001b[0;34m)\u001b[0m \u001b[0;34m/\u001b[0m \u001b[0mh\u001b[0m\u001b[0;34m)\u001b[0m\u001b[0;34m)\u001b[0m\u001b[0;34m\u001b[0m\u001b[0;34m\u001b[0m\u001b[0m\n\u001b[0m\u001b[1;32m     36\u001b[0m \u001b[0;34m\u001b[0m\u001b[0m\n\u001b[1;32m     37\u001b[0m \u001b[0;34m\u001b[0m\u001b[0m\n",
      "\u001b[0;31mValueError\u001b[0m: cannot convert float NaN to integer"
     ]
    },
    {
     "data": {
      "image/png": "[encoded data removed]",
      "text/plain": [
       "<Figure size 432x288 with 1 Axes>"
      ]
     },
     "metadata": {
      "needs_background": "light"
     },
     "output_type": "display_data"
    }
   ],
   "source": [
    "sb.distplot(np.log(tutor_data['hours_tutoring']))"
   ]
  },
  {
   "cell_type": "code",
   "execution_count": 36,
   "metadata": {},
   "outputs": [
    {
     "data": {
      "text/plain": [
       "<matplotlib.axes._subplots.AxesSubplot at 0x7f1f88e5cbb0>"
      ]
     },
     "execution_count": 36,
     "metadata": {},
     "output_type": "execute_result"
    },
    {
     "data": {
      "image/png": "[encoded data removed]",
      "text/plain": [
       "<Figure size 432x288 with 1 Axes>"
      ]
     },
     "metadata": {
      "needs_background": "light"
     },
     "output_type": "display_data"
    }
   ],
   "source": [
    "sb.distplot(tutors_outliers['hourly_rate'])"
   ]
  },
  {
   "cell_type": "code",
   "execution_count": 32,
   "metadata": {},
   "outputs": [],
   "source": [
    "filename = 'model_xgb3.sav'\n",
    "pickle.dump(model_xgb, open(filename, 'wb'))"
   ]
  },
  {
   "cell_type": "code",
   "execution_count": 55,
   "metadata": {},
   "outputs": [],
   "source": [
    "#pickle.dump(edPCA.pkl)\n",
    "pickle.dump(edPCA, open(\"edPCA.pkl\", \"wb\" ))\n",
    "pickle.dump(subPCA, open(\"subPCA.pkl\", \"wb\" ))"
   ]
  },
  {
   "cell_type": "code",
   "execution_count": 56,
   "metadata": {},
   "outputs": [],
   "source": [
    "pickle.dump(tfidf_ed, open(\"tfidf_ed.sav\", \"wb\" ))"
   ]
  },
  {
   "cell_type": "code",
   "execution_count": 57,
   "metadata": {},
   "outputs": [],
   "source": [
    "pickle.dump(tutors_outliers, open(\"tutors_outliers.pkl\", \"wb\" ))"
   ]
  },
  {
   "cell_type": "code",
   "execution_count": 58,
   "metadata": {},
   "outputs": [],
   "source": [
    "pickle.dump(cbenc, open(\"cbenc2.pkl\", \"wb\"))"
   ]
  },
  {
   "cell_type": "code",
   "execution_count": 85,
   "metadata": {},
   "outputs": [
    {
     "data": {
      "text/plain": [
       "Index([          'state',    'qual_encoded',    'num_subjects',\n",
       "        'hours_tutoring',      'edu_length',    'sunday_hours',\n",
       "          'monday_hours',   'tuesday_hours', 'wednesday_hours',\n",
       "        'thursday_hours',    'friday_hours',  'saturday_hours',\n",
       "                'ivy_1e',          'ivy_2e',          'ivy_3e',\n",
       "            'experience',                 0,                 1,\n",
       "                       2,                 3,                 4,\n",
       "       'log_hourly_rate'],\n",
       "      dtype='object')"
      ]
     },
     "execution_count": 85,
     "metadata": {},
     "output_type": "execute_result"
    }
   ],
   "source": [
    "tutors_outliers.columns"
   ]
  },
  {
   "cell_type": "code",
   "execution_count": 250,
   "metadata": {},
   "outputs": [
    {
     "data": {
      "text/plain": [
       "1626"
      ]
     },
     "execution_count": 250,
     "metadata": {},
     "output_type": "execute_result"
    }
   ],
   "source": [
    "len(val_y)"
   ]
  },
  {
   "cell_type": "code",
   "execution_count": 147,
   "metadata": {},
   "outputs": [],
   "source": [
    "test_data = tutor_data[(tutor_data['hourly_rate']<100) \n",
    "                               & (tutor_data['hourly_rate']>20)]"
   ]
  },
  {
   "cell_type": "code",
   "execution_count": 171,
   "metadata": {},
   "outputs": [],
   "source": [
    "#edges = [20,30,40,50,60,70,80,90,100]\n",
    "edges = [20,40,60,80,100]\n",
    "bio_bins = []\n",
    "\n",
    "for i in range(0,len(edges)-1):\n",
    "    df = test_data[(test_data['hourly_rate']>=edges[i])& (test_data['hourly_rate']<edges[i+1])]\n",
    "    bios = ' '.join(df['bio'])\n",
    "    bio_bins.append(bios)"
   ]
  },
  {
   "cell_type": "code",
   "execution_count": 172,
   "metadata": {},
   "outputs": [],
   "source": [
    "bio_df = pd.DataFrame({'interval':np.array(edges[1:]), 'bios': np.array(bio_bins)})"
   ]
  },
  {
   "cell_type": "code",
   "execution_count": 174,
   "metadata": {},
   "outputs": [],
   "source": [
    "stopWords = esw \n",
    "\n",
    "tfidf = TfidfVectorizer(\n",
    "    min_df = 0,\n",
    "    max_df = 0.95,\n",
    "    max_features = 20000,\n",
    "    stop_words = stopWords,\n",
    "    ngram_range = (1,2)\n",
    ")\n",
    "tfidf.fit(bio_df['bios'])\n",
    "text = tfidf.transform(bio_df['bios'])"
   ]
  },
  {
   "cell_type": "code",
   "execution_count": null,
   "metadata": {},
   "outputs": [],
   "source": [
    "def get_top_keywords(data, clusters, labels, n_terms):\n",
    "    df = pd.DataFrame(data.todense()).groupby(clusters).mean()\n",
    "    \n",
    "    for i,r in df.iterrows():\n",
    "        print('\\nCluster {}'.format(i))\n",
    "        print(','.join([labels[t] for t in np.argsort(r)[-n_terms:]]))\n",
    "            \n",
    "get_top_keywords(text, clusters, tfidf.get_feature_names(), 10)"
   ]
  },
  {
   "cell_type": "code",
   "execution_count": 175,
   "metadata": {},
   "outputs": [
    {
     "name": "stdout",
     "output_type": "stream",
     "text": [
      "denver,little bit,military,english speakers,school love,korean,colombia,small groups,early childhood,substitute teacher\n",
      "returned,facilitate,obtaining,university north,indiana,gis,small groups,english speakers,substitute teacher,early childhood\n",
      "geometry pre,teaching esl,painting,mathematics education,relations,accent,provides,denver,doctoral,small groups\n",
      "massachusetts institute,cooper,ian,stacy,wharton,martial arts,congratulations,stony,stony brook,brook\n"
     ]
    }
   ],
   "source": [
    "labels = tfidf.get_feature_names()\n",
    "\n",
    "for i in range(0,len(edges)-1):\n",
    "    \n",
    "    print(','.join([labels[t] for t in np.argsort(np.array(text.todense()[i,:]))[0][-10:]]))"
   ]
  },
  {
   "cell_type": "code",
   "execution_count": 169,
   "metadata": {},
   "outputs": [
    {
     "data": {
      "text/plain": [
       "['open',\n",
       " 'substitute',\n",
       " 'younger',\n",
       " 'illustrator',\n",
       " 'charlotte',\n",
       " 'activities',\n",
       " 'later',\n",
       " 'lab',\n",
       " 'teaching english',\n",
       " 'special education']"
      ]
     },
     "execution_count": 169,
     "metadata": {},
     "output_type": "execute_result"
    }
   ],
   "source": [
    "[labels[t] for t in np.argsort(np.array(text.todense()[0,:]))[0][-10:]]"
   ]
  },
  {
   "cell_type": "code",
   "execution_count": 61,
   "metadata": {},
   "outputs": [],
   "source": [
    "bio1 =tutor_data[tutor_data['bio'].str.contains('years')]['bio'].iloc[0]\n",
    "bio2 =tutor_data[~tutor_data['bio'].str.contains('years')]['bio'].iloc[3]"
   ]
  },
  {
   "cell_type": "code",
   "execution_count": 116,
   "metadata": {},
   "outputs": [
    {
     "data": {
      "text/plain": [
       "<matplotlib.axes._subplots.AxesSubplot at 0x7f8333688a30>"
      ]
     },
     "execution_count": 116,
     "metadata": {},
     "output_type": "execute_result"
    },
    {
     "data": {
      "image/png": "[encoded data removed]",
      "text/plain": [
       "<Figure size 432x288 with 1 Axes>"
      ]
     },
     "metadata": {
      "needs_background": "light"
     },
     "output_type": "display_data"
    }
   ],
   "source": [
    "sb.regplot(tutors_outliers['ivy_1e'],tutors_outliers['log_hourly_rate'])"
   ]
  },
  {
   "cell_type": "code",
   "execution_count": 192,
   "metadata": {},
   "outputs": [],
   "source": [
    "tutor_ca = pd.merge(tutor_data,tdf,left_on = 'tut_id',right_on = 'tutor_ids')\n",
    "tutor_ca = tutor_ca[tutor_ca['state']=='CA'][all_features]\n",
    "tutor_ca = tutor_ca.drop('hourly_rate',axis=1)\n",
    "tutor_ca = tutor_ca[(tutor_ca['log_hourly_rate']<4.7) \n",
    "                               & (tutor_ca['log_hourly_rate']>2.9)]"
   ]
  },
  {
   "cell_type": "code",
   "execution_count": 195,
   "metadata": {},
   "outputs": [
    {
     "name": "stdout",
     "output_type": "stream",
     "text": [
      "13.413571189628287\n"
     ]
    }
   ],
   "source": [
    "X = tutor_ca.drop('log_hourly_rate', axis=1)\n",
    "\n",
    "#X = poly.fit_transform(X)\n",
    "y = tutor_ca['log_hourly_rate']\n",
    "\n",
    "model_base = Lasso(alpha=0.003)\n",
    "#model_base = XGBRegressor(n_estimators=500, learning_rate=0.01, random_state=1)\n",
    "\n",
    "# Perform feature normalisation\n",
    "scaler = StandardScaler()\n",
    "\n",
    "# Split into 80% training, 20% test\n",
    "train_X, val_X, train_y, val_y = train_test_split(scaler.fit_transform(X), y, train_size=0.8, test_size=0.2, random_state = 1)\n",
    "\n",
    "#model_base.fit(train_X.values, train_y.values)\n",
    "model_base.fit(train_X, train_y.values)\n",
    "\n",
    "preds_val = model_base.predict(val_X)\n",
    "mae = mean_absolute_error(np.exp(val_y.values), np.exp(preds_val))\n",
    "#mae = mean_absolute_error(val_y.values, preds_val)\n",
    "print(mae)"
   ]
  },
  {
   "cell_type": "code",
   "execution_count": 196,
   "metadata": {},
   "outputs": [
    {
     "data": {
      "text/plain": [
       "<matplotlib.axes._subplots.AxesSubplot at 0x7f83329bd2e0>"
      ]
     },
     "execution_count": 196,
     "metadata": {},
     "output_type": "execute_result"
    },
    {
     "data": {
      "image/png": "[encoded data removed]",
      "text/plain": [
       "<Figure size 432x288 with 1 Axes>"
      ]
     },
     "metadata": {
      "needs_background": "light"
     },
     "output_type": "display_data"
    }
   ],
   "source": [
    "sb.regplot(val_y,preds_val)"
   ]
  },
  {
   "cell_type": "code",
   "execution_count": 198,
   "metadata": {},
   "outputs": [
    {
     "data": {
      "text/plain": [
       "state\n",
       "AL     70.000000\n",
       "AZ     45.859813\n",
       "CA     55.920901\n",
       "CO     48.272727\n",
       "CT    180.000000\n",
       "DC     58.707692\n",
       "DE     48.781250\n",
       "FL     45.384546\n",
       "GA     45.550725\n",
       "IL     52.996473\n",
       "IN     44.238095\n",
       "KS     49.166667\n",
       "KY     79.000000\n",
       "MA    173.500000\n",
       "MD     53.842857\n",
       "MI     44.507246\n",
       "MN     49.167832\n",
       "MO     45.701031\n",
       "NC     44.375887\n",
       "NE     75.000000\n",
       "NJ     57.391608\n",
       "NM     39.179487\n",
       "NV     41.857143\n",
       "NY     72.618307\n",
       "OH     46.823529\n",
       "OK     15.000000\n",
       "OR     42.500000\n",
       "PA     48.549828\n",
       "SC     75.230769\n",
       "TN     47.306452\n",
       "TX     47.542657\n",
       "UT     42.718750\n",
       "VA     47.888889\n",
       "WA     52.807175\n",
       "WI     12.000000\n",
       "WV     35.000000\n",
       "Name: hourly_rate, dtype: float64"
      ]
     },
     "execution_count": 198,
     "metadata": {},
     "output_type": "execute_result"
    }
   ],
   "source": [
    "tutor_data.groupby('state')['hourly_rate'].mean()"
   ]
  },
  {
   "cell_type": "code",
   "execution_count": 108,
   "metadata": {},
   "outputs": [],
   "source": [
    "old_model = pickle.load(open('/home/codonnell/Insight/astutor_flask/model_base.sav', 'rb'))\n",
    "cbenc = pickle.load(open('/home/codonnell/Insight/astutor_flask/cb_encoding.sav', 'rb'))"
   ]
  },
  {
   "cell_type": "code",
   "execution_count": 119,
   "metadata": {},
   "outputs": [],
   "source": [
    "cat_features =['state','qual_encoded']"
   ]
  },
  {
   "cell_type": "code",
   "execution_count": 124,
   "metadata": {},
   "outputs": [
    {
     "ename": "KeyError",
     "evalue": "\"['background_check', 'state', 'mean_hours'] not in index\"",
     "output_type": "error",
     "traceback": [
      "\u001b[0;31m---------------------------------------------------------------------------\u001b[0m",
      "\u001b[0;31mKeyError\u001b[0m                                  Traceback (most recent call last)",
      "\u001b[0;32m<ipython-input-124-8010f9ada977>\u001b[0m in \u001b[0;36m<module>\u001b[0;34m\u001b[0m\n\u001b[1;32m      1\u001b[0m \u001b[0;31m# Set up feature data and target data\u001b[0m\u001b[0;34m\u001b[0m\u001b[0;34m\u001b[0m\u001b[0;34m\u001b[0m\u001b[0m\n\u001b[0;32m----> 2\u001b[0;31m X = tutors_outliers[['state','qual_encoded', 'background_check',\n\u001b[0m\u001b[1;32m      3\u001b[0m                    'num_subjects','hours_tutoring','edu_length','mean_hours']]\n\u001b[1;32m      4\u001b[0m \u001b[0my\u001b[0m \u001b[0;34m=\u001b[0m \u001b[0mtutors_outliers\u001b[0m\u001b[0;34m[\u001b[0m\u001b[0;34m'log_hourly_rate'\u001b[0m\u001b[0;34m]\u001b[0m\u001b[0;34m\u001b[0m\u001b[0;34m\u001b[0m\u001b[0m\n\u001b[1;32m      5\u001b[0m \u001b[0;34m\u001b[0m\u001b[0m\n",
      "\u001b[0;32m~/anaconda3/envs/insight/lib/python3.8/site-packages/pandas/core/frame.py\u001b[0m in \u001b[0;36m__getitem__\u001b[0;34m(self, key)\u001b[0m\n\u001b[1;32m   2804\u001b[0m             \u001b[0;32mif\u001b[0m \u001b[0mis_iterator\u001b[0m\u001b[0;34m(\u001b[0m\u001b[0mkey\u001b[0m\u001b[0;34m)\u001b[0m\u001b[0;34m:\u001b[0m\u001b[0;34m\u001b[0m\u001b[0;34m\u001b[0m\u001b[0m\n\u001b[1;32m   2805\u001b[0m                 \u001b[0mkey\u001b[0m \u001b[0;34m=\u001b[0m \u001b[0mlist\u001b[0m\u001b[0;34m(\u001b[0m\u001b[0mkey\u001b[0m\u001b[0;34m)\u001b[0m\u001b[0;34m\u001b[0m\u001b[0;34m\u001b[0m\u001b[0m\n\u001b[0;32m-> 2806\u001b[0;31m             \u001b[0mindexer\u001b[0m \u001b[0;34m=\u001b[0m \u001b[0mself\u001b[0m\u001b[0;34m.\u001b[0m\u001b[0mloc\u001b[0m\u001b[0;34m.\u001b[0m\u001b[0m_get_listlike_indexer\u001b[0m\u001b[0;34m(\u001b[0m\u001b[0mkey\u001b[0m\u001b[0;34m,\u001b[0m \u001b[0maxis\u001b[0m\u001b[0;34m=\u001b[0m\u001b[0;36m1\u001b[0m\u001b[0;34m,\u001b[0m \u001b[0mraise_missing\u001b[0m\u001b[0;34m=\u001b[0m\u001b[0;32mTrue\u001b[0m\u001b[0;34m)\u001b[0m\u001b[0;34m[\u001b[0m\u001b[0;36m1\u001b[0m\u001b[0;34m]\u001b[0m\u001b[0;34m\u001b[0m\u001b[0;34m\u001b[0m\u001b[0m\n\u001b[0m\u001b[1;32m   2807\u001b[0m \u001b[0;34m\u001b[0m\u001b[0m\n\u001b[1;32m   2808\u001b[0m         \u001b[0;31m# take() does not accept boolean indexers\u001b[0m\u001b[0;34m\u001b[0m\u001b[0;34m\u001b[0m\u001b[0;34m\u001b[0m\u001b[0m\n",
      "\u001b[0;32m~/anaconda3/envs/insight/lib/python3.8/site-packages/pandas/core/indexing.py\u001b[0m in \u001b[0;36m_get_listlike_indexer\u001b[0;34m(self, key, axis, raise_missing)\u001b[0m\n\u001b[1;32m   1550\u001b[0m             \u001b[0mkeyarr\u001b[0m\u001b[0;34m,\u001b[0m \u001b[0mindexer\u001b[0m\u001b[0;34m,\u001b[0m \u001b[0mnew_indexer\u001b[0m \u001b[0;34m=\u001b[0m \u001b[0max\u001b[0m\u001b[0;34m.\u001b[0m\u001b[0m_reindex_non_unique\u001b[0m\u001b[0;34m(\u001b[0m\u001b[0mkeyarr\u001b[0m\u001b[0;34m)\u001b[0m\u001b[0;34m\u001b[0m\u001b[0;34m\u001b[0m\u001b[0m\n\u001b[1;32m   1551\u001b[0m \u001b[0;34m\u001b[0m\u001b[0m\n\u001b[0;32m-> 1552\u001b[0;31m         self._validate_read_indexer(\n\u001b[0m\u001b[1;32m   1553\u001b[0m             \u001b[0mkeyarr\u001b[0m\u001b[0;34m,\u001b[0m \u001b[0mindexer\u001b[0m\u001b[0;34m,\u001b[0m \u001b[0mo\u001b[0m\u001b[0;34m.\u001b[0m\u001b[0m_get_axis_number\u001b[0m\u001b[0;34m(\u001b[0m\u001b[0maxis\u001b[0m\u001b[0;34m)\u001b[0m\u001b[0;34m,\u001b[0m \u001b[0mraise_missing\u001b[0m\u001b[0;34m=\u001b[0m\u001b[0mraise_missing\u001b[0m\u001b[0;34m\u001b[0m\u001b[0;34m\u001b[0m\u001b[0m\n\u001b[1;32m   1554\u001b[0m         )\n",
      "\u001b[0;32m~/anaconda3/envs/insight/lib/python3.8/site-packages/pandas/core/indexing.py\u001b[0m in \u001b[0;36m_validate_read_indexer\u001b[0;34m(self, key, indexer, axis, raise_missing)\u001b[0m\n\u001b[1;32m   1644\u001b[0m             \u001b[0;32mif\u001b[0m \u001b[0;32mnot\u001b[0m \u001b[0;34m(\u001b[0m\u001b[0mself\u001b[0m\u001b[0;34m.\u001b[0m\u001b[0mname\u001b[0m \u001b[0;34m==\u001b[0m \u001b[0;34m\"loc\"\u001b[0m \u001b[0;32mand\u001b[0m \u001b[0;32mnot\u001b[0m \u001b[0mraise_missing\u001b[0m\u001b[0;34m)\u001b[0m\u001b[0;34m:\u001b[0m\u001b[0;34m\u001b[0m\u001b[0;34m\u001b[0m\u001b[0m\n\u001b[1;32m   1645\u001b[0m                 \u001b[0mnot_found\u001b[0m \u001b[0;34m=\u001b[0m \u001b[0mlist\u001b[0m\u001b[0;34m(\u001b[0m\u001b[0mset\u001b[0m\u001b[0;34m(\u001b[0m\u001b[0mkey\u001b[0m\u001b[0;34m)\u001b[0m \u001b[0;34m-\u001b[0m \u001b[0mset\u001b[0m\u001b[0;34m(\u001b[0m\u001b[0max\u001b[0m\u001b[0;34m)\u001b[0m\u001b[0;34m)\u001b[0m\u001b[0;34m\u001b[0m\u001b[0;34m\u001b[0m\u001b[0m\n\u001b[0;32m-> 1646\u001b[0;31m                 \u001b[0;32mraise\u001b[0m \u001b[0mKeyError\u001b[0m\u001b[0;34m(\u001b[0m\u001b[0;34mf\"{not_found} not in index\"\u001b[0m\u001b[0;34m)\u001b[0m\u001b[0;34m\u001b[0m\u001b[0;34m\u001b[0m\u001b[0m\n\u001b[0m\u001b[1;32m   1647\u001b[0m \u001b[0;34m\u001b[0m\u001b[0m\n\u001b[1;32m   1648\u001b[0m             \u001b[0;31m# we skip the warning on Categorical/Interval\u001b[0m\u001b[0;34m\u001b[0m\u001b[0;34m\u001b[0m\u001b[0;34m\u001b[0m\u001b[0m\n",
      "\u001b[0;31mKeyError\u001b[0m: \"['background_check', 'state', 'mean_hours'] not in index\""
     ]
    }
   ],
   "source": [
    "# Set up feature data and target data\n",
    "X = tutors_outliers[['state','qual_encoded', 'background_check',\n",
    "                   'num_subjects','hours_tutoring','edu_length','mean_hours']]\n",
    "y = tutors_outliers['log_hourly_rate']\n",
    "\n",
    "# Initialise a balanced logisitic regression model\n",
    "#model_base = XGBRegressor(n_estimators=400, learning_rate=0.01, random_state=1)\n",
    "model_base = RandomForestRegressor(criterion = 'mae' , random_state=1)\n",
    "\n",
    "# Perform feature normalisation\n",
    "#scaler = StandardScaler()\n",
    "\n",
    "# Split into 80% training, 20% test\n",
    "train_X, val_X, train_y, val_y = train_test_split(X, y, train_size=0.8, test_size=0.2, random_state = 1)\n",
    "\n",
    "#cbenc.fit(train_X[cat_features], train_y)\n",
    "\n",
    "train_X = train_X.join(cbenc.transform(train_X[cat_features]).add_suffix('_cb'))\n",
    "train_X = train_X.drop('state',axis=1)\n",
    "val_X = val_X.join(cbenc.transform(val_X[cat_features]).add_suffix('_cb'))\n",
    "val_X = val_X.drop('state',axis=1)\n",
    "\n",
    "model_base.fit(train_X.values, train_y.values)\n",
    "\n",
    "preds_val = model_base.predict(val_X.values)\n",
    "mae = mean_absolute_error(np.exp(val_y.values), np.exp(preds_val))"
   ]
  },
  {
   "cell_type": "code",
   "execution_count": 121,
   "metadata": {},
   "outputs": [
    {
     "data": {
      "text/plain": [
       "16.45776408997905"
      ]
     },
     "execution_count": 121,
     "metadata": {},
     "output_type": "execute_result"
    }
   ],
   "source": [
    "mae"
   ]
  },
  {
   "cell_type": "code",
   "execution_count": 122,
   "metadata": {},
   "outputs": [
    {
     "data": {
      "text/plain": [
       "<matplotlib.axes._subplots.AxesSubplot at 0x7f7bb4bd8e80>"
      ]
     },
     "execution_count": 122,
     "metadata": {},
     "output_type": "execute_result"
    },
    {
     "data": {
      "image/png": "[encoded data removed]",
      "text/plain": [
       "<Figure size 432x288 with 1 Axes>"
      ]
     },
     "metadata": {
      "needs_background": "light"
     },
     "output_type": "display_data"
    }
   ],
   "source": [
    "sb.regplot(val_y,preds_val)"
   ]
  },
  {
   "cell_type": "code",
   "execution_count": 55,
   "metadata": {},
   "outputs": [],
   "source": [
    "test_str = 'a fshdslf !FIve six gjdfhs'\n",
    "numbers = ['one','two','three','four','five','six','seven','eight','nine','ten','eleven','twelve',\n",
    "          'thirteen','fourteen','fifteen','sixteen','seventeen','eighteen','nineteen','twenty','thirty',\n",
    "          'forty','fifty']\n",
    "numbers_dict = {'one':1,'two':2,'three':3,'four':4,'five':5,'six':6,'seven':7,'eight':8,'nine':9,'ten':10,\n",
    "                'eleven':11,'twelve':12, 'thirteen':13,'fourteen':14,'fifteen':15,'sixteen':16,'seventeen':17,\n",
    "                'eighteen':18,'nineteen':19,'twenty':20,'thirty':30,'forty':40,'fifty':50}\n",
    "\n",
    "if any(x in test_str for x in numbers):\n",
    "    matches = [x for x in numbers if x in test_str]\n",
    "    sum([numbers_dict[x] for x in matches])"
   ]
  },
  {
   "cell_type": "code",
   "execution_count": null,
   "metadata": {},
   "outputs": [],
   "source": []
  },
  {
   "cell_type": "code",
   "execution_count": 58,
   "metadata": {},
   "outputs": [
    {
     "data": {
      "text/plain": [
       "11"
      ]
     },
     "execution_count": 58,
     "metadata": {},
     "output_type": "execute_result"
    }
   ],
   "source": [
    "get_exp_text(test_str)"
   ]
  },
  {
   "cell_type": "code",
   "execution_count": 63,
   "metadata": {},
   "outputs": [
    {
     "data": {
      "text/plain": [
       "<matplotlib.axes._subplots.AxesSubplot at 0x7f1f8847fb50>"
      ]
     },
     "execution_count": 63,
     "metadata": {},
     "output_type": "execute_result"
    },
    {
     "data": {
      "image/png": "[encoded data removed]",
      "text/plain": [
       "<Figure size 432x288 with 1 Axes>"
      ]
     },
     "metadata": {
      "needs_background": "light"
     },
     "output_type": "display_data"
    }
   ],
   "source": [
    "sb.regplot(tutor_data['exptext']+tutor_data['experience'],tutor_data['hourly_rate'])"
   ]
  }
 ],
 "metadata": {
  "kernelspec": {
   "display_name": "Python 3",
   "language": "python",
   "name": "python3"
  },
  "language_info": {
   "codemirror_mode": {
    "name": "ipython",
    "version": 3
   },
   "file_extension": ".py",
   "mimetype": "text/x-python",
   "name": "python",
   "nbconvert_exporter": "python",
   "pygments_lexer": "ipython3",
   "version": "3.8.2"
  }
 },
 "nbformat": 4,
 "nbformat_minor": 4
}
