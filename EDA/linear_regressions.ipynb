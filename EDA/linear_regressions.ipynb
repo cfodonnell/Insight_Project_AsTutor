{
 "cells": [
  {
   "cell_type": "code",
   "execution_count": 63,
   "metadata": {},
   "outputs": [],
   "source": [
    "import time\n",
    "import numpy as np\n",
    "import pandas as pd\n",
    "import json\n",
    "import seaborn as sb\n",
    "from matplotlib import pyplot as plt\n",
    "from matplotlib import rcParams\n",
    "import matplotlib.cm as cm\n",
    "from matplotlib.colors import ListedColormap\n",
    "import seaborn as sb\n",
    "import pickle\n",
    "import re\n",
    "\n",
    "from sqlalchemy import create_engine\n",
    "from sqlalchemy_utils import database_exists, create_database\n",
    "import psycopg2\n",
    "\n",
    "from sklearn.cluster import MiniBatchKMeans\n",
    "from sklearn.feature_extraction.text import TfidfVectorizer\n",
    "from sklearn.decomposition import PCA\n",
    "from sklearn.manifold import TSNE\n",
    "import category_encoders as ce\n",
    "from sklearn.preprocessing import OneHotEncoder\n",
    "from sklearn.preprocessing import LabelEncoder\n",
    "from sklearn import metrics\n",
    "from sklearn.model_selection import KFold\n",
    "from sklearn.model_selection import cross_val_score\n",
    "from sklearn.model_selection import train_test_split\n",
    "from sklearn.ensemble import RandomForestRegressor\n",
    "from sklearn.preprocessing import StandardScaler\n",
    "from xgboost import XGBRegressor\n",
    "from sklearn.metrics import mean_absolute_error\n",
    "from xgboost import plot_importance\n",
    "from sklearn.metrics import r2_score\n",
    "from sklearn.feature_extraction.text import ENGLISH_STOP_WORDS as esw\n",
    "from sklearn.linear_model import LinearRegression\n",
    "from sklearn.linear_model import Lasso\n",
    "from sklearn.preprocessing import PolynomialFeatures"
   ]
  },
  {
   "cell_type": "code",
   "execution_count": 88,
   "metadata": {},
   "outputs": [],
   "source": [
    "def qual_encode(qual):\n",
    "    \n",
    "    qual_list = ['Masters','MBA','PhD','J.D.']\n",
    "    qual_encodings = {'Masters': 1, 'MBA': 1, 'PhD': 2, 'J.D.': 3}\n",
    "    if qual in qual_list:\n",
    "        return qual_encodings[qual]\n",
    "    else:\n",
    "        return 0\n",
    "    \n",
    "def get_exp(bio):\n",
    "    \n",
    "    if 'years' in bio:\n",
    "        yrs = np.array([int(i) for i in re.findall('\\d+', bio)])\n",
    "        if len(yrs[yrs<50])>0:\n",
    "            return max(yrs[yrs<50])\n",
    "        else:\n",
    "            return 0\n",
    "    else:\n",
    "        return 0 "
   ]
  },
  {
   "cell_type": "code",
   "execution_count": 3,
   "metadata": {},
   "outputs": [
    {
     "data": {
      "text/html": [
       "<div>\n",
       "<style scoped>\n",
       "    .dataframe tbody tr th:only-of-type {\n",
       "        vertical-align: middle;\n",
       "    }\n",
       "\n",
       "    .dataframe tbody tr th {\n",
       "        vertical-align: top;\n",
       "    }\n",
       "\n",
       "    .dataframe thead th {\n",
       "        text-align: right;\n",
       "    }\n",
       "</style>\n",
       "<table border=\"1\" class=\"dataframe\">\n",
       "  <thead>\n",
       "    <tr style=\"text-align: right;\">\n",
       "      <th></th>\n",
       "      <th>index</th>\n",
       "      <th>description</th>\n",
       "      <th>hourly_rate</th>\n",
       "      <th>bio</th>\n",
       "      <th>background_check</th>\n",
       "      <th>tut_id</th>\n",
       "      <th>photo</th>\n",
       "      <th>rating_count</th>\n",
       "      <th>rating_av</th>\n",
       "      <th>review_count</th>\n",
       "      <th>...</th>\n",
       "      <th>sunday_hours</th>\n",
       "      <th>monday_hours</th>\n",
       "      <th>tuesday_hours</th>\n",
       "      <th>wednesday_hours</th>\n",
       "      <th>thursday_hours</th>\n",
       "      <th>friday_hours</th>\n",
       "      <th>saturday_hours</th>\n",
       "      <th>mean_hours</th>\n",
       "      <th>log_hourly_rate</th>\n",
       "      <th>qual_encoded</th>\n",
       "    </tr>\n",
       "  </thead>\n",
       "  <tbody>\n",
       "    <tr>\n",
       "      <th>0</th>\n",
       "      <td>0</td>\n",
       "      <td>Fun Experienced Tutor!</td>\n",
       "      <td>60</td>\n",
       "      <td>['Hi!', \"I'm an experienced tutor with a sense...</td>\n",
       "      <td>1</td>\n",
       "      <td>7269032</td>\n",
       "      <td>1</td>\n",
       "      <td>269</td>\n",
       "      <td>4.98885</td>\n",
       "      <td>15.0</td>\n",
       "      <td>...</td>\n",
       "      <td>0.583333</td>\n",
       "      <td>0.416667</td>\n",
       "      <td>0.583333</td>\n",
       "      <td>0.375000</td>\n",
       "      <td>0.375000</td>\n",
       "      <td>0.583333</td>\n",
       "      <td>0.583333</td>\n",
       "      <td>0.500000</td>\n",
       "      <td>4.094345</td>\n",
       "      <td>1</td>\n",
       "    </tr>\n",
       "    <tr>\n",
       "      <th>1</th>\n",
       "      <td>1</td>\n",
       "      <td>Math, Writing and Econ Specialist, 8+ Years Tu...</td>\n",
       "      <td>75</td>\n",
       "      <td>['From Algebra to MLA, Middle School to MBA, I...</td>\n",
       "      <td>1</td>\n",
       "      <td>7277990</td>\n",
       "      <td>1</td>\n",
       "      <td>338</td>\n",
       "      <td>4.93195</td>\n",
       "      <td>18.0</td>\n",
       "      <td>...</td>\n",
       "      <td>0.500000</td>\n",
       "      <td>0.541667</td>\n",
       "      <td>0.583333</td>\n",
       "      <td>0.583333</td>\n",
       "      <td>0.583333</td>\n",
       "      <td>0.500000</td>\n",
       "      <td>0.333333</td>\n",
       "      <td>0.517857</td>\n",
       "      <td>4.317488</td>\n",
       "      <td>1</td>\n",
       "    </tr>\n",
       "    <tr>\n",
       "      <th>2</th>\n",
       "      <td>2</td>\n",
       "      <td>Top-Rated Test Prep (SAT / ACT / ISEE / HSPT) ...</td>\n",
       "      <td>95</td>\n",
       "      <td>[\"I am an experienced (3000+ hours) tutor cert...</td>\n",
       "      <td>1</td>\n",
       "      <td>7611743</td>\n",
       "      <td>1</td>\n",
       "      <td>1046</td>\n",
       "      <td>4.94349</td>\n",
       "      <td>74.0</td>\n",
       "      <td>...</td>\n",
       "      <td>1.000000</td>\n",
       "      <td>1.000000</td>\n",
       "      <td>1.000000</td>\n",
       "      <td>1.000000</td>\n",
       "      <td>1.000000</td>\n",
       "      <td>1.000000</td>\n",
       "      <td>1.000000</td>\n",
       "      <td>1.000000</td>\n",
       "      <td>4.553877</td>\n",
       "      <td>0</td>\n",
       "    </tr>\n",
       "    <tr>\n",
       "      <th>3</th>\n",
       "      <td>3</td>\n",
       "      <td>Congratulations to my students entering Harvar...</td>\n",
       "      <td>95</td>\n",
       "      <td>['MARCH 2020: IN ORDER TO ASSIST MORE STUDENTS...</td>\n",
       "      <td>1</td>\n",
       "      <td>7614535</td>\n",
       "      <td>1</td>\n",
       "      <td>1602</td>\n",
       "      <td>4.97940</td>\n",
       "      <td>32.0</td>\n",
       "      <td>...</td>\n",
       "      <td>0.000000</td>\n",
       "      <td>0.375000</td>\n",
       "      <td>0.541667</td>\n",
       "      <td>0.541667</td>\n",
       "      <td>0.250000</td>\n",
       "      <td>0.416667</td>\n",
       "      <td>0.375000</td>\n",
       "      <td>0.357143</td>\n",
       "      <td>4.553877</td>\n",
       "      <td>1</td>\n",
       "    </tr>\n",
       "    <tr>\n",
       "      <th>4</th>\n",
       "      <td>13</td>\n",
       "      <td>Patient, Knowledgeable and Effective Spanish T...</td>\n",
       "      <td>125</td>\n",
       "      <td>['I am a high school AP Spanish Language teach...</td>\n",
       "      <td>1</td>\n",
       "      <td>8022035</td>\n",
       "      <td>1</td>\n",
       "      <td>67</td>\n",
       "      <td>4.98507</td>\n",
       "      <td>12.0</td>\n",
       "      <td>...</td>\n",
       "      <td>0.041667</td>\n",
       "      <td>0.166667</td>\n",
       "      <td>0.083333</td>\n",
       "      <td>0.125000</td>\n",
       "      <td>0.125000</td>\n",
       "      <td>0.083333</td>\n",
       "      <td>0.000000</td>\n",
       "      <td>0.089286</td>\n",
       "      <td>4.828314</td>\n",
       "      <td>0</td>\n",
       "    </tr>\n",
       "  </tbody>\n",
       "</table>\n",
       "<p>5 rows × 32 columns</p>\n",
       "</div>"
      ],
      "text/plain": [
       "   index                                        description  hourly_rate  \\\n",
       "0      0                             Fun Experienced Tutor!           60   \n",
       "1      1  Math, Writing and Econ Specialist, 8+ Years Tu...           75   \n",
       "2      2  Top-Rated Test Prep (SAT / ACT / ISEE / HSPT) ...           95   \n",
       "3      3  Congratulations to my students entering Harvar...           95   \n",
       "4     13  Patient, Knowledgeable and Effective Spanish T...          125   \n",
       "\n",
       "                                                 bio  background_check  \\\n",
       "0  ['Hi!', \"I'm an experienced tutor with a sense...                 1   \n",
       "1  ['From Algebra to MLA, Middle School to MBA, I...                 1   \n",
       "2  [\"I am an experienced (3000+ hours) tutor cert...                 1   \n",
       "3  ['MARCH 2020: IN ORDER TO ASSIST MORE STUDENTS...                 1   \n",
       "4  ['I am a high school AP Spanish Language teach...                 1   \n",
       "\n",
       "    tut_id  photo  rating_count  rating_av  review_count  ...  sunday_hours  \\\n",
       "0  7269032      1           269    4.98885          15.0  ...      0.583333   \n",
       "1  7277990      1           338    4.93195          18.0  ...      0.500000   \n",
       "2  7611743      1          1046    4.94349          74.0  ...      1.000000   \n",
       "3  7614535      1          1602    4.97940          32.0  ...      0.000000   \n",
       "4  8022035      1            67    4.98507          12.0  ...      0.041667   \n",
       "\n",
       "   monday_hours  tuesday_hours wednesday_hours  thursday_hours  friday_hours  \\\n",
       "0      0.416667       0.583333        0.375000        0.375000      0.583333   \n",
       "1      0.541667       0.583333        0.583333        0.583333      0.500000   \n",
       "2      1.000000       1.000000        1.000000        1.000000      1.000000   \n",
       "3      0.375000       0.541667        0.541667        0.250000      0.416667   \n",
       "4      0.166667       0.083333        0.125000        0.125000      0.083333   \n",
       "\n",
       "  saturday_hours mean_hours log_hourly_rate qual_encoded  \n",
       "0       0.583333   0.500000        4.094345            1  \n",
       "1       0.333333   0.517857        4.317488            1  \n",
       "2       1.000000   1.000000        4.553877            0  \n",
       "3       0.375000   0.357143        4.553877            1  \n",
       "4       0.000000   0.089286        4.828314            0  \n",
       "\n",
       "[5 rows x 32 columns]"
      ]
     },
     "execution_count": 3,
     "metadata": {},
     "output_type": "execute_result"
    }
   ],
   "source": [
    "dbname = 'tutor_db'\n",
    "username = 'codonnell'\n",
    "pswd = '7883511'\n",
    "\n",
    "con = None\n",
    "con = psycopg2.connect(database = dbname, user = username, host='localhost', password=pswd)\n",
    "\n",
    "# query:\n",
    "sql_query = \"\"\"\n",
    "SELECT * FROM tutor_main\n",
    "\"\"\"\n",
    "tutor_data = pd.read_sql_query(sql_query,con)\n",
    "tutor_data = tutor_data.drop_duplicates(subset='tut_id')\n",
    "tutor_data['log_hourly_rate'] = np.log(tutor_data['hourly_rate'])\n",
    "tutor_data['qual_encoded'] = tutor_data.apply(lambda x: qual_encode(x['qual_1']) + qual_encode(x['qual_2']), axis =1) \n",
    "tutor_data.head()"
   ]
  },
  {
   "cell_type": "code",
   "execution_count": 4,
   "metadata": {},
   "outputs": [],
   "source": [
    "ivys = 'Brown|Columbia|Dartmouth|Harvard|Cornell|Pennsylvania|Princeton|Yale'"
   ]
  },
  {
   "cell_type": "code",
   "execution_count": 17,
   "metadata": {},
   "outputs": [],
   "source": [
    "tutor_data['ivy_1e'] = tutor_data['inst_1'].str.contains(ivys).astype(int)\n",
    "tutor_data['ivy_2e'] = tutor_data['inst_2'].str.contains(ivys).astype(int)\n",
    "tutor_data['ivy_3e'] = tutor_data['inst_3'].str.contains(ivys).astype(int)\n",
    "tutor_data['ivy_tot'] = tutor_data['ivy_1e']+tutor_data['ivy_2e']+tutor_data['ivy_3e']\n",
    "#tutor_data['inst_1e'] = tutor_data['inst_1'].apply(ivy)\n",
    "#tutor_data['inst_1e'] = tutor_data['inst_1'].apply(ivy)"
   ]
  },
  {
   "cell_type": "code",
   "execution_count": 89,
   "metadata": {},
   "outputs": [],
   "source": [
    "tutor_data['state_1e'] = tutor_data['inst_1'].str.contains('State').astype(int)\n",
    "tutor_data['state_2e'] = tutor_data['inst_2'].str.contains('State').astype(int)\n",
    "tutor_data['state_3e'] = tutor_data['inst_3'].str.contains('State').astype(int)\n",
    "tutor_data['state_tot'] = tutor_data['state_1e']+tutor_data['state_2e']+tutor_data['state_3e']\n",
    "tutor_data['experience'] = tutor_data['bio'].apply(get_exp)"
   ]
  },
  {
   "cell_type": "code",
   "execution_count": 6,
   "metadata": {},
   "outputs": [
    {
     "data": {
      "text/html": [
       "<div>\n",
       "<style scoped>\n",
       "    .dataframe tbody tr th:only-of-type {\n",
       "        vertical-align: middle;\n",
       "    }\n",
       "\n",
       "    .dataframe tbody tr th {\n",
       "        vertical-align: top;\n",
       "    }\n",
       "\n",
       "    .dataframe thead th {\n",
       "        text-align: right;\n",
       "    }\n",
       "</style>\n",
       "<table border=\"1\" class=\"dataframe\">\n",
       "  <thead>\n",
       "    <tr style=\"text-align: right;\">\n",
       "      <th></th>\n",
       "      <th>index</th>\n",
       "      <th>tutor_ids</th>\n",
       "      <th>subjects</th>\n",
       "    </tr>\n",
       "  </thead>\n",
       "  <tbody>\n",
       "    <tr>\n",
       "      <th>0</th>\n",
       "      <td>0</td>\n",
       "      <td>7269032</td>\n",
       "      <td>Precalculus</td>\n",
       "    </tr>\n",
       "    <tr>\n",
       "      <th>1</th>\n",
       "      <td>1</td>\n",
       "      <td>7269032</td>\n",
       "      <td>French</td>\n",
       "    </tr>\n",
       "    <tr>\n",
       "      <th>2</th>\n",
       "      <td>2</td>\n",
       "      <td>7269032</td>\n",
       "      <td>European History</td>\n",
       "    </tr>\n",
       "    <tr>\n",
       "      <th>3</th>\n",
       "      <td>3</td>\n",
       "      <td>7269032</td>\n",
       "      <td>Calculus</td>\n",
       "    </tr>\n",
       "    <tr>\n",
       "      <th>4</th>\n",
       "      <td>4</td>\n",
       "      <td>7269032</td>\n",
       "      <td>Spanish</td>\n",
       "    </tr>\n",
       "  </tbody>\n",
       "</table>\n",
       "</div>"
      ],
      "text/plain": [
       "   index tutor_ids          subjects\n",
       "0      0   7269032       Precalculus\n",
       "1      1   7269032            French\n",
       "2      2   7269032  European History\n",
       "3      3   7269032          Calculus\n",
       "4      4   7269032           Spanish"
      ]
     },
     "execution_count": 6,
     "metadata": {},
     "output_type": "execute_result"
    }
   ],
   "source": [
    "sql_query = \"\"\"\n",
    "SELECT * FROM tutor_subjects\n",
    "\"\"\"\n",
    "tutor_subjects = pd.read_sql_query(sql_query,con)\n",
    "tutor_subjects.head()"
   ]
  },
  {
   "cell_type": "code",
   "execution_count": 7,
   "metadata": {},
   "outputs": [],
   "source": [
    "tutors_joined = tutor_subjects.groupby('tutor_ids')['subjects'].apply(lambda x: ' '.join(x)).reset_index()\n",
    "tutors_joined['tutor_ids']=tutors_joined['tutor_ids'].apply(float)\n",
    "tutors_joined['tutor_ids']=tutors_joined['tutor_ids'].apply(int)"
   ]
  },
  {
   "cell_type": "code",
   "execution_count": 145,
   "metadata": {},
   "outputs": [],
   "source": [
    "all_features = ['qual_encoded', 'rating_count','rating_av','review_count','bio_length',\n",
    "               'num_subjects','hours_tutoring','edu_length','mean_hours',\n",
    "                'ivy_1e','ivy_2e','ivy_3e','hourly_rate','state_1e','state_2e',\n",
    "                'state_3e','experience',0,1,'log_hourly_rate']\n",
    "#all_features = ['qual_encoded','bio_length','num_subjects','edu_length','mean_hours','log_hourly_rate']"
   ]
  },
  {
   "cell_type": "code",
   "execution_count": 99,
   "metadata": {},
   "outputs": [],
   "source": [
    "tfidf = pickle.load(open('tfidf.sav', 'rb'))\n",
    "#tfidf.fit(tutors_joined['subjects'])\n",
    "#text = tfidf.transform(tutors_joined['subjects'])\n",
    "\n",
    "subjects_df = pd.DataFrame(PCA(n_components=2).fit_transform(text.todense()))"
   ]
  },
  {
   "cell_type": "code",
   "execution_count": 146,
   "metadata": {},
   "outputs": [],
   "source": [
    "tdf = tutors_joined.join(subjects_df).drop_duplicates(subset='tutor_ids')\n",
    "tutors_tfidf = pd.merge(tutor_data,tdf,left_on = 'tut_id',right_on = 'tutor_ids')[all_features]"
   ]
  },
  {
   "cell_type": "code",
   "execution_count": 151,
   "metadata": {},
   "outputs": [],
   "source": [
    "tutors_outliers = tutors_tfidf[(tutors_tfidf['log_hourly_rate']<4.7) \n",
    "                               & (tutors_tfidf['log_hourly_rate']>2.9)]\n",
    "                             # & (tutors_tfidf['state'])]\n",
    "                    \n",
    "tutors_outliers = tutors_outliers.drop('hourly_rate',axis=1)"
   ]
  },
  {
   "cell_type": "code",
   "execution_count": 148,
   "metadata": {},
   "outputs": [],
   "source": [
    "tutors_outliers = tutors_tfidf[(tutors_tfidf['hourly_rate']<200) \n",
    "                               & (tutors_tfidf['hourly_rate']>20)]\n",
    "                             # & (tutors_tfidf['state'])]\n",
    "                    \n",
    "tutors_outliers = tutors_outliers.drop('log_hourly_rate',axis=1)"
   ]
  },
  {
   "cell_type": "code",
   "execution_count": 152,
   "metadata": {},
   "outputs": [
    {
     "data": {
      "text/html": [
       "<div>\n",
       "<style scoped>\n",
       "    .dataframe tbody tr th:only-of-type {\n",
       "        vertical-align: middle;\n",
       "    }\n",
       "\n",
       "    .dataframe tbody tr th {\n",
       "        vertical-align: top;\n",
       "    }\n",
       "\n",
       "    .dataframe thead th {\n",
       "        text-align: right;\n",
       "    }\n",
       "</style>\n",
       "<table border=\"1\" class=\"dataframe\">\n",
       "  <thead>\n",
       "    <tr style=\"text-align: right;\">\n",
       "      <th></th>\n",
       "      <th>qual_encoded</th>\n",
       "      <th>rating_count</th>\n",
       "      <th>rating_av</th>\n",
       "      <th>review_count</th>\n",
       "      <th>bio_length</th>\n",
       "      <th>num_subjects</th>\n",
       "      <th>hours_tutoring</th>\n",
       "      <th>edu_length</th>\n",
       "      <th>mean_hours</th>\n",
       "      <th>ivy_1e</th>\n",
       "      <th>ivy_2e</th>\n",
       "      <th>ivy_3e</th>\n",
       "      <th>state_1e</th>\n",
       "      <th>state_2e</th>\n",
       "      <th>state_3e</th>\n",
       "      <th>experience</th>\n",
       "      <th>0</th>\n",
       "      <th>1</th>\n",
       "      <th>log_hourly_rate</th>\n",
       "    </tr>\n",
       "  </thead>\n",
       "  <tbody>\n",
       "    <tr>\n",
       "      <th>0</th>\n",
       "      <td>1</td>\n",
       "      <td>269</td>\n",
       "      <td>4.98885</td>\n",
       "      <td>15.0</td>\n",
       "      <td>376</td>\n",
       "      <td>5</td>\n",
       "      <td>839.0</td>\n",
       "      <td>7</td>\n",
       "      <td>0.500000</td>\n",
       "      <td>0</td>\n",
       "      <td>0</td>\n",
       "      <td>0</td>\n",
       "      <td>0</td>\n",
       "      <td>0</td>\n",
       "      <td>0</td>\n",
       "      <td>15</td>\n",
       "      <td>-0.060557</td>\n",
       "      <td>0.207115</td>\n",
       "      <td>4.094345</td>\n",
       "    </tr>\n",
       "    <tr>\n",
       "      <th>1</th>\n",
       "      <td>1</td>\n",
       "      <td>338</td>\n",
       "      <td>4.93195</td>\n",
       "      <td>18.0</td>\n",
       "      <td>323</td>\n",
       "      <td>31</td>\n",
       "      <td>962.0</td>\n",
       "      <td>7</td>\n",
       "      <td>0.517857</td>\n",
       "      <td>0</td>\n",
       "      <td>0</td>\n",
       "      <td>0</td>\n",
       "      <td>0</td>\n",
       "      <td>0</td>\n",
       "      <td>0</td>\n",
       "      <td>9</td>\n",
       "      <td>-0.064848</td>\n",
       "      <td>-0.071893</td>\n",
       "      <td>4.317488</td>\n",
       "    </tr>\n",
       "    <tr>\n",
       "      <th>2</th>\n",
       "      <td>0</td>\n",
       "      <td>1046</td>\n",
       "      <td>4.94349</td>\n",
       "      <td>74.0</td>\n",
       "      <td>248</td>\n",
       "      <td>72</td>\n",
       "      <td>3899.0</td>\n",
       "      <td>4</td>\n",
       "      <td>1.000000</td>\n",
       "      <td>0</td>\n",
       "      <td>0</td>\n",
       "      <td>0</td>\n",
       "      <td>0</td>\n",
       "      <td>0</td>\n",
       "      <td>0</td>\n",
       "      <td>30</td>\n",
       "      <td>-0.022238</td>\n",
       "      <td>-0.159213</td>\n",
       "      <td>4.553877</td>\n",
       "    </tr>\n",
       "    <tr>\n",
       "      <th>3</th>\n",
       "      <td>1</td>\n",
       "      <td>1602</td>\n",
       "      <td>4.97940</td>\n",
       "      <td>32.0</td>\n",
       "      <td>417</td>\n",
       "      <td>19</td>\n",
       "      <td>5592.0</td>\n",
       "      <td>7</td>\n",
       "      <td>0.357143</td>\n",
       "      <td>1</td>\n",
       "      <td>0</td>\n",
       "      <td>0</td>\n",
       "      <td>0</td>\n",
       "      <td>0</td>\n",
       "      <td>0</td>\n",
       "      <td>0</td>\n",
       "      <td>-0.214705</td>\n",
       "      <td>-0.152133</td>\n",
       "      <td>4.553877</td>\n",
       "    </tr>\n",
       "    <tr>\n",
       "      <th>5</th>\n",
       "      <td>0</td>\n",
       "      <td>51</td>\n",
       "      <td>4.62745</td>\n",
       "      <td>9.0</td>\n",
       "      <td>321</td>\n",
       "      <td>40</td>\n",
       "      <td>91.0</td>\n",
       "      <td>10</td>\n",
       "      <td>0.000000</td>\n",
       "      <td>0</td>\n",
       "      <td>0</td>\n",
       "      <td>0</td>\n",
       "      <td>0</td>\n",
       "      <td>0</td>\n",
       "      <td>0</td>\n",
       "      <td>0</td>\n",
       "      <td>0.068457</td>\n",
       "      <td>-0.033185</td>\n",
       "      <td>3.688879</td>\n",
       "    </tr>\n",
       "  </tbody>\n",
       "</table>\n",
       "</div>"
      ],
      "text/plain": [
       "   qual_encoded  rating_count  rating_av  review_count  bio_length  \\\n",
       "0             1           269    4.98885          15.0         376   \n",
       "1             1           338    4.93195          18.0         323   \n",
       "2             0          1046    4.94349          74.0         248   \n",
       "3             1          1602    4.97940          32.0         417   \n",
       "5             0            51    4.62745           9.0         321   \n",
       "\n",
       "   num_subjects  hours_tutoring  edu_length  mean_hours  ivy_1e  ivy_2e  \\\n",
       "0             5           839.0           7    0.500000       0       0   \n",
       "1            31           962.0           7    0.517857       0       0   \n",
       "2            72          3899.0           4    1.000000       0       0   \n",
       "3            19          5592.0           7    0.357143       1       0   \n",
       "5            40            91.0          10    0.000000       0       0   \n",
       "\n",
       "   ivy_3e  state_1e  state_2e  state_3e  experience         0         1  \\\n",
       "0       0         0         0         0          15 -0.060557  0.207115   \n",
       "1       0         0         0         0           9 -0.064848 -0.071893   \n",
       "2       0         0         0         0          30 -0.022238 -0.159213   \n",
       "3       0         0         0         0           0 -0.214705 -0.152133   \n",
       "5       0         0         0         0           0  0.068457 -0.033185   \n",
       "\n",
       "   log_hourly_rate  \n",
       "0         4.094345  \n",
       "1         4.317488  \n",
       "2         4.553877  \n",
       "3         4.553877  \n",
       "5         3.688879  "
      ]
     },
     "execution_count": 152,
     "metadata": {},
     "output_type": "execute_result"
    }
   ],
   "source": [
    "tutors_outliers.head()"
   ]
  },
  {
   "cell_type": "code",
   "execution_count": 171,
   "metadata": {},
   "outputs": [
    {
     "name": "stdout",
     "output_type": "stream",
     "text": [
      "11.955716730190526\n"
     ]
    }
   ],
   "source": [
    "poly = PolynomialFeatures(2)\n",
    "\n",
    "# Set up feature data and target data\n",
    "X = tutors_outliers.drop('log_hourly_rate', axis=1)\n",
    "\n",
    "#X = poly.fit_transform(X)\n",
    "y = tutors_outliers['log_hourly_rate']\n",
    "\n",
    "# Initialise a balanced logisitic regression model\n",
    "#model_base = XGBRegressor(n_estimators=400, learning_rate=0.01, random_state=1)\n",
    "model_base = LinearRegression()\n",
    "\n",
    "# Perform feature normalisation\n",
    "scaler = StandardScaler()\n",
    "\n",
    "# Split into 80% training, 20% test\n",
    "train_X, val_X, train_y, val_y = train_test_split(scaler.fit_transform(X), y, train_size=0.8, test_size=0.2, random_state = 1)\n",
    "\n",
    "#model_base.fit(train_X.values, train_y.values)\n",
    "model_base.fit(train_X, train_y.values)\n",
    "\n",
    "preds_val = model_base.predict(val_X)\n",
    "mae = mean_absolute_error(np.exp(val_y.values), np.exp(preds_val))\n",
    "#mae = mean_absolute_error(val_y.values, preds_val)\n",
    "print(mae)"
   ]
  },
  {
   "cell_type": "code",
   "execution_count": 154,
   "metadata": {},
   "outputs": [
    {
     "data": {
      "text/plain": [
       "<matplotlib.axes._subplots.AxesSubplot at 0x7f8333634760>"
      ]
     },
     "execution_count": 154,
     "metadata": {},
     "output_type": "execute_result"
    },
    {
     "data": {
      "image/png": "[encoded data removed]",
      "text/plain": [
       "<Figure size 432x288 with 1 Axes>"
      ]
     },
     "metadata": {
      "needs_background": "light"
     },
     "output_type": "display_data"
    }
   ],
   "source": [
    "sb.regplot(val_y,preds_val)"
   ]
  },
  {
   "cell_type": "code",
   "execution_count": 168,
   "metadata": {},
   "outputs": [
    {
     "name": "stdout",
     "output_type": "stream",
     "text": [
      "11.919243918471173\n"
     ]
    }
   ],
   "source": [
    "# Set up feature data and target data\n",
    "X = tutors_outliers.drop('log_hourly_rate', axis=1)\n",
    "\n",
    "#X = poly.fit_transform(X)\n",
    "y = tutors_outliers['log_hourly_rate']\n",
    "\n",
    "model_base = Lasso(alpha=0.003)\n",
    "#model_base = XGBRegressor(n_estimators=500, learning_rate=0.01, random_state=1)\n",
    "\n",
    "# Perform feature normalisation\n",
    "scaler = StandardScaler()\n",
    "\n",
    "# Split into 80% training, 20% test\n",
    "train_X, val_X, train_y, val_y = train_test_split(scaler.fit_transform(X), y, train_size=0.8, test_size=0.2, random_state = 1)\n",
    "\n",
    "#model_base.fit(train_X.values, train_y.values)\n",
    "model_base.fit(train_X, train_y.values)\n",
    "\n",
    "preds_val = model_base.predict(val_X)\n",
    "mae = mean_absolute_error(np.exp(val_y.values), np.exp(preds_val))\n",
    "#mae = mean_absolute_error(val_y.values, preds_val)\n",
    "print(mae)"
   ]
  },
  {
   "cell_type": "code",
   "execution_count": 160,
   "metadata": {},
   "outputs": [
    {
     "data": {
      "text/plain": [
       "<matplotlib.axes._subplots.AxesSubplot at 0x7f8333646d90>"
      ]
     },
     "execution_count": 160,
     "metadata": {},
     "output_type": "execute_result"
    },
    {
     "data": {
      "image/png": "[encoded data removed]",
      "text/plain": [
       "<Figure size 432x288 with 1 Axes>"
      ]
     },
     "metadata": {
      "needs_background": "light"
     },
     "output_type": "display_data"
    }
   ],
   "source": [
    "sb.regplot(val_y,preds_val)"
   ]
  },
  {
   "cell_type": "code",
   "execution_count": 157,
   "metadata": {},
   "outputs": [
    {
     "data": {
      "text/plain": [
       "4.701264612229352"
      ]
     },
     "execution_count": 157,
     "metadata": {},
     "output_type": "execute_result"
    }
   ],
   "source": [
    "np.exp(3.9)-np.exp(3.8)"
   ]
  },
  {
   "cell_type": "code",
   "execution_count": 147,
   "metadata": {},
   "outputs": [],
   "source": [
    "test_data = tutor_data[(tutor_data['hourly_rate']<100) \n",
    "                               & (tutor_data['hourly_rate']>20)]"
   ]
  },
  {
   "cell_type": "code",
   "execution_count": 171,
   "metadata": {},
   "outputs": [],
   "source": [
    "#edges = [20,30,40,50,60,70,80,90,100]\n",
    "edges = [20,40,60,80,100]\n",
    "bio_bins = []\n",
    "\n",
    "for i in range(0,len(edges)-1):\n",
    "    df = test_data[(test_data['hourly_rate']>=edges[i])& (test_data['hourly_rate']<edges[i+1])]\n",
    "    bios = ' '.join(df['bio'])\n",
    "    bio_bins.append(bios)"
   ]
  },
  {
   "cell_type": "code",
   "execution_count": 172,
   "metadata": {},
   "outputs": [],
   "source": [
    "bio_df = pd.DataFrame({'interval':np.array(edges[1:]), 'bios': np.array(bio_bins)})"
   ]
  },
  {
   "cell_type": "code",
   "execution_count": 174,
   "metadata": {},
   "outputs": [],
   "source": [
    "stopWords = esw \n",
    "\n",
    "tfidf = TfidfVectorizer(\n",
    "    min_df = 0,\n",
    "    max_df = 0.95,\n",
    "    max_features = 20000,\n",
    "    stop_words = stopWords,\n",
    "    ngram_range = (1,2)\n",
    ")\n",
    "tfidf.fit(bio_df['bios'])\n",
    "text = tfidf.transform(bio_df['bios'])"
   ]
  },
  {
   "cell_type": "code",
   "execution_count": null,
   "metadata": {},
   "outputs": [],
   "source": [
    "def get_top_keywords(data, clusters, labels, n_terms):\n",
    "    df = pd.DataFrame(data.todense()).groupby(clusters).mean()\n",
    "    \n",
    "    for i,r in df.iterrows():\n",
    "        print('\\nCluster {}'.format(i))\n",
    "        print(','.join([labels[t] for t in np.argsort(r)[-n_terms:]]))\n",
    "            \n",
    "get_top_keywords(text, clusters, tfidf.get_feature_names(), 10)"
   ]
  },
  {
   "cell_type": "code",
   "execution_count": 175,
   "metadata": {},
   "outputs": [
    {
     "name": "stdout",
     "output_type": "stream",
     "text": [
      "denver,little bit,military,english speakers,school love,korean,colombia,small groups,early childhood,substitute teacher\n",
      "returned,facilitate,obtaining,university north,indiana,gis,small groups,english speakers,substitute teacher,early childhood\n",
      "geometry pre,teaching esl,painting,mathematics education,relations,accent,provides,denver,doctoral,small groups\n",
      "massachusetts institute,cooper,ian,stacy,wharton,martial arts,congratulations,stony,stony brook,brook\n"
     ]
    }
   ],
   "source": [
    "labels = tfidf.get_feature_names()\n",
    "\n",
    "for i in range(0,len(edges)-1):\n",
    "    \n",
    "    print(','.join([labels[t] for t in np.argsort(np.array(text.todense()[i,:]))[0][-10:]]))"
   ]
  },
  {
   "cell_type": "code",
   "execution_count": 169,
   "metadata": {},
   "outputs": [
    {
     "data": {
      "text/plain": [
       "['open',\n",
       " 'substitute',\n",
       " 'younger',\n",
       " 'illustrator',\n",
       " 'charlotte',\n",
       " 'activities',\n",
       " 'later',\n",
       " 'lab',\n",
       " 'teaching english',\n",
       " 'special education']"
      ]
     },
     "execution_count": 169,
     "metadata": {},
     "output_type": "execute_result"
    }
   ],
   "source": [
    "[labels[t] for t in np.argsort(np.array(text.todense()[0,:]))[0][-10:]]"
   ]
  },
  {
   "cell_type": "code",
   "execution_count": 61,
   "metadata": {},
   "outputs": [],
   "source": [
    "bio1 =tutor_data[tutor_data['bio'].str.contains('years')]['bio'].iloc[0]\n",
    "bio2 =tutor_data[~tutor_data['bio'].str.contains('years')]['bio'].iloc[3]"
   ]
  },
  {
   "cell_type": "code",
   "execution_count": 116,
   "metadata": {},
   "outputs": [
    {
     "data": {
      "text/plain": [
       "<matplotlib.axes._subplots.AxesSubplot at 0x7f8333688a30>"
      ]
     },
     "execution_count": 116,
     "metadata": {},
     "output_type": "execute_result"
    },
    {
     "data": {
      "image/png": "[encoded data removed]",
      "text/plain": [
       "<Figure size 432x288 with 1 Axes>"
      ]
     },
     "metadata": {
      "needs_background": "light"
     },
     "output_type": "display_data"
    }
   ],
   "source": [
    "sb.regplot(tutors_outliers['ivy_1e'],tutors_outliers['log_hourly_rate'])"
   ]
  },
  {
   "cell_type": "code",
   "execution_count": 192,
   "metadata": {},
   "outputs": [],
   "source": [
    "tutor_ca = pd.merge(tutor_data,tdf,left_on = 'tut_id',right_on = 'tutor_ids')\n",
    "tutor_ca = tutor_ca[tutor_ca['state']=='CA'][all_features]\n",
    "tutor_ca = tutor_ca.drop('hourly_rate',axis=1)\n",
    "tutor_ca = tutor_ca[(tutor_ca['log_hourly_rate']<4.7) \n",
    "                               & (tutor_ca['log_hourly_rate']>2.9)]"
   ]
  },
  {
   "cell_type": "code",
   "execution_count": 195,
   "metadata": {},
   "outputs": [
    {
     "name": "stdout",
     "output_type": "stream",
     "text": [
      "13.413571189628287\n"
     ]
    }
   ],
   "source": [
    "X = tutor_ca.drop('log_hourly_rate', axis=1)\n",
    "\n",
    "#X = poly.fit_transform(X)\n",
    "y = tutor_ca['log_hourly_rate']\n",
    "\n",
    "model_base = Lasso(alpha=0.003)\n",
    "#model_base = XGBRegressor(n_estimators=500, learning_rate=0.01, random_state=1)\n",
    "\n",
    "# Perform feature normalisation\n",
    "scaler = StandardScaler()\n",
    "\n",
    "# Split into 80% training, 20% test\n",
    "train_X, val_X, train_y, val_y = train_test_split(scaler.fit_transform(X), y, train_size=0.8, test_size=0.2, random_state = 1)\n",
    "\n",
    "#model_base.fit(train_X.values, train_y.values)\n",
    "model_base.fit(train_X, train_y.values)\n",
    "\n",
    "preds_val = model_base.predict(val_X)\n",
    "mae = mean_absolute_error(np.exp(val_y.values), np.exp(preds_val))\n",
    "#mae = mean_absolute_error(val_y.values, preds_val)\n",
    "print(mae)"
   ]
  },
  {
   "cell_type": "code",
   "execution_count": 196,
   "metadata": {},
   "outputs": [
    {
     "data": {
      "text/plain": [
       "<matplotlib.axes._subplots.AxesSubplot at 0x7f83329bd2e0>"
      ]
     },
     "execution_count": 196,
     "metadata": {},
     "output_type": "execute_result"
    },
    {
     "data": {
      "image/png": "[encoded data removed]",
      "text/plain": [
       "<Figure size 432x288 with 1 Axes>"
      ]
     },
     "metadata": {
      "needs_background": "light"
     },
     "output_type": "display_data"
    }
   ],
   "source": [
    "sb.regplot(val_y,preds_val)"
   ]
  },
  {
   "cell_type": "code",
   "execution_count": 188,
   "metadata": {},
   "outputs": [
    {
     "data": {
      "image/png": "[encoded data removed]",
      "text/plain": [
       "<Figure size 432x288 with 1 Axes>"
      ]
     },
     "metadata": {
      "needs_background": "light"
     },
     "output_type": "display_data"
    }
   ],
   "source": [
    "plot_importance(model_base)\n",
    "plt.show()"
   ]
  },
  {
   "cell_type": "code",
   "execution_count": 198,
   "metadata": {},
   "outputs": [
    {
     "data": {
      "text/plain": [
       "state\n",
       "AL     70.000000\n",
       "AZ     45.859813\n",
       "CA     55.920901\n",
       "CO     48.272727\n",
       "CT    180.000000\n",
       "DC     58.707692\n",
       "DE     48.781250\n",
       "FL     45.384546\n",
       "GA     45.550725\n",
       "IL     52.996473\n",
       "IN     44.238095\n",
       "KS     49.166667\n",
       "KY     79.000000\n",
       "MA    173.500000\n",
       "MD     53.842857\n",
       "MI     44.507246\n",
       "MN     49.167832\n",
       "MO     45.701031\n",
       "NC     44.375887\n",
       "NE     75.000000\n",
       "NJ     57.391608\n",
       "NM     39.179487\n",
       "NV     41.857143\n",
       "NY     72.618307\n",
       "OH     46.823529\n",
       "OK     15.000000\n",
       "OR     42.500000\n",
       "PA     48.549828\n",
       "SC     75.230769\n",
       "TN     47.306452\n",
       "TX     47.542657\n",
       "UT     42.718750\n",
       "VA     47.888889\n",
       "WA     52.807175\n",
       "WI     12.000000\n",
       "WV     35.000000\n",
       "Name: hourly_rate, dtype: float64"
      ]
     },
     "execution_count": 198,
     "metadata": {},
     "output_type": "execute_result"
    }
   ],
   "source": [
    "tutor_data.groupby('state')['hourly_rate'].mean()"
   ]
  },
  {
   "cell_type": "code",
   "execution_count": null,
   "metadata": {},
   "outputs": [],
   "source": []
  }
 ],
 "metadata": {
  "kernelspec": {
   "display_name": "Python 3",
   "language": "python",
   "name": "python3"
  },
  "language_info": {
   "codemirror_mode": {
    "name": "ipython",
    "version": 3
   },
   "file_extension": ".py",
   "mimetype": "text/x-python",
   "name": "python",
   "nbconvert_exporter": "python",
   "pygments_lexer": "ipython3",
   "version": "3.8.2"
  }
 },
 "nbformat": 4,
 "nbformat_minor": 4
}
