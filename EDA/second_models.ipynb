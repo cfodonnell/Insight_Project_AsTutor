{
 "cells": [
  {
   "cell_type": "code",
   "execution_count": 1,
   "metadata": {},
   "outputs": [],
   "source": [
    "import time\n",
    "import numpy as np\n",
    "import pandas as pd\n",
    "import json\n",
    "import seaborn as sb\n",
    "from matplotlib import pyplot as plt\n",
    "from matplotlib import rcParams\n",
    "import matplotlib.cm as cm\n",
    "from matplotlib.colors import ListedColormap\n",
    "import seaborn as sb\n",
    "\n",
    "from sqlalchemy import create_engine\n",
    "from sqlalchemy_utils import database_exists, create_database\n",
    "import psycopg2\n",
    "\n",
    "from sklearn.cluster import MiniBatchKMeans\n",
    "from sklearn.feature_extraction.text import TfidfVectorizer\n",
    "from sklearn.decomposition import PCA\n",
    "from sklearn.manifold import TSNE\n",
    "import category_encoders as ce\n",
    "from sklearn.preprocessing import OneHotEncoder\n",
    "from sklearn.preprocessing import LabelEncoder\n",
    "from sklearn import metrics\n",
    "from sklearn.model_selection import KFold\n",
    "from sklearn.model_selection import cross_val_score\n",
    "from sklearn.model_selection import train_test_split\n",
    "from sklearn.ensemble import RandomForestRegressor\n",
    "from sklearn.preprocessing import StandardScaler\n",
    "from xgboost import XGBRegressor\n",
    "from sklearn.metrics import mean_absolute_error\n",
    "from xgboost import plot_importance\n",
    "from sklearn.metrics import r2_score\n",
    "from sklearn.feature_extraction.text import ENGLISH_STOP_WORDS as esw"
   ]
  },
  {
   "cell_type": "code",
   "execution_count": 2,
   "metadata": {},
   "outputs": [
    {
     "data": {
      "text/html": [
       "<div>\n",
       "<style scoped>\n",
       "    .dataframe tbody tr th:only-of-type {\n",
       "        vertical-align: middle;\n",
       "    }\n",
       "\n",
       "    .dataframe tbody tr th {\n",
       "        vertical-align: top;\n",
       "    }\n",
       "\n",
       "    .dataframe thead th {\n",
       "        text-align: right;\n",
       "    }\n",
       "</style>\n",
       "<table border=\"1\" class=\"dataframe\">\n",
       "  <thead>\n",
       "    <tr style=\"text-align: right;\">\n",
       "      <th></th>\n",
       "      <th>index</th>\n",
       "      <th>description</th>\n",
       "      <th>hourly_rate</th>\n",
       "      <th>bio</th>\n",
       "      <th>background_check</th>\n",
       "      <th>tut_id</th>\n",
       "      <th>photo</th>\n",
       "      <th>rating_count</th>\n",
       "      <th>rating_av</th>\n",
       "      <th>review_count</th>\n",
       "      <th>...</th>\n",
       "      <th>qual_2</th>\n",
       "      <th>qual_3</th>\n",
       "      <th>sunday_hours</th>\n",
       "      <th>monday_hours</th>\n",
       "      <th>tuesday_hours</th>\n",
       "      <th>wednesday_hours</th>\n",
       "      <th>thursday_hours</th>\n",
       "      <th>friday_hours</th>\n",
       "      <th>saturday_hours</th>\n",
       "      <th>mean_hours</th>\n",
       "    </tr>\n",
       "  </thead>\n",
       "  <tbody>\n",
       "    <tr>\n",
       "      <th>0</th>\n",
       "      <td>0</td>\n",
       "      <td>Fun Experienced Tutor!</td>\n",
       "      <td>60</td>\n",
       "      <td>['Hi!', \"I'm an experienced tutor with a sense...</td>\n",
       "      <td>1</td>\n",
       "      <td>7269032</td>\n",
       "      <td>1</td>\n",
       "      <td>269</td>\n",
       "      <td>4.98885</td>\n",
       "      <td>15.0</td>\n",
       "      <td>...</td>\n",
       "      <td>Masters</td>\n",
       "      <td>{}</td>\n",
       "      <td>0.583333</td>\n",
       "      <td>0.416667</td>\n",
       "      <td>0.583333</td>\n",
       "      <td>0.375000</td>\n",
       "      <td>0.375000</td>\n",
       "      <td>0.583333</td>\n",
       "      <td>0.583333</td>\n",
       "      <td>0.500000</td>\n",
       "    </tr>\n",
       "    <tr>\n",
       "      <th>1</th>\n",
       "      <td>1</td>\n",
       "      <td>Math, Writing and Econ Specialist, 8+ Years Tu...</td>\n",
       "      <td>75</td>\n",
       "      <td>['From Algebra to MLA, Middle School to MBA, I...</td>\n",
       "      <td>1</td>\n",
       "      <td>7277990</td>\n",
       "      <td>1</td>\n",
       "      <td>338</td>\n",
       "      <td>4.93195</td>\n",
       "      <td>18.0</td>\n",
       "      <td>...</td>\n",
       "      <td>Masters</td>\n",
       "      <td>{}</td>\n",
       "      <td>0.500000</td>\n",
       "      <td>0.541667</td>\n",
       "      <td>0.583333</td>\n",
       "      <td>0.583333</td>\n",
       "      <td>0.583333</td>\n",
       "      <td>0.500000</td>\n",
       "      <td>0.333333</td>\n",
       "      <td>0.517857</td>\n",
       "    </tr>\n",
       "    <tr>\n",
       "      <th>2</th>\n",
       "      <td>2</td>\n",
       "      <td>Top-Rated Test Prep (SAT / ACT / ISEE / HSPT) ...</td>\n",
       "      <td>95</td>\n",
       "      <td>[\"I am an experienced (3000+ hours) tutor cert...</td>\n",
       "      <td>1</td>\n",
       "      <td>7611743</td>\n",
       "      <td>1</td>\n",
       "      <td>1046</td>\n",
       "      <td>4.94349</td>\n",
       "      <td>74.0</td>\n",
       "      <td>...</td>\n",
       "      <td>{}</td>\n",
       "      <td>{}</td>\n",
       "      <td>1.000000</td>\n",
       "      <td>1.000000</td>\n",
       "      <td>1.000000</td>\n",
       "      <td>1.000000</td>\n",
       "      <td>1.000000</td>\n",
       "      <td>1.000000</td>\n",
       "      <td>1.000000</td>\n",
       "      <td>1.000000</td>\n",
       "    </tr>\n",
       "    <tr>\n",
       "      <th>3</th>\n",
       "      <td>3</td>\n",
       "      <td>Congratulations to my students entering Harvar...</td>\n",
       "      <td>95</td>\n",
       "      <td>['MARCH 2020: IN ORDER TO ASSIST MORE STUDENTS...</td>\n",
       "      <td>1</td>\n",
       "      <td>7614535</td>\n",
       "      <td>1</td>\n",
       "      <td>1602</td>\n",
       "      <td>4.97940</td>\n",
       "      <td>32.0</td>\n",
       "      <td>...</td>\n",
       "      <td>Masters</td>\n",
       "      <td>{}</td>\n",
       "      <td>0.000000</td>\n",
       "      <td>0.375000</td>\n",
       "      <td>0.541667</td>\n",
       "      <td>0.541667</td>\n",
       "      <td>0.250000</td>\n",
       "      <td>0.416667</td>\n",
       "      <td>0.375000</td>\n",
       "      <td>0.357143</td>\n",
       "    </tr>\n",
       "    <tr>\n",
       "      <th>4</th>\n",
       "      <td>13</td>\n",
       "      <td>Patient, Knowledgeable and Effective Spanish T...</td>\n",
       "      <td>125</td>\n",
       "      <td>['I am a high school AP Spanish Language teach...</td>\n",
       "      <td>1</td>\n",
       "      <td>8022035</td>\n",
       "      <td>1</td>\n",
       "      <td>67</td>\n",
       "      <td>4.98507</td>\n",
       "      <td>12.0</td>\n",
       "      <td>...</td>\n",
       "      <td>{}</td>\n",
       "      <td>{}</td>\n",
       "      <td>0.041667</td>\n",
       "      <td>0.166667</td>\n",
       "      <td>0.083333</td>\n",
       "      <td>0.125000</td>\n",
       "      <td>0.125000</td>\n",
       "      <td>0.083333</td>\n",
       "      <td>0.000000</td>\n",
       "      <td>0.089286</td>\n",
       "    </tr>\n",
       "  </tbody>\n",
       "</table>\n",
       "<p>5 rows × 30 columns</p>\n",
       "</div>"
      ],
      "text/plain": [
       "   index                                        description  hourly_rate  \\\n",
       "0      0                             Fun Experienced Tutor!           60   \n",
       "1      1  Math, Writing and Econ Specialist, 8+ Years Tu...           75   \n",
       "2      2  Top-Rated Test Prep (SAT / ACT / ISEE / HSPT) ...           95   \n",
       "3      3  Congratulations to my students entering Harvar...           95   \n",
       "4     13  Patient, Knowledgeable and Effective Spanish T...          125   \n",
       "\n",
       "                                                 bio  background_check  \\\n",
       "0  ['Hi!', \"I'm an experienced tutor with a sense...                 1   \n",
       "1  ['From Algebra to MLA, Middle School to MBA, I...                 1   \n",
       "2  [\"I am an experienced (3000+ hours) tutor cert...                 1   \n",
       "3  ['MARCH 2020: IN ORDER TO ASSIST MORE STUDENTS...                 1   \n",
       "4  ['I am a high school AP Spanish Language teach...                 1   \n",
       "\n",
       "    tut_id  photo  rating_count  rating_av  review_count  ...   qual_2  \\\n",
       "0  7269032      1           269    4.98885          15.0  ...  Masters   \n",
       "1  7277990      1           338    4.93195          18.0  ...  Masters   \n",
       "2  7611743      1          1046    4.94349          74.0  ...       {}   \n",
       "3  7614535      1          1602    4.97940          32.0  ...  Masters   \n",
       "4  8022035      1            67    4.98507          12.0  ...       {}   \n",
       "\n",
       "   qual_3  sunday_hours monday_hours  tuesday_hours  wednesday_hours  \\\n",
       "0      {}      0.583333     0.416667       0.583333         0.375000   \n",
       "1      {}      0.500000     0.541667       0.583333         0.583333   \n",
       "2      {}      1.000000     1.000000       1.000000         1.000000   \n",
       "3      {}      0.000000     0.375000       0.541667         0.541667   \n",
       "4      {}      0.041667     0.166667       0.083333         0.125000   \n",
       "\n",
       "  thursday_hours friday_hours saturday_hours mean_hours  \n",
       "0       0.375000     0.583333       0.583333   0.500000  \n",
       "1       0.583333     0.500000       0.333333   0.517857  \n",
       "2       1.000000     1.000000       1.000000   1.000000  \n",
       "3       0.250000     0.416667       0.375000   0.357143  \n",
       "4       0.125000     0.083333       0.000000   0.089286  \n",
       "\n",
       "[5 rows x 30 columns]"
      ]
     },
     "execution_count": 2,
     "metadata": {},
     "output_type": "execute_result"
    }
   ],
   "source": [
    "dbname = 'tutor_db'\n",
    "username = 'codonnell'\n",
    "pswd = '7883511'\n",
    "\n",
    "con = None\n",
    "con = psycopg2.connect(database = dbname, user = username, host='localhost', password=pswd)\n",
    "\n",
    "# query:\n",
    "sql_query = \"\"\"\n",
    "SELECT * FROM tutor_main\n",
    "\"\"\"\n",
    "tutor_data = pd.read_sql_query(sql_query,con)\n",
    "tutor_data.head()"
   ]
  },
  {
   "cell_type": "code",
   "execution_count": 3,
   "metadata": {},
   "outputs": [],
   "source": [
    "tutor_data = tutor_data.drop_duplicates(subset='tut_id')"
   ]
  },
  {
   "cell_type": "code",
   "execution_count": 4,
   "metadata": {},
   "outputs": [],
   "source": [
    "tutor_data['log_hourly_rate'] = np.log(tutor_data['hourly_rate'])"
   ]
  },
  {
   "cell_type": "code",
   "execution_count": 5,
   "metadata": {},
   "outputs": [],
   "source": [
    "def qual_encode(qual):\n",
    "    \n",
    "    qual_list = ['Masters','MBA','PhD','J.D.']\n",
    "    qual_encodings = {'Masters': 1, 'MBA': 1, 'PhD': 2, 'J.D.': 3}\n",
    "    if qual in qual_list:\n",
    "        return qual_encodings[qual]\n",
    "    else:\n",
    "        return 0"
   ]
  },
  {
   "cell_type": "code",
   "execution_count": 6,
   "metadata": {},
   "outputs": [],
   "source": [
    "tutor_data['qual_encoded'] = tutor_data.apply(lambda x: qual_encode(x['qual_1']) + qual_encode(x['qual_2']), axis =1) "
   ]
  },
  {
   "cell_type": "code",
   "execution_count": 7,
   "metadata": {},
   "outputs": [],
   "source": [
    "cat_features = ['state','qual_encoded']\n",
    "#num_features = ['rating_count','rating_av','review_count','bio_length',\n",
    "#               'num_subjects','hours_tutoring','edu_length','mean_hours','log_hourly_rate']\n",
    "#all_features = ['state','qual_encoded', 'background_check',\n",
    "#               'num_subjects','hours_tutoring','edu_length','mean_hours','log_hourly_rate']\n",
    "all_features = ['state','qual_encoded', 'rating_count','rating_av','review_count','bio_length',\n",
    "               'num_subjects','hours_tutoring','edu_length','mean_hours','log_hourly_rate']\n",
    "tutors_cb = tutor_data[all_features]\n",
    "\n",
    "# Use simple label encoding\n",
    "cbenc = ce.CatBoostEncoder(cols=cat_features, random_state=1)"
   ]
  },
  {
   "cell_type": "code",
   "execution_count": 8,
   "metadata": {},
   "outputs": [
    {
     "name": "stdout",
     "output_type": "stream",
     "text": [
      "15.99546155194375\n"
     ]
    }
   ],
   "source": [
    "# Set up feature data and target data\n",
    "X = tutors_cb.drop('log_hourly_rate', axis=1)\n",
    "y = tutors_cb['log_hourly_rate']\n",
    "\n",
    "# Initialise a balanced logisitic regression model\n",
    "#model_base = XGBRegressor(n_estimators=400, learning_rate=0.01, random_state=1)\n",
    "model_base = RandomForestRegressor(criterion = 'mae' , random_state=1)\n",
    "\n",
    "# Perform feature normalisation\n",
    "#scaler = StandardScaler()\n",
    "\n",
    "# Split into 80% training, 20% test\n",
    "train_X, val_X, train_y, val_y = train_test_split(X, y, train_size=0.8, test_size=0.2, random_state = 1)\n",
    "\n",
    "cbenc.fit(train_X[cat_features], train_y)\n",
    "\n",
    "train_X = train_X.join(cbenc.transform(train_X[cat_features]).add_suffix('_cb'))\n",
    "train_X = train_X.drop('state',axis=1)\n",
    "val_X = val_X.join(cbenc.transform(val_X[cat_features]).add_suffix('_cb'))\n",
    "val_X = val_X.drop('state',axis=1)\n",
    "\n",
    "model_base.fit(train_X.values, train_y.values)\n",
    "\n",
    "preds_val = model_base.predict(val_X.values)\n",
    "mae = mean_absolute_error(np.exp(val_y.values), np.exp(preds_val))\n",
    "#mae = mean_absolute_error(val_y.values, preds_val)\n",
    "print(mae)"
   ]
  },
  {
   "cell_type": "code",
   "execution_count": 9,
   "metadata": {},
   "outputs": [
    {
     "data": {
      "text/plain": [
       "<matplotlib.axes._subplots.AxesSubplot at 0x7f58c8a44ac0>"
      ]
     },
     "execution_count": 9,
     "metadata": {},
     "output_type": "execute_result"
    },
    {
     "data": {
      "image/png": "[encoded data removed]",
      "text/plain": [
       "<Figure size 432x288 with 1 Axes>"
      ]
     },
     "metadata": {
      "needs_background": "light"
     },
     "output_type": "display_data"
    }
   ],
   "source": [
    "sb.regplot(val_y,preds_val)"
   ]
  },
  {
   "cell_type": "code",
   "execution_count": 10,
   "metadata": {},
   "outputs": [
    {
     "data": {
      "text/plain": [
       "0.08838061337865644"
      ]
     },
     "execution_count": 10,
     "metadata": {},
     "output_type": "execute_result"
    }
   ],
   "source": [
    "r2_score(np.exp(val_y.values),np.exp(preds_val))"
   ]
  },
  {
   "cell_type": "code",
   "execution_count": 11,
   "metadata": {},
   "outputs": [],
   "source": [
    "stopWords = list(esw) + ['teacher','tutor','tutoring','experience']\n",
    "tfidf = TfidfVectorizer(\n",
    "    min_df = 5,\n",
    "    max_df = 0.95,\n",
    "    max_features = 20000,\n",
    "    stop_words = stopWords\n",
    ")\n",
    "tfidf.fit(tutor_data['description'])\n",
    "text = tfidf.transform(tutor_data['description'])"
   ]
  },
  {
   "cell_type": "code",
   "execution_count": 12,
   "metadata": {},
   "outputs": [],
   "source": [
    "description_df = pd.DataFrame(PCA(n_components=2).fit_transform(text.todense()))"
   ]
  },
  {
   "cell_type": "code",
   "execution_count": 13,
   "metadata": {},
   "outputs": [],
   "source": [
    "tutors_tfidf = tutor_data[all_features].join(description_df).dropna()"
   ]
  },
  {
   "cell_type": "code",
   "execution_count": 14,
   "metadata": {},
   "outputs": [
    {
     "data": {
      "text/plain": [
       "0"
      ]
     },
     "execution_count": 14,
     "metadata": {},
     "output_type": "execute_result"
    }
   ],
   "source": [
    "len(tutors_tfidf[tutors_tfidf[0].isnull()])"
   ]
  },
  {
   "cell_type": "code",
   "execution_count": 15,
   "metadata": {},
   "outputs": [
    {
     "name": "stdout",
     "output_type": "stream",
     "text": [
      "17.487408694098978\n"
     ]
    }
   ],
   "source": [
    "# Set up feature data and target data\n",
    "X = tutors_tfidf.drop('log_hourly_rate', axis=1)\n",
    "y = tutors_tfidf['log_hourly_rate']\n",
    "\n",
    "# Initialise a balanced logisitic regression model\n",
    "model_base = XGBRegressor(n_estimators=600, learning_rate=0.01, random_state=1)\n",
    "#model_base = RandomForestRegressor(criterion = 'mae' , random_state=1)\n",
    "\n",
    "# Perform feature normalisation\n",
    "#scaler = StandardScaler()\n",
    "\n",
    "# Split into 80% training, 20% test\n",
    "train_X, val_X, train_y, val_y = train_test_split(X, y, train_size=0.8, test_size=0.2, random_state = 1)\n",
    "\n",
    "cbenc.fit(train_X[cat_features], train_y)\n",
    "\n",
    "train_X = train_X.join(cbenc.transform(train_X[cat_features]).add_suffix('_cb'))\n",
    "train_X = train_X.drop('state',axis=1)\n",
    "val_X = val_X.join(cbenc.transform(val_X[cat_features]).add_suffix('_cb'))\n",
    "val_X = val_X.drop('state',axis=1)\n",
    "\n",
    "model_base.fit(train_X.values, train_y.values)\n",
    "\n",
    "preds_val = model_base.predict(val_X.values)\n",
    "mae = mean_absolute_error(np.exp(val_y.values), np.exp(preds_val))\n",
    "#mae = mean_absolute_error(val_y.values, preds_val)\n",
    "print(mae)"
   ]
  },
  {
   "cell_type": "code",
   "execution_count": 16,
   "metadata": {},
   "outputs": [
    {
     "data": {
      "text/plain": [
       "<matplotlib.axes._subplots.AxesSubplot at 0x7f58c847b2e0>"
      ]
     },
     "execution_count": 16,
     "metadata": {},
     "output_type": "execute_result"
    },
    {
     "data": {
      "image/png": "[encoded data removed]",
      "text/plain": [
       "<Figure size 432x288 with 1 Axes>"
      ]
     },
     "metadata": {
      "needs_background": "light"
     },
     "output_type": "display_data"
    }
   ],
   "source": [
    "sb.regplot(val_y,preds_val)"
   ]
  },
  {
   "cell_type": "code",
   "execution_count": 17,
   "metadata": {},
   "outputs": [
    {
     "data": {
      "image/png": "[encoded data removed]",
      "text/plain": [
       "<Figure size 432x288 with 1 Axes>"
      ]
     },
     "metadata": {
      "needs_background": "light"
     },
     "output_type": "display_data"
    }
   ],
   "source": [
    "plot_importance(model_base)\n",
    "plt.show()"
   ]
  },
  {
   "cell_type": "code",
   "execution_count": 18,
   "metadata": {},
   "outputs": [
    {
     "data": {
      "text/html": [
       "<div>\n",
       "<style scoped>\n",
       "    .dataframe tbody tr th:only-of-type {\n",
       "        vertical-align: middle;\n",
       "    }\n",
       "\n",
       "    .dataframe tbody tr th {\n",
       "        vertical-align: top;\n",
       "    }\n",
       "\n",
       "    .dataframe thead th {\n",
       "        text-align: right;\n",
       "    }\n",
       "</style>\n",
       "<table border=\"1\" class=\"dataframe\">\n",
       "  <thead>\n",
       "    <tr style=\"text-align: right;\">\n",
       "      <th></th>\n",
       "      <th>index</th>\n",
       "      <th>tutor_ids</th>\n",
       "      <th>subjects</th>\n",
       "    </tr>\n",
       "  </thead>\n",
       "  <tbody>\n",
       "    <tr>\n",
       "      <th>0</th>\n",
       "      <td>0</td>\n",
       "      <td>7269032</td>\n",
       "      <td>Precalculus</td>\n",
       "    </tr>\n",
       "    <tr>\n",
       "      <th>1</th>\n",
       "      <td>1</td>\n",
       "      <td>7269032</td>\n",
       "      <td>French</td>\n",
       "    </tr>\n",
       "    <tr>\n",
       "      <th>2</th>\n",
       "      <td>2</td>\n",
       "      <td>7269032</td>\n",
       "      <td>European History</td>\n",
       "    </tr>\n",
       "    <tr>\n",
       "      <th>3</th>\n",
       "      <td>3</td>\n",
       "      <td>7269032</td>\n",
       "      <td>Calculus</td>\n",
       "    </tr>\n",
       "    <tr>\n",
       "      <th>4</th>\n",
       "      <td>4</td>\n",
       "      <td>7269032</td>\n",
       "      <td>Spanish</td>\n",
       "    </tr>\n",
       "  </tbody>\n",
       "</table>\n",
       "</div>"
      ],
      "text/plain": [
       "   index tutor_ids          subjects\n",
       "0      0   7269032       Precalculus\n",
       "1      1   7269032            French\n",
       "2      2   7269032  European History\n",
       "3      3   7269032          Calculus\n",
       "4      4   7269032           Spanish"
      ]
     },
     "execution_count": 18,
     "metadata": {},
     "output_type": "execute_result"
    }
   ],
   "source": [
    "sql_query = \"\"\"\n",
    "SELECT * FROM tutor_subjects\n",
    "\"\"\"\n",
    "tutor_subjects = pd.read_sql_query(sql_query,con)\n",
    "tutor_subjects.head()"
   ]
  },
  {
   "cell_type": "code",
   "execution_count": 19,
   "metadata": {},
   "outputs": [],
   "source": [
    "tutors_joined = tutor_subjects.groupby('tutor_ids')['subjects'].apply(lambda x: ' '.join(x)).reset_index()"
   ]
  },
  {
   "cell_type": "code",
   "execution_count": 20,
   "metadata": {},
   "outputs": [],
   "source": [
    "tutors_joined['tutor_ids']=tutors_joined['tutor_ids'].apply(float)\n",
    "tutors_joined['tutor_ids']=tutors_joined['tutor_ids'].apply(int)"
   ]
  },
  {
   "cell_type": "code",
   "execution_count": 21,
   "metadata": {},
   "outputs": [],
   "source": [
    "stopWords = []\n",
    "tfidf = TfidfVectorizer(\n",
    "    min_df = 5,\n",
    "    max_df = 0.95,\n",
    "    max_features = 20000,\n",
    "    stop_words = stopWords\n",
    ")\n",
    "tfidf.fit(tutors_joined['subjects'])\n",
    "text = tfidf.transform(tutors_joined['subjects'])"
   ]
  },
  {
   "cell_type": "code",
   "execution_count": 22,
   "metadata": {},
   "outputs": [],
   "source": [
    "subjects_df = pd.DataFrame(PCA(n_components=2).fit_transform(text.todense()))"
   ]
  },
  {
   "cell_type": "code",
   "execution_count": 23,
   "metadata": {},
   "outputs": [],
   "source": [
    "tutors_tfidf = tutor_data[all_features].join(subjects_df).dropna()"
   ]
  },
  {
   "cell_type": "code",
   "execution_count": 24,
   "metadata": {},
   "outputs": [
    {
     "data": {
      "text/html": [
       "<div>\n",
       "<style scoped>\n",
       "    .dataframe tbody tr th:only-of-type {\n",
       "        vertical-align: middle;\n",
       "    }\n",
       "\n",
       "    .dataframe tbody tr th {\n",
       "        vertical-align: top;\n",
       "    }\n",
       "\n",
       "    .dataframe thead th {\n",
       "        text-align: right;\n",
       "    }\n",
       "</style>\n",
       "<table border=\"1\" class=\"dataframe\">\n",
       "  <thead>\n",
       "    <tr style=\"text-align: right;\">\n",
       "      <th></th>\n",
       "      <th>state</th>\n",
       "      <th>qual_encoded</th>\n",
       "      <th>rating_count</th>\n",
       "      <th>rating_av</th>\n",
       "      <th>review_count</th>\n",
       "      <th>bio_length</th>\n",
       "      <th>num_subjects</th>\n",
       "      <th>hours_tutoring</th>\n",
       "      <th>edu_length</th>\n",
       "      <th>mean_hours</th>\n",
       "      <th>log_hourly_rate</th>\n",
       "      <th>0</th>\n",
       "      <th>1</th>\n",
       "    </tr>\n",
       "  </thead>\n",
       "  <tbody>\n",
       "    <tr>\n",
       "      <th>0</th>\n",
       "      <td>CA</td>\n",
       "      <td>1</td>\n",
       "      <td>269</td>\n",
       "      <td>4.98885</td>\n",
       "      <td>15.0</td>\n",
       "      <td>376</td>\n",
       "      <td>5</td>\n",
       "      <td>839.0</td>\n",
       "      <td>7</td>\n",
       "      <td>0.500000</td>\n",
       "      <td>4.094345</td>\n",
       "      <td>0.159002</td>\n",
       "      <td>0.165303</td>\n",
       "    </tr>\n",
       "    <tr>\n",
       "      <th>1</th>\n",
       "      <td>CA</td>\n",
       "      <td>1</td>\n",
       "      <td>338</td>\n",
       "      <td>4.93195</td>\n",
       "      <td>18.0</td>\n",
       "      <td>323</td>\n",
       "      <td>31</td>\n",
       "      <td>962.0</td>\n",
       "      <td>7</td>\n",
       "      <td>0.517857</td>\n",
       "      <td>4.317488</td>\n",
       "      <td>0.436944</td>\n",
       "      <td>0.130791</td>\n",
       "    </tr>\n",
       "    <tr>\n",
       "      <th>2</th>\n",
       "      <td>CA</td>\n",
       "      <td>0</td>\n",
       "      <td>1046</td>\n",
       "      <td>4.94349</td>\n",
       "      <td>74.0</td>\n",
       "      <td>248</td>\n",
       "      <td>72</td>\n",
       "      <td>3899.0</td>\n",
       "      <td>4</td>\n",
       "      <td>1.000000</td>\n",
       "      <td>4.553877</td>\n",
       "      <td>-0.286535</td>\n",
       "      <td>-0.298851</td>\n",
       "    </tr>\n",
       "    <tr>\n",
       "      <th>3</th>\n",
       "      <td>CA</td>\n",
       "      <td>1</td>\n",
       "      <td>1602</td>\n",
       "      <td>4.97940</td>\n",
       "      <td>32.0</td>\n",
       "      <td>417</td>\n",
       "      <td>19</td>\n",
       "      <td>5592.0</td>\n",
       "      <td>7</td>\n",
       "      <td>0.357143</td>\n",
       "      <td>4.553877</td>\n",
       "      <td>0.329705</td>\n",
       "      <td>-0.370410</td>\n",
       "    </tr>\n",
       "    <tr>\n",
       "      <th>4</th>\n",
       "      <td>CA</td>\n",
       "      <td>0</td>\n",
       "      <td>67</td>\n",
       "      <td>4.98507</td>\n",
       "      <td>12.0</td>\n",
       "      <td>173</td>\n",
       "      <td>5</td>\n",
       "      <td>230.0</td>\n",
       "      <td>4</td>\n",
       "      <td>0.089286</td>\n",
       "      <td>4.828314</td>\n",
       "      <td>0.231302</td>\n",
       "      <td>-0.017491</td>\n",
       "    </tr>\n",
       "  </tbody>\n",
       "</table>\n",
       "</div>"
      ],
      "text/plain": [
       "  state  qual_encoded  rating_count  rating_av  review_count  bio_length  \\\n",
       "0    CA             1           269    4.98885          15.0         376   \n",
       "1    CA             1           338    4.93195          18.0         323   \n",
       "2    CA             0          1046    4.94349          74.0         248   \n",
       "3    CA             1          1602    4.97940          32.0         417   \n",
       "4    CA             0            67    4.98507          12.0         173   \n",
       "\n",
       "   num_subjects  hours_tutoring  edu_length  mean_hours  log_hourly_rate  \\\n",
       "0             5           839.0           7    0.500000         4.094345   \n",
       "1            31           962.0           7    0.517857         4.317488   \n",
       "2            72          3899.0           4    1.000000         4.553877   \n",
       "3            19          5592.0           7    0.357143         4.553877   \n",
       "4             5           230.0           4    0.089286         4.828314   \n",
       "\n",
       "          0         1  \n",
       "0  0.159002  0.165303  \n",
       "1  0.436944  0.130791  \n",
       "2 -0.286535 -0.298851  \n",
       "3  0.329705 -0.370410  \n",
       "4  0.231302 -0.017491  "
      ]
     },
     "execution_count": 24,
     "metadata": {},
     "output_type": "execute_result"
    }
   ],
   "source": [
    "tutors_tfidf.head()"
   ]
  },
  {
   "cell_type": "code",
   "execution_count": 25,
   "metadata": {},
   "outputs": [
    {
     "name": "stdout",
     "output_type": "stream",
     "text": [
      "15.731445682902812\n"
     ]
    }
   ],
   "source": [
    "# Set up feature data and target data\n",
    "X = tutors_tfidf.drop('log_hourly_rate', axis=1)\n",
    "y = tutors_tfidf['log_hourly_rate']\n",
    "\n",
    "# Initialise a balanced logisitic regression model\n",
    "model_base = XGBRegressor(n_estimators=500, learning_rate=0.01, random_state=1)\n",
    "#model_base = RandomForestRegressor(criterion = 'mae' , random_state=1)\n",
    "\n",
    "# Perform feature normalisation\n",
    "#scaler = StandardScaler()\n",
    "\n",
    "# Split into 80% training, 20% test\n",
    "train_X, val_X, train_y, val_y = train_test_split(X, y, train_size=0.8, test_size=0.2, random_state = 1)\n",
    "\n",
    "cbenc.fit(train_X[cat_features], train_y)\n",
    "\n",
    "train_X = train_X.join(cbenc.transform(train_X[cat_features]).add_suffix('_cb'))\n",
    "train_X = train_X.drop('state',axis=1)\n",
    "val_X = val_X.join(cbenc.transform(val_X[cat_features]).add_suffix('_cb'))\n",
    "val_X = val_X.drop('state',axis=1)\n",
    "\n",
    "model_base.fit(train_X.values, train_y.values)\n",
    "\n",
    "preds_val = model_base.predict(val_X.values)\n",
    "mae = mean_absolute_error(np.exp(val_y.values), np.exp(preds_val))\n",
    "#mae = mean_absolute_error(val_y.values, preds_val)\n",
    "print(mae)"
   ]
  },
  {
   "cell_type": "code",
   "execution_count": 26,
   "metadata": {},
   "outputs": [
    {
     "data": {
      "text/plain": [
       "<matplotlib.axes._subplots.AxesSubplot at 0x7f58c87d6cd0>"
      ]
     },
     "execution_count": 26,
     "metadata": {},
     "output_type": "execute_result"
    },
    {
     "data": {
      "image/png": "[encoded data removed]",
      "text/plain": [
       "<Figure size 432x288 with 1 Axes>"
      ]
     },
     "metadata": {
      "needs_background": "light"
     },
     "output_type": "display_data"
    }
   ],
   "source": [
    "sb.regplot(val_y,preds_val)"
   ]
  },
  {
   "cell_type": "code",
   "execution_count": 119,
   "metadata": {},
   "outputs": [],
   "source": [
    "cat_features = ['state','qual_encoded']\n",
    "#num_features = ['rating_count','rating_av','review_count','bio_length',\n",
    "#               'num_subjects','hours_tutoring','edu_length','mean_hours','log_hourly_rate']\n",
    "\n",
    "all_features = ['state','qual_encoded', 'rating_count','rating_av','review_count','bio_length',\n",
    "               'num_subjects','hours_tutoring','edu_length','mean_hours','log_hourly_rate']\n",
    "\n",
    "tutors_tfidf = tutor_data[all_features].join(subjects_df).dropna()\n",
    "\n",
    "# Use simple label encoding\n",
    "cbenc = ce.CatBoostEncoder(cols=cat_features, random_state=1)"
   ]
  },
  {
   "cell_type": "code",
   "execution_count": 135,
   "metadata": {},
   "outputs": [],
   "source": [
    "tutors_outliers = tutors_tfidf[tutors_tfidf['log_hourly_rate']<5.3]\n",
    "state_counts = tutors_outliers['state'].value_counts().reset_index()\n",
    "tutor_out_state = pd.merge(tutors_outliers, state_counts, left_on = 'state', right_on = 'index').drop('index',axis=1)\n",
    "tutor_out_state['state_y']=tutor_out_state['state_y'].rdiv(1)"
   ]
  },
  {
   "cell_type": "code",
   "execution_count": 136,
   "metadata": {},
   "outputs": [],
   "source": [
    "cat_features = ['state_x','qual_encoded']\n",
    "#num_features = ['rating_count','rating_av','review_count','bio_length',\n",
    "#               'num_subjects','hours_tutoring','edu_length','mean_hours','log_hourly_rate']\n",
    "\n",
    "all_features = ['state','qual_encoded', 'rating_count','rating_av','review_count','bio_length',\n",
    "               'num_subjects','hours_tutoring','edu_length','mean_hours','log_hourly_rate',0,1,'state_y']\n",
    "\n",
    "# Use simple label encoding\n",
    "cbenc = ce.CatBoostEncoder(cols=cat_features, random_state=1)"
   ]
  },
  {
   "cell_type": "code",
   "execution_count": 137,
   "metadata": {},
   "outputs": [
    {
     "name": "stdout",
     "output_type": "stream",
     "text": [
      "14.548551185480601\n"
     ]
    }
   ],
   "source": [
    "# Set up feature data and target data\n",
    "X = tutor_out_state.drop('log_hourly_rate', axis=1)\n",
    "y = tutor_out_state['log_hourly_rate']\n",
    "\n",
    "# Initialise a balanced logisitic regression model\n",
    "model_base = XGBRegressor(n_estimators=500, learning_rate=0.01, random_state=1)\n",
    "#model_base = RandomForestRegressor(criterion = 'mae' , random_state=1)\n",
    "\n",
    "# Perform feature normalisation\n",
    "#scaler = StandardScaler()\n",
    "\n",
    "# Split into 80% training, 20% test\n",
    "train_X, val_X, train_y, val_y = train_test_split(X, y, train_size=0.8, test_size=0.2, random_state = 1)\n",
    "\n",
    "cbenc.fit(train_X[cat_features], train_y)\n",
    "\n",
    "train_X = train_X.join(cbenc.transform(train_X[cat_features]).add_suffix('_cb'))\n",
    "train_X = train_X.drop('state_x',axis=1)\n",
    "val_X = val_X.join(cbenc.transform(val_X[cat_features]).add_suffix('_cb'))\n",
    "val_X = val_X.drop('state_x',axis=1)\n",
    "\n",
    "model_base.fit(train_X.values, train_y.values)\n",
    "\n",
    "preds_val = model_base.predict(val_X.values)\n",
    "mae = mean_absolute_error(np.exp(val_y.values), np.exp(preds_val))\n",
    "#mae = mean_absolute_error(val_y.values, preds_val)\n",
    "print(mae)"
   ]
  },
  {
   "cell_type": "code",
   "execution_count": 134,
   "metadata": {},
   "outputs": [
    {
     "data": {
      "text/plain": [
       "<matplotlib.axes._subplots.AxesSubplot at 0x7f58c6334100>"
      ]
     },
     "execution_count": 134,
     "metadata": {},
     "output_type": "execute_result"
    },
    {
     "data": {
      "image/png": "[encoded data removed]",
      "text/plain": [
       "<Figure size 432x288 with 1 Axes>"
      ]
     },
     "metadata": {
      "needs_background": "light"
     },
     "output_type": "display_data"
    }
   ],
   "source": [
    "sb.regplot(val_y,preds_val)"
   ]
  },
  {
   "cell_type": "code",
   "execution_count": 31,
   "metadata": {},
   "outputs": [
    {
     "data": {
      "image/png": "[encoded data removed]",
      "text/plain": [
       "<Figure size 432x288 with 1 Axes>"
      ]
     },
     "metadata": {
      "needs_background": "light"
     },
     "output_type": "display_data"
    }
   ],
   "source": [
    "plot_importance(model_base)\n",
    "plt.show()"
   ]
  },
  {
   "cell_type": "code",
   "execution_count": 32,
   "metadata": {},
   "outputs": [],
   "source": [
    "stopWords = list(esw) + ['teacher','tutor','tutoring','experience']\n",
    "tfidf_bio = TfidfVectorizer(\n",
    "    min_df = 5,\n",
    "    max_df = 0.95,\n",
    "    max_features = 20000,\n",
    "    stop_words = stopWords\n",
    ")\n",
    "tfidf_bio.fit(tutor_data['bio'])\n",
    "text_bio = tfidf_bio.transform(tutor_data['bio'])"
   ]
  },
  {
   "cell_type": "code",
   "execution_count": 37,
   "metadata": {},
   "outputs": [],
   "source": [
    "bio_df = pd.DataFrame(PCA(n_components=2).fit_transform(text_bio.todense()))\n",
    "tutors_biotfidf = tutor_data[all_features].join(bio_df).dropna()\n",
    "tutors_biotfidf = tutors_biotfidf[tutors_biotfidf['log_hourly_rate']<5.3]"
   ]
  },
  {
   "cell_type": "code",
   "execution_count": 38,
   "metadata": {},
   "outputs": [
    {
     "name": "stdout",
     "output_type": "stream",
     "text": [
      "13.884577755246843\n"
     ]
    }
   ],
   "source": [
    "# Set up feature data and target data\n",
    "X = tutors_biotfidf.drop('log_hourly_rate', axis=1)\n",
    "y = tutors_biotfidf['log_hourly_rate']\n",
    "\n",
    "# Initialise a balanced logisitic regression model\n",
    "model_base = XGBRegressor(n_estimators=500, learning_rate=0.01, random_state=1)\n",
    "#model_base = RandomForestRegressor(criterion = 'mae' , random_state=1)\n",
    "\n",
    "# Perform feature normalisation\n",
    "#scaler = StandardScaler()\n",
    "\n",
    "# Split into 80% training, 20% test\n",
    "train_X, val_X, train_y, val_y = train_test_split(X, y, train_size=0.8, test_size=0.2, random_state = 1)\n",
    "\n",
    "cbenc.fit(train_X[cat_features], train_y)\n",
    "\n",
    "train_X = train_X.join(cbenc.transform(train_X[cat_features]).add_suffix('_cb'))\n",
    "train_X = train_X.drop('state',axis=1)\n",
    "val_X = val_X.join(cbenc.transform(val_X[cat_features]).add_suffix('_cb'))\n",
    "val_X = val_X.drop('state',axis=1)\n",
    "\n",
    "model_base.fit(train_X.values, train_y.values)\n",
    "\n",
    "preds_val = model_base.predict(val_X.values)\n",
    "mae = mean_absolute_error(np.exp(val_y.values), np.exp(preds_val))\n",
    "#mae = mean_absolute_error(val_y.values, preds_val)\n",
    "print(mae)"
   ]
  },
  {
   "cell_type": "code",
   "execution_count": 39,
   "metadata": {},
   "outputs": [
    {
     "data": {
      "text/plain": [
       "<matplotlib.axes._subplots.AxesSubplot at 0x7f58c5a2b070>"
      ]
     },
     "execution_count": 39,
     "metadata": {},
     "output_type": "execute_result"
    },
    {
     "data": {
      "image/png": "[encoded data removed]",
      "text/plain": [
       "<Figure size 432x288 with 1 Axes>"
      ]
     },
     "metadata": {
      "needs_background": "light"
     },
     "output_type": "display_data"
    }
   ],
   "source": [
    "sb.regplot(val_y,preds_val)"
   ]
  },
  {
   "cell_type": "code",
   "execution_count": 49,
   "metadata": {},
   "outputs": [],
   "source": [
    "#tutors_bio_subjects = tutors_tfidf.join(bio_df)\n",
    "bio_df = bio_df.rename(columns={0: 'bio_0',1: 'bio_1'})"
   ]
  },
  {
   "cell_type": "code",
   "execution_count": 51,
   "metadata": {},
   "outputs": [],
   "source": [
    "tutors_bio_subjects = tutors_tfidf.join(bio_df, how='left')"
   ]
  },
  {
   "cell_type": "code",
   "execution_count": 116,
   "metadata": {},
   "outputs": [],
   "source": [
    "tutors_bio_subjects = tutors_bio_subjects[tutors_bio_subjects['log_hourly_rate']<5.3].dropna()"
   ]
  },
  {
   "cell_type": "code",
   "execution_count": 118,
   "metadata": {},
   "outputs": [
    {
     "name": "stdout",
     "output_type": "stream",
     "text": [
      "13.897486280713762\n"
     ]
    }
   ],
   "source": [
    "# Set up feature data and target data\n",
    "X = tutors_bio_subjects.drop('log_hourly_rate', axis=1)\n",
    "y = tutors_bio_subjects['log_hourly_rate']\n",
    "\n",
    "# Initialise a balanced logisitic regression model\n",
    "model_base = XGBRegressor(n_estimators=500, learning_rate=0.01, random_state=1)\n",
    "#model_base = RandomForestRegressor(criterion = 'mae' , random_state=1)\n",
    "\n",
    "# Perform feature normalisation\n",
    "#scaler = StandardScaler()\n",
    "\n",
    "# Split into 80% training, 20% test\n",
    "train_X, val_X, train_y, val_y = train_test_split(X, y, train_size=0.8, test_size=0.2, random_state = 1)\n",
    "\n",
    "cbenc.fit(train_X[cat_features], train_y)\n",
    "\n",
    "train_X = train_X.join(cbenc.transform(train_X[cat_features]).add_suffix('_cb'))\n",
    "train_X = train_X.drop('state',axis=1)\n",
    "val_X = val_X.join(cbenc.transform(val_X[cat_features]).add_suffix('_cb'))\n",
    "val_X = val_X.drop('state',axis=1)\n",
    "\n",
    "model_base.fit(train_X.values, train_y.values)\n",
    "\n",
    "preds_val = model_base.predict(val_X.values)\n",
    "mae = mean_absolute_error(np.exp(val_y.values), np.exp(preds_val))\n",
    "#mae = mean_absolute_error(val_y.values, preds_val)\n",
    "print(mae)"
   ]
  },
  {
   "cell_type": "code",
   "execution_count": 55,
   "metadata": {},
   "outputs": [
    {
     "data": {
      "text/plain": [
       "<matplotlib.axes._subplots.AxesSubplot at 0x7f58c576e9a0>"
      ]
     },
     "execution_count": 55,
     "metadata": {},
     "output_type": "execute_result"
    },
    {
     "data": {
      "image/png": "[encoded data removed]",
      "text/plain": [
       "<Figure size 432x288 with 1 Axes>"
      ]
     },
     "metadata": {
      "needs_background": "light"
     },
     "output_type": "display_data"
    }
   ],
   "source": [
    "sb.regplot(val_y,preds_val)"
   ]
  },
  {
   "cell_type": "code",
   "execution_count": 65,
   "metadata": {},
   "outputs": [
    {
     "data": {
      "text/plain": [
       "2083635.0"
      ]
     },
     "execution_count": 65,
     "metadata": {},
     "output_type": "execute_result"
    }
   ],
   "source": [
    "tutor_data['hours_tutoring'].sum()"
   ]
  },
  {
   "cell_type": "code",
   "execution_count": 138,
   "metadata": {},
   "outputs": [
    {
     "data": {
      "text/plain": [
       "1678"
      ]
     },
     "execution_count": 138,
     "metadata": {},
     "output_type": "execute_result"
    }
   ],
   "source": [
    "len(val_y)"
   ]
  },
  {
   "cell_type": "code",
   "execution_count": 73,
   "metadata": {},
   "outputs": [],
   "source": [
    "tutor_subjects['tutor_ids']=tutor_subjects['tutor_ids'].apply(float)\n",
    "tutor_subjects['tutor_ids']=tutor_subjects['tutor_ids'].apply(int)\n",
    "tut_hours = pd.merge(tutor_subjects, tutor_data, left_on = 'tutor_ids', right_on = 'tut_id')[['subjects','hours_tutoring']]"
   ]
  },
  {
   "cell_type": "code",
   "execution_count": 78,
   "metadata": {},
   "outputs": [
    {
     "data": {
      "text/html": [
       "<div>\n",
       "<style scoped>\n",
       "    .dataframe tbody tr th:only-of-type {\n",
       "        vertical-align: middle;\n",
       "    }\n",
       "\n",
       "    .dataframe tbody tr th {\n",
       "        vertical-align: top;\n",
       "    }\n",
       "\n",
       "    .dataframe thead th {\n",
       "        text-align: right;\n",
       "    }\n",
       "</style>\n",
       "<table border=\"1\" class=\"dataframe\">\n",
       "  <thead>\n",
       "    <tr style=\"text-align: right;\">\n",
       "      <th></th>\n",
       "      <th>hours_tutoring</th>\n",
       "    </tr>\n",
       "    <tr>\n",
       "      <th>subjects</th>\n",
       "      <th></th>\n",
       "    </tr>\n",
       "  </thead>\n",
       "  <tbody>\n",
       "    <tr>\n",
       "      <th>Algebra 1</th>\n",
       "      <td>1962447.0</td>\n",
       "    </tr>\n",
       "    <tr>\n",
       "      <th>Prealgebra</th>\n",
       "      <td>1816177.0</td>\n",
       "    </tr>\n",
       "    <tr>\n",
       "      <th>Algebra 2</th>\n",
       "      <td>1797808.0</td>\n",
       "    </tr>\n",
       "    <tr>\n",
       "      <th>Geometry</th>\n",
       "      <td>1683441.0</td>\n",
       "    </tr>\n",
       "    <tr>\n",
       "      <th>SAT Math</th>\n",
       "      <td>1652997.0</td>\n",
       "    </tr>\n",
       "    <tr>\n",
       "      <th>...</th>\n",
       "      <td>...</td>\n",
       "    </tr>\n",
       "    <tr>\n",
       "      <th>Harp</th>\n",
       "      <td>2111.0</td>\n",
       "    </tr>\n",
       "    <tr>\n",
       "      <th>Tango</th>\n",
       "      <td>1910.0</td>\n",
       "    </tr>\n",
       "    <tr>\n",
       "      <th>Thai</th>\n",
       "      <td>1758.0</td>\n",
       "    </tr>\n",
       "    <tr>\n",
       "      <th>Dutch</th>\n",
       "      <td>1376.0</td>\n",
       "    </tr>\n",
       "    <tr>\n",
       "      <th>Bulgarian</th>\n",
       "      <td>1326.0</td>\n",
       "    </tr>\n",
       "  </tbody>\n",
       "</table>\n",
       "<p>287 rows × 1 columns</p>\n",
       "</div>"
      ],
      "text/plain": [
       "            hours_tutoring\n",
       "subjects                  \n",
       "Algebra 1        1962447.0\n",
       "Prealgebra       1816177.0\n",
       "Algebra 2        1797808.0\n",
       "Geometry         1683441.0\n",
       "SAT Math         1652997.0\n",
       "...                    ...\n",
       "Harp                2111.0\n",
       "Tango               1910.0\n",
       "Thai                1758.0\n",
       "Dutch               1376.0\n",
       "Bulgarian           1326.0\n",
       "\n",
       "[287 rows x 1 columns]"
      ]
     },
     "execution_count": 78,
     "metadata": {},
     "output_type": "execute_result"
    }
   ],
   "source": [
    "tut_hours.groupby('subjects').sum().sort_values(by='hours_tutoring',ascending=False)"
   ]
  },
  {
   "cell_type": "code",
   "execution_count": 97,
   "metadata": {},
   "outputs": [],
   "source": [
    "states_counted = tutors_bio_subjects['state'].value_counts().reset_index()\n",
    "states200 = states_counted[states_counted['state']>200]['index'].values\n",
    "tutors200 = tutors_bio_subjects[tutors_bio_subjects['state'].isin(states200)]"
   ]
  },
  {
   "cell_type": "code",
   "execution_count": 114,
   "metadata": {},
   "outputs": [
    {
     "name": "stdout",
     "output_type": "stream",
     "text": [
      "14.38582904685597\n"
     ]
    }
   ],
   "source": [
    "# Set up feature data and target data\n",
    "X = tutors200.drop('log_hourly_rate', axis=1)\n",
    "y = tutors200['log_hourly_rate']\n",
    "\n",
    "# Initialise a balanced logisitic regression model\n",
    "#model_base = XGBRegressor(n_estimators=500, learning_rate=0.01, random_state=1)\n",
    "#model_base = RandomForestRegressor(criterion = 'mae' , random_state=1)\n",
    "#model_base = lgb.LGBMRegressor(n_estimators=100)\n",
    "\n",
    "# Perform feature normalisation\n",
    "#scaler = StandardScaler()\n",
    "\n",
    "# Split into 80% training, 20% test\n",
    "train_X, val_X, train_y, val_y = train_test_split(X, y, train_size=0.8, test_size=0.2, random_state = 1)\n",
    "\n",
    "cbenc.fit(train_X[cat_features], train_y)\n",
    "\n",
    "train_X = train_X.join(cbenc.transform(train_X[cat_features]).add_suffix('_cb'))\n",
    "train_X = train_X.drop('state',axis=1)\n",
    "val_X = val_X.join(cbenc.transform(val_X[cat_features]).add_suffix('_cb'))\n",
    "val_X = val_X.drop('state',axis=1)\n",
    "\n",
    "model_base.fit(train_X.values, train_y.values)\n",
    "\n",
    "preds_val = model_base.predict(val_X.values)\n",
    "mae = mean_absolute_error(np.exp(val_y.values), np.exp(preds_val))\n",
    "#mae = mean_absolute_error(val_y.values, preds_val)\n",
    "print(mae)"
   ]
  },
  {
   "cell_type": "code",
   "execution_count": 111,
   "metadata": {},
   "outputs": [
    {
     "data": {
      "text/plain": [
       "<matplotlib.axes._subplots.AxesSubplot at 0x7f58c47955b0>"
      ]
     },
     "execution_count": 111,
     "metadata": {},
     "output_type": "execute_result"
    },
    {
     "data": {
      "image/png": "[encoded data removed]",
      "text/plain": [
       "<Figure size 432x288 with 1 Axes>"
      ]
     },
     "metadata": {
      "needs_background": "light"
     },
     "output_type": "display_data"
    }
   ],
   "source": [
    "sb.regplot(val_y,preds_val)"
   ]
  },
  {
   "cell_type": "code",
   "execution_count": 104,
   "metadata": {},
   "outputs": [],
   "source": [
    "import lightgbm as lgb"
   ]
  },
  {
   "cell_type": "code",
   "execution_count": null,
   "metadata": {},
   "outputs": [],
   "source": [
    "model = LGBMRegressor()\n",
    "model.fit(X, y)\n",
    "# make a single prediction\n",
    "\n",
    "yhat = model.predict(row)\n",
    "print('Prediction: %.3f' % yhat[0])"
   ]
  }
 ],
 "metadata": {
  "kernelspec": {
   "display_name": "Python 3",
   "language": "python",
   "name": "python3"
  },
  "language_info": {
   "codemirror_mode": {
    "name": "ipython",
    "version": 3
   },
   "file_extension": ".py",
   "mimetype": "text/x-python",
   "name": "python",
   "nbconvert_exporter": "python",
   "pygments_lexer": "ipython3",
   "version": "3.8.2"
  }
 },
 "nbformat": 4,
 "nbformat_minor": 4
}
