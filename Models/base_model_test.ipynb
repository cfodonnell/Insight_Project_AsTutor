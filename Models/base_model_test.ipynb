{
 "cells": [
  {
   "cell_type": "code",
   "execution_count": 1,
   "metadata": {},
   "outputs": [],
   "source": [
    "import time\n",
    "import numpy as np\n",
    "import pandas as pd\n",
    "import json\n",
    "import seaborn as sb\n",
    "from matplotlib import pyplot as plt\n",
    "from matplotlib import rcParams\n",
    "import matplotlib.cm as cm\n",
    "from matplotlib.colors import ListedColormap\n",
    "import seaborn as sb\n",
    "\n",
    "from sqlalchemy import create_engine\n",
    "from sqlalchemy_utils import database_exists, create_database\n",
    "import psycopg2\n",
    "\n",
    "from sklearn.cluster import MiniBatchKMeans\n",
    "from sklearn.feature_extraction.text import TfidfVectorizer\n",
    "from sklearn.decomposition import PCA\n",
    "from sklearn.manifold import TSNE\n",
    "import category_encoders as ce\n",
    "from sklearn.preprocessing import OneHotEncoder\n",
    "import pickle\n",
    "\n",
    "from sqlalchemy import create_engine\n",
    "from sqlalchemy_utils import database_exists, create_database\n",
    "import psycopg2\n",
    "import cluster_funcs as cf\n",
    "import re"
   ]
  },
  {
   "cell_type": "code",
   "execution_count": 2,
   "metadata": {},
   "outputs": [
    {
     "data": {
      "text/html": [
       "<div>\n",
       "<style scoped>\n",
       "    .dataframe tbody tr th:only-of-type {\n",
       "        vertical-align: middle;\n",
       "    }\n",
       "\n",
       "    .dataframe tbody tr th {\n",
       "        vertical-align: top;\n",
       "    }\n",
       "\n",
       "    .dataframe thead th {\n",
       "        text-align: right;\n",
       "    }\n",
       "</style>\n",
       "<table border=\"1\" class=\"dataframe\">\n",
       "  <thead>\n",
       "    <tr style=\"text-align: right;\">\n",
       "      <th></th>\n",
       "      <th>state</th>\n",
       "      <th>qual_encoded</th>\n",
       "      <th>num_subjects</th>\n",
       "      <th>hours_tutoring</th>\n",
       "      <th>edu_length</th>\n",
       "      <th>rating_count</th>\n",
       "      <th>review_count</th>\n",
       "      <th>rating_av</th>\n",
       "      <th>bio_length</th>\n",
       "      <th>sunday_hours</th>\n",
       "      <th>...</th>\n",
       "      <th>sub_0</th>\n",
       "      <th>sub_1</th>\n",
       "      <th>sub_2</th>\n",
       "      <th>sub_3</th>\n",
       "      <th>sub_4</th>\n",
       "      <th>ed_0</th>\n",
       "      <th>ed_1</th>\n",
       "      <th>log_hourly_rate</th>\n",
       "      <th>exptext</th>\n",
       "      <th>exp_tot</th>\n",
       "    </tr>\n",
       "  </thead>\n",
       "  <tbody>\n",
       "    <tr>\n",
       "      <th>0</th>\n",
       "      <td>CA</td>\n",
       "      <td>5</td>\n",
       "      <td>5</td>\n",
       "      <td>839.0</td>\n",
       "      <td>7</td>\n",
       "      <td>269</td>\n",
       "      <td>15.0</td>\n",
       "      <td>4.98885</td>\n",
       "      <td>376</td>\n",
       "      <td>0.583333</td>\n",
       "      <td>...</td>\n",
       "      <td>-0.033960</td>\n",
       "      <td>0.222921</td>\n",
       "      <td>-0.062145</td>\n",
       "      <td>-0.069276</td>\n",
       "      <td>0.001775</td>\n",
       "      <td>-0.016402</td>\n",
       "      <td>-0.031496</td>\n",
       "      <td>4.094345</td>\n",
       "      <td>1</td>\n",
       "      <td>16</td>\n",
       "    </tr>\n",
       "    <tr>\n",
       "      <th>1</th>\n",
       "      <td>CA</td>\n",
       "      <td>5</td>\n",
       "      <td>31</td>\n",
       "      <td>962.0</td>\n",
       "      <td>7</td>\n",
       "      <td>338</td>\n",
       "      <td>18.0</td>\n",
       "      <td>4.93195</td>\n",
       "      <td>323</td>\n",
       "      <td>0.500000</td>\n",
       "      <td>...</td>\n",
       "      <td>-0.070633</td>\n",
       "      <td>-0.036473</td>\n",
       "      <td>0.230497</td>\n",
       "      <td>-0.028919</td>\n",
       "      <td>0.076335</td>\n",
       "      <td>0.669648</td>\n",
       "      <td>0.020776</td>\n",
       "      <td>4.317488</td>\n",
       "      <td>13</td>\n",
       "      <td>22</td>\n",
       "    </tr>\n",
       "    <tr>\n",
       "      <th>2</th>\n",
       "      <td>CA</td>\n",
       "      <td>0</td>\n",
       "      <td>72</td>\n",
       "      <td>3899.0</td>\n",
       "      <td>4</td>\n",
       "      <td>1046</td>\n",
       "      <td>74.0</td>\n",
       "      <td>4.94349</td>\n",
       "      <td>248</td>\n",
       "      <td>1.000000</td>\n",
       "      <td>...</td>\n",
       "      <td>-0.043025</td>\n",
       "      <td>-0.138776</td>\n",
       "      <td>0.198153</td>\n",
       "      <td>-0.048833</td>\n",
       "      <td>0.140307</td>\n",
       "      <td>-0.017695</td>\n",
       "      <td>-0.031896</td>\n",
       "      <td>4.553877</td>\n",
       "      <td>0</td>\n",
       "      <td>30</td>\n",
       "    </tr>\n",
       "    <tr>\n",
       "      <th>3</th>\n",
       "      <td>CA</td>\n",
       "      <td>5</td>\n",
       "      <td>19</td>\n",
       "      <td>5592.0</td>\n",
       "      <td>7</td>\n",
       "      <td>1602</td>\n",
       "      <td>32.0</td>\n",
       "      <td>4.97940</td>\n",
       "      <td>417</td>\n",
       "      <td>0.000000</td>\n",
       "      <td>...</td>\n",
       "      <td>-0.223627</td>\n",
       "      <td>-0.112409</td>\n",
       "      <td>-0.049184</td>\n",
       "      <td>-0.233266</td>\n",
       "      <td>-0.042781</td>\n",
       "      <td>-0.022501</td>\n",
       "      <td>-0.033860</td>\n",
       "      <td>4.553877</td>\n",
       "      <td>7</td>\n",
       "      <td>7</td>\n",
       "    </tr>\n",
       "    <tr>\n",
       "      <th>4</th>\n",
       "      <td>CA</td>\n",
       "      <td>0</td>\n",
       "      <td>5</td>\n",
       "      <td>230.0</td>\n",
       "      <td>4</td>\n",
       "      <td>67</td>\n",
       "      <td>12.0</td>\n",
       "      <td>4.98507</td>\n",
       "      <td>173</td>\n",
       "      <td>0.041667</td>\n",
       "      <td>...</td>\n",
       "      <td>-0.190390</td>\n",
       "      <td>0.302855</td>\n",
       "      <td>-0.149778</td>\n",
       "      <td>0.040967</td>\n",
       "      <td>0.016708</td>\n",
       "      <td>-0.017356</td>\n",
       "      <td>-0.031909</td>\n",
       "      <td>4.828314</td>\n",
       "      <td>10</td>\n",
       "      <td>22</td>\n",
       "    </tr>\n",
       "  </tbody>\n",
       "</table>\n",
       "<p>5 rows × 30 columns</p>\n",
       "</div>"
      ],
      "text/plain": [
       "  state  qual_encoded  num_subjects  hours_tutoring  edu_length  rating_count  \\\n",
       "0    CA             5             5           839.0           7           269   \n",
       "1    CA             5            31           962.0           7           338   \n",
       "2    CA             0            72          3899.0           4          1046   \n",
       "3    CA             5            19          5592.0           7          1602   \n",
       "4    CA             0             5           230.0           4            67   \n",
       "\n",
       "   review_count  rating_av  bio_length  sunday_hours  ...     sub_0     sub_1  \\\n",
       "0          15.0    4.98885         376      0.583333  ... -0.033960  0.222921   \n",
       "1          18.0    4.93195         323      0.500000  ... -0.070633 -0.036473   \n",
       "2          74.0    4.94349         248      1.000000  ... -0.043025 -0.138776   \n",
       "3          32.0    4.97940         417      0.000000  ... -0.223627 -0.112409   \n",
       "4          12.0    4.98507         173      0.041667  ... -0.190390  0.302855   \n",
       "\n",
       "      sub_2     sub_3     sub_4      ed_0      ed_1  log_hourly_rate  exptext  \\\n",
       "0 -0.062145 -0.069276  0.001775 -0.016402 -0.031496         4.094345        1   \n",
       "1  0.230497 -0.028919  0.076335  0.669648  0.020776         4.317488       13   \n",
       "2  0.198153 -0.048833  0.140307 -0.017695 -0.031896         4.553877        0   \n",
       "3 -0.049184 -0.233266 -0.042781 -0.022501 -0.033860         4.553877        7   \n",
       "4 -0.149778  0.040967  0.016708 -0.017356 -0.031909         4.828314       10   \n",
       "\n",
       "   exp_tot  \n",
       "0       16  \n",
       "1       22  \n",
       "2       30  \n",
       "3        7  \n",
       "4       22  \n",
       "\n",
       "[5 rows x 30 columns]"
      ]
     },
     "execution_count": 2,
     "metadata": {},
     "output_type": "execute_result"
    }
   ],
   "source": []
  },
  {
   "cell_type": "code",
   "execution_count": 6,
   "metadata": {},
   "outputs": [
    {
     "data": {
      "text/plain": [
       "qual_encoded         1.000000\n",
       "background_check     0.000000\n",
       "num_subjects        25.000000\n",
       "hours_tutoring       3.000000\n",
       "edu_length           7.000000\n",
       "mean_hours           0.416667\n",
       "state_cb             3.737146\n",
       "qual_encoded_cb      3.913101\n",
       "Name: 2049, dtype: float64"
      ]
     },
     "execution_count": 6,
     "metadata": {},
     "output_type": "execute_result"
    }
   ],
   "source": [
    "tutor_df.iloc[1]"
   ]
  },
  {
   "cell_type": "code",
   "execution_count": 17,
   "metadata": {},
   "outputs": [
    {
     "data": {
      "text/plain": [
       "35.0"
      ]
     },
     "execution_count": 17,
     "metadata": {},
     "output_type": "execute_result"
    }
   ],
   "source": [
    "loaded_model = pickle.load(open('model_base.sav', 'rb'))\n",
    "loaded_encodings = pickle.load(open('cb_encoding.sav', 'rb'))\n",
    "np.exp(loaded_model.predict(tutor_df.iloc[3])[0]).round()"
   ]
  },
  {
   "cell_type": "code",
   "execution_count": null,
   "metadata": {},
   "outputs": [],
   "source": [
    "\"Do you hold any degrees? Choose from the list.\"\n",
    "\"Do you have an approved federal background check?\"\n",
    "\"Approximately how many hours have you tutored in the past year? Enter a number.\"\n",
    "\"Which subjects do you intend to teach? Choose as many as you like from the list.\"\n",
    "\"Where do you plan to teach? Pick a state.\"\n",
    "\"How many hours each week are you available to teach?\""
   ]
  },
  {
   "cell_type": "code",
   "execution_count": 14,
   "metadata": {},
   "outputs": [],
   "source": [
    "degree_list = ['Bachelors','Masters','MD','MBA','PhD','J.D.','Other']\n",
    "\n",
    "def qual_encode(qual):\n",
    "    \n",
    "    qual_list = ['Masters','MBA','PhD','J.D.']\n",
    "    qual_encodings = {'Masters': 1, 'MBA': 1, 'PhD': 2, 'J.D.': 3}\n",
    "    if qual in qual_list:\n",
    "        return qual_encodings[qual]\n",
    "    else:\n",
    "        return 0"
   ]
  },
  {
   "cell_type": "code",
   "execution_count": 71,
   "metadata": {},
   "outputs": [],
   "source": [
    "qual1 = 'Bachelors'\n",
    "qual2 = 'Masters'\n",
    "qual3 = 'PhD'\n",
    "all_quals = [qual1,qual2,qual3]\n",
    "qual_tot = 0\n",
    "\n",
    "for qual in all_quals:\n",
    "    qual_tot += qual_encode(qual)\n",
    "    \n",
    "back_check = 1\n",
    "hours_tutored = 200\n",
    "subject_list = ['1','2','4','4','5','6','7','8','5','2']\n",
    "num_subjects = len(subject_list)\n",
    "edu_length = 3*len(all_quals) + 1\n",
    "state = 'CA'\n",
    "hours = 10\n",
    "mean_hours = hours/(24*7)"
   ]
  },
  {
   "cell_type": "code",
   "execution_count": 72,
   "metadata": {},
   "outputs": [
    {
     "data": {
      "text/html": [
       "<div>\n",
       "<style scoped>\n",
       "    .dataframe tbody tr th:only-of-type {\n",
       "        vertical-align: middle;\n",
       "    }\n",
       "\n",
       "    .dataframe tbody tr th {\n",
       "        vertical-align: top;\n",
       "    }\n",
       "\n",
       "    .dataframe thead th {\n",
       "        text-align: right;\n",
       "    }\n",
       "</style>\n",
       "<table border=\"1\" class=\"dataframe\">\n",
       "  <thead>\n",
       "    <tr style=\"text-align: right;\">\n",
       "      <th></th>\n",
       "      <th>qual_encoded</th>\n",
       "      <th>background_check</th>\n",
       "      <th>num_subjects</th>\n",
       "      <th>hours_tutoring</th>\n",
       "      <th>edu_length</th>\n",
       "      <th>mean_hours</th>\n",
       "      <th>state_cb</th>\n",
       "      <th>qual_encoded_cb</th>\n",
       "    </tr>\n",
       "  </thead>\n",
       "  <tbody>\n",
       "    <tr>\n",
       "      <th>0</th>\n",
       "      <td>3.0</td>\n",
       "      <td>1.0</td>\n",
       "      <td>10.0</td>\n",
       "      <td>200.0</td>\n",
       "      <td>10.0</td>\n",
       "      <td>0.059524</td>\n",
       "      <td>3.871119</td>\n",
       "      <td>4.277966</td>\n",
       "    </tr>\n",
       "  </tbody>\n",
       "</table>\n",
       "</div>"
      ],
      "text/plain": [
       "   qual_encoded  background_check  num_subjects  hours_tutoring  edu_length  \\\n",
       "0           3.0               1.0          10.0           200.0        10.0   \n",
       "\n",
       "   mean_hours  state_cb  qual_encoded_cb  \n",
       "0    0.059524  3.871119         4.277966  "
      ]
     },
     "execution_count": 72,
     "metadata": {},
     "output_type": "execute_result"
    }
   ],
   "source": [
    "cats = pd.Series({'state':state,'qual_encoded':qual_tot})\n",
    "user_cats = loaded_encodings.transform(cats.to_frame().T).add_suffix('_cb')\n",
    "user_input = pd.Series({'qual_encoded':qual_tot, 'background_check':back_check, 'num_subjects':num_subjects,\n",
    "                          'hours_tutoring':hours_tutored, 'edu_length':edu_length, 'mean_hours': mean_hours})\n",
    "u_input = user_input.to_frame().T.join(user_cats)\n",
    "u_input"
   ]
  },
  {
   "cell_type": "code",
   "execution_count": 73,
   "metadata": {},
   "outputs": [
    {
     "data": {
      "text/plain": [
       "52.0"
      ]
     },
     "execution_count": 73,
     "metadata": {},
     "output_type": "execute_result"
    }
   ],
   "source": [
    "np.exp(loaded_model.predict(u_input.values))[0].round()"
   ]
  },
  {
   "cell_type": "code",
   "execution_count": 6,
   "metadata": {},
   "outputs": [],
   "source": [
    "def qual_encode(qual):\n",
    "    \n",
    "    qual_list = ['Masters','MBA','PhD','J.D.']\n",
    "    qual_encodings = {'Masters': 5, 'MBA': 5, 'PhD': 20, 'J.D.': 30}\n",
    "    if qual in qual_list:\n",
    "        return qual_encodings[qual]\n",
    "    else:\n",
    "        return 0\n",
    "    \n",
    "def get_exp(bio):\n",
    "    \n",
    "    if 'years' in bio:\n",
    "        yrs = np.array([int(i) for i in re.findall('\\d+', bio)])\n",
    "        if len(yrs[yrs<50])>0:\n",
    "            return max(yrs[yrs<50])\n",
    "        else:\n",
    "            return 0\n",
    "    else:\n",
    "        return 0"
   ]
  },
  {
   "cell_type": "code",
   "execution_count": 4,
   "metadata": {},
   "outputs": [
    {
     "data": {
      "text/html": [
       "<div>\n",
       "<style scoped>\n",
       "    .dataframe tbody tr th:only-of-type {\n",
       "        vertical-align: middle;\n",
       "    }\n",
       "\n",
       "    .dataframe tbody tr th {\n",
       "        vertical-align: top;\n",
       "    }\n",
       "\n",
       "    .dataframe thead th {\n",
       "        text-align: right;\n",
       "    }\n",
       "</style>\n",
       "<table border=\"1\" class=\"dataframe\">\n",
       "  <thead>\n",
       "    <tr style=\"text-align: right;\">\n",
       "      <th></th>\n",
       "      <th>state</th>\n",
       "      <th>qual_encoded</th>\n",
       "      <th>num_subjects</th>\n",
       "      <th>hours_tutoring</th>\n",
       "      <th>edu_length</th>\n",
       "      <th>rating_count</th>\n",
       "      <th>review_count</th>\n",
       "      <th>rating_av</th>\n",
       "      <th>bio_length</th>\n",
       "      <th>sunday_hours</th>\n",
       "      <th>...</th>\n",
       "      <th>sub_0</th>\n",
       "      <th>sub_1</th>\n",
       "      <th>sub_2</th>\n",
       "      <th>sub_3</th>\n",
       "      <th>sub_4</th>\n",
       "      <th>ed_0</th>\n",
       "      <th>ed_1</th>\n",
       "      <th>log_hourly_rate</th>\n",
       "      <th>exptext</th>\n",
       "      <th>exp_tot</th>\n",
       "    </tr>\n",
       "  </thead>\n",
       "  <tbody>\n",
       "    <tr>\n",
       "      <th>0</th>\n",
       "      <td>CA</td>\n",
       "      <td>5</td>\n",
       "      <td>5</td>\n",
       "      <td>839.0</td>\n",
       "      <td>7</td>\n",
       "      <td>269</td>\n",
       "      <td>15.0</td>\n",
       "      <td>4.98885</td>\n",
       "      <td>376</td>\n",
       "      <td>0.583333</td>\n",
       "      <td>...</td>\n",
       "      <td>-0.033960</td>\n",
       "      <td>0.222921</td>\n",
       "      <td>-0.062145</td>\n",
       "      <td>-0.069276</td>\n",
       "      <td>0.001775</td>\n",
       "      <td>-0.016402</td>\n",
       "      <td>-0.031496</td>\n",
       "      <td>4.094345</td>\n",
       "      <td>1</td>\n",
       "      <td>16</td>\n",
       "    </tr>\n",
       "    <tr>\n",
       "      <th>1</th>\n",
       "      <td>CA</td>\n",
       "      <td>5</td>\n",
       "      <td>31</td>\n",
       "      <td>962.0</td>\n",
       "      <td>7</td>\n",
       "      <td>338</td>\n",
       "      <td>18.0</td>\n",
       "      <td>4.93195</td>\n",
       "      <td>323</td>\n",
       "      <td>0.500000</td>\n",
       "      <td>...</td>\n",
       "      <td>-0.070633</td>\n",
       "      <td>-0.036473</td>\n",
       "      <td>0.230497</td>\n",
       "      <td>-0.028919</td>\n",
       "      <td>0.076335</td>\n",
       "      <td>0.669648</td>\n",
       "      <td>0.020776</td>\n",
       "      <td>4.317488</td>\n",
       "      <td>13</td>\n",
       "      <td>22</td>\n",
       "    </tr>\n",
       "    <tr>\n",
       "      <th>2</th>\n",
       "      <td>CA</td>\n",
       "      <td>0</td>\n",
       "      <td>72</td>\n",
       "      <td>3899.0</td>\n",
       "      <td>4</td>\n",
       "      <td>1046</td>\n",
       "      <td>74.0</td>\n",
       "      <td>4.94349</td>\n",
       "      <td>248</td>\n",
       "      <td>1.000000</td>\n",
       "      <td>...</td>\n",
       "      <td>-0.043025</td>\n",
       "      <td>-0.138776</td>\n",
       "      <td>0.198153</td>\n",
       "      <td>-0.048833</td>\n",
       "      <td>0.140307</td>\n",
       "      <td>-0.017695</td>\n",
       "      <td>-0.031896</td>\n",
       "      <td>4.553877</td>\n",
       "      <td>0</td>\n",
       "      <td>30</td>\n",
       "    </tr>\n",
       "    <tr>\n",
       "      <th>3</th>\n",
       "      <td>CA</td>\n",
       "      <td>5</td>\n",
       "      <td>19</td>\n",
       "      <td>5592.0</td>\n",
       "      <td>7</td>\n",
       "      <td>1602</td>\n",
       "      <td>32.0</td>\n",
       "      <td>4.97940</td>\n",
       "      <td>417</td>\n",
       "      <td>0.000000</td>\n",
       "      <td>...</td>\n",
       "      <td>-0.223627</td>\n",
       "      <td>-0.112409</td>\n",
       "      <td>-0.049184</td>\n",
       "      <td>-0.233266</td>\n",
       "      <td>-0.042781</td>\n",
       "      <td>-0.022501</td>\n",
       "      <td>-0.033860</td>\n",
       "      <td>4.553877</td>\n",
       "      <td>7</td>\n",
       "      <td>7</td>\n",
       "    </tr>\n",
       "    <tr>\n",
       "      <th>4</th>\n",
       "      <td>CA</td>\n",
       "      <td>0</td>\n",
       "      <td>5</td>\n",
       "      <td>230.0</td>\n",
       "      <td>4</td>\n",
       "      <td>67</td>\n",
       "      <td>12.0</td>\n",
       "      <td>4.98507</td>\n",
       "      <td>173</td>\n",
       "      <td>0.041667</td>\n",
       "      <td>...</td>\n",
       "      <td>-0.190390</td>\n",
       "      <td>0.302855</td>\n",
       "      <td>-0.149778</td>\n",
       "      <td>0.040967</td>\n",
       "      <td>0.016708</td>\n",
       "      <td>-0.017356</td>\n",
       "      <td>-0.031909</td>\n",
       "      <td>4.828314</td>\n",
       "      <td>10</td>\n",
       "      <td>22</td>\n",
       "    </tr>\n",
       "  </tbody>\n",
       "</table>\n",
       "<p>5 rows × 30 columns</p>\n",
       "</div>"
      ],
      "text/plain": [
       "  state  qual_encoded  num_subjects  hours_tutoring  edu_length  rating_count  \\\n",
       "0    CA             5             5           839.0           7           269   \n",
       "1    CA             5            31           962.0           7           338   \n",
       "2    CA             0            72          3899.0           4          1046   \n",
       "3    CA             5            19          5592.0           7          1602   \n",
       "4    CA             0             5           230.0           4            67   \n",
       "\n",
       "   review_count  rating_av  bio_length  sunday_hours  ...     sub_0     sub_1  \\\n",
       "0          15.0    4.98885         376      0.583333  ... -0.033960  0.222921   \n",
       "1          18.0    4.93195         323      0.500000  ... -0.070633 -0.036473   \n",
       "2          74.0    4.94349         248      1.000000  ... -0.043025 -0.138776   \n",
       "3          32.0    4.97940         417      0.000000  ... -0.223627 -0.112409   \n",
       "4          12.0    4.98507         173      0.041667  ... -0.190390  0.302855   \n",
       "\n",
       "      sub_2     sub_3     sub_4      ed_0      ed_1  log_hourly_rate  exptext  \\\n",
       "0 -0.062145 -0.069276  0.001775 -0.016402 -0.031496         4.094345        1   \n",
       "1  0.230497 -0.028919  0.076335  0.669648  0.020776         4.317488       13   \n",
       "2  0.198153 -0.048833  0.140307 -0.017695 -0.031896         4.553877        0   \n",
       "3 -0.049184 -0.233266 -0.042781 -0.022501 -0.033860         4.553877        7   \n",
       "4 -0.149778  0.040967  0.016708 -0.017356 -0.031909         4.828314       10   \n",
       "\n",
       "   exp_tot  \n",
       "0       16  \n",
       "1       22  \n",
       "2       30  \n",
       "3        7  \n",
       "4       22  \n",
       "\n",
       "[5 rows x 30 columns]"
      ]
     },
     "execution_count": 4,
     "metadata": {},
     "output_type": "execute_result"
    }
   ],
   "source": [
    "tutor_df = pd.read_pickle(\"./tutors_outliers.pkl\")\n",
    "tutor_df.head()"
   ]
  },
  {
   "cell_type": "code",
   "execution_count": 27,
   "metadata": {},
   "outputs": [],
   "source": [
    "loaded_model = pickle.load(open('model_xgb3.sav', 'rb'))\n",
    "loaded_encodings = pickle.load(open('cbenc2.pkl', 'rb'))\n",
    "tfidf_sub = pickle.load(open('tfidf.sav', 'rb'))\n",
    "tfidf_ed = pickle.load(open('tfidf_ed.sav', 'rb'))\n",
    "subPCA = pickle.load(open('subPCA.pkl', 'rb'))\n",
    "edPCA = pickle.load(open('edPCA.pkl', 'rb'))"
   ]
  },
  {
   "cell_type": "code",
   "execution_count": 3,
   "metadata": {},
   "outputs": [
    {
     "ename": "NameError",
     "evalue": "name 'tutor_df' is not defined",
     "output_type": "error",
     "traceback": [
      "\u001b[0;31m---------------------------------------------------------------------------\u001b[0m",
      "\u001b[0;31mNameError\u001b[0m                                 Traceback (most recent call last)",
      "\u001b[0;32m<ipython-input-3-45914b2bb780>\u001b[0m in \u001b[0;36m<module>\u001b[0;34m\u001b[0m\n\u001b[0;32m----> 1\u001b[0;31m \u001b[0mtutor_df\u001b[0m\u001b[0;34m.\u001b[0m\u001b[0mcolumns\u001b[0m\u001b[0;34m\u001b[0m\u001b[0;34m\u001b[0m\u001b[0m\n\u001b[0m",
      "\u001b[0;31mNameError\u001b[0m: name 'tutor_df' is not defined"
     ]
    }
   ],
   "source": [
    "tutor_df.columns"
   ]
  },
  {
   "cell_type": "code",
   "execution_count": 57,
   "metadata": {},
   "outputs": [
    {
     "data": {
      "text/plain": [
       "303.0"
      ]
     },
     "execution_count": 57,
     "metadata": {},
     "output_type": "execute_result"
    }
   ],
   "source": [
    "tutor_df['bio_length'].median()"
   ]
  },
  {
   "cell_type": "code",
   "execution_count": 22,
   "metadata": {},
   "outputs": [],
   "source": [
    "state = 'CA'\n",
    "\n",
    "qual1 = 'Bachelors'\n",
    "qual2 = 'Masters'\n",
    "qual3 = 'PhD'\n",
    "inst1 = 'University of Texas at Austin'\n",
    "inst2 = 'Texas State University'\n",
    "inst3 = 'Harvard'\n",
    "\n",
    "subs = ['Algebra Calculus Prealgebra Geometry Trigonometry']\n",
    "all_quals = [qual1,qual2,qual3]\n",
    "qual_tot = 0\n",
    "\n",
    "for qual in all_quals:\n",
    "    qual_tot += qual_encode(qual)\n",
    "    \n",
    "years_exp = 10\n",
    "rating_count = 10\n",
    "rating_av = 4.895\n",
    "review_count = 1\n",
    "bio_length = 303\n",
    "back_check = 1\n",
    "\n",
    "sunday = 5/24\n",
    "monday = 5/24\n",
    "tuesday = 5/24\n",
    "wednesday = 5/24\n",
    "thursday = 5/24\n",
    "friday = 5/24\n",
    "saturday = 5/24\n",
    "\n",
    "hours_tutored = 200\n",
    "subject_list = ['1','2','4','4','5','6','7','8','5','2']\n",
    "num_subjects = len(subject_list)\n",
    "edu_length = 3*len(all_quals) + 1"
   ]
  },
  {
   "cell_type": "code",
   "execution_count": 8,
   "metadata": {},
   "outputs": [],
   "source": [
    "def all_inst(inst1,inst2,inst3):\n",
    "\n",
    "    inst = inst1 + ' ' + inst2 + ' ' + inst3 \n",
    "    stopwords = ['university','University','of','in','College','college']\n",
    "    for word in stopwords:\n",
    "        inst = inst.replace(word,'').strip(' ')\n",
    "    return inst"
   ]
  },
  {
   "cell_type": "code",
   "execution_count": 9,
   "metadata": {},
   "outputs": [],
   "source": [
    "inst = 'Texas at Aust Stanford Harvard'"
   ]
  },
  {
   "cell_type": "code",
   "execution_count": 10,
   "metadata": {},
   "outputs": [],
   "source": [
    "text_ed = tfidf_ed.transform([inst])"
   ]
  },
  {
   "cell_type": "code",
   "execution_count": 11,
   "metadata": {},
   "outputs": [
    {
     "data": {
      "text/plain": [
       "(1, 20000)"
      ]
     },
     "execution_count": 11,
     "metadata": {},
     "output_type": "execute_result"
    }
   ],
   "source": [
    "text_ed.shape"
   ]
  },
  {
   "cell_type": "code",
   "execution_count": 12,
   "metadata": {},
   "outputs": [
    {
     "data": {
      "text/plain": [
       "array([[-0.03645394, -0.07087529]])"
      ]
     },
     "execution_count": 12,
     "metadata": {},
     "output_type": "execute_result"
    }
   ],
   "source": [
    "edPCA.transform(text_ed.todense())"
   ]
  },
  {
   "cell_type": "code",
   "execution_count": 13,
   "metadata": {},
   "outputs": [],
   "source": [
    "text_sub = tfidf_sub.transform(subs)\n",
    "ed_df = pd.Series(edPCA.transform(text_ed.todense())[0]).to_frame().T\n",
    "ed_df = ed_df.rename(columns={0:'ed_0',1:'ed_1'})"
   ]
  },
  {
   "cell_type": "code",
   "execution_count": 14,
   "metadata": {},
   "outputs": [
    {
     "data": {
      "text/plain": [
       "array([[ 0.17430182,  0.11032639, -0.04469268, -0.01052112, -0.13713144]])"
      ]
     },
     "execution_count": 14,
     "metadata": {},
     "output_type": "execute_result"
    }
   ],
   "source": [
    "subPCA.transform(text_sub.todense())"
   ]
  },
  {
   "cell_type": "code",
   "execution_count": 15,
   "metadata": {},
   "outputs": [],
   "source": [
    "sub_df = pd.Series(subPCA.transform(text_sub.todense())[0]).to_frame().T\n",
    "sub_df = sub_df.rename(columns={0:'sub_0',1:'sub_1',2:'sub_2',3:'sub_3',4:'sub_4'})"
   ]
  },
  {
   "cell_type": "code",
   "execution_count": 16,
   "metadata": {},
   "outputs": [],
   "source": [
    "\n",
    "def is_ivy(inst1,inst2,inst3):\n",
    "    ivys = ['Brown', 'Columbia', 'Dartmouth', 'Harvard', 'Cornell', 'Pennsylvania', 'Princeton', 'Yale']\n",
    "    ivy = []\n",
    "    for inst in [inst1,inst2,inst3]:\n",
    "        if any(x in inst for x in ivys):\n",
    "            ivy.append(1)\n",
    "        else:\n",
    "            ivy.append(0)\n",
    "    return ivy"
   ]
  },
  {
   "cell_type": "code",
   "execution_count": 17,
   "metadata": {},
   "outputs": [],
   "source": [
    "ivy = is_ivy(inst1,inst2,inst3)"
   ]
  },
  {
   "cell_type": "code",
   "execution_count": 18,
   "metadata": {},
   "outputs": [],
   "source": [
    "cats = pd.Series({'state':state,'ivy_1e':ivy[0],'ivy_2e':ivy[1],'ivy_3e':ivy[2]})\n",
    "user_cats = loaded_encodings.transform(cats.to_frame().T).add_suffix('_cb')"
   ]
  },
  {
   "cell_type": "code",
   "execution_count": 19,
   "metadata": {},
   "outputs": [
    {
     "data": {
      "text/html": [
       "<div>\n",
       "<style scoped>\n",
       "    .dataframe tbody tr th:only-of-type {\n",
       "        vertical-align: middle;\n",
       "    }\n",
       "\n",
       "    .dataframe tbody tr th {\n",
       "        vertical-align: top;\n",
       "    }\n",
       "\n",
       "    .dataframe thead th {\n",
       "        text-align: right;\n",
       "    }\n",
       "</style>\n",
       "<table border=\"1\" class=\"dataframe\">\n",
       "  <thead>\n",
       "    <tr style=\"text-align: right;\">\n",
       "      <th></th>\n",
       "      <th>state_cb</th>\n",
       "      <th>ivy_1e_cb</th>\n",
       "      <th>ivy_2e_cb</th>\n",
       "      <th>ivy_3e_cb</th>\n",
       "    </tr>\n",
       "  </thead>\n",
       "  <tbody>\n",
       "    <tr>\n",
       "      <th>0</th>\n",
       "      <td>3.912955</td>\n",
       "      <td>3.816676</td>\n",
       "      <td>3.818395</td>\n",
       "      <td>4.11391</td>\n",
       "    </tr>\n",
       "  </tbody>\n",
       "</table>\n",
       "</div>"
      ],
      "text/plain": [
       "   state_cb  ivy_1e_cb  ivy_2e_cb  ivy_3e_cb\n",
       "0  3.912955   3.816676   3.818395    4.11391"
      ]
     },
     "execution_count": 19,
     "metadata": {},
     "output_type": "execute_result"
    }
   ],
   "source": [
    "user_cats"
   ]
  },
  {
   "cell_type": "code",
   "execution_count": 20,
   "metadata": {},
   "outputs": [
    {
     "data": {
      "text/html": [
       "<div>\n",
       "<style scoped>\n",
       "    .dataframe tbody tr th:only-of-type {\n",
       "        vertical-align: middle;\n",
       "    }\n",
       "\n",
       "    .dataframe tbody tr th {\n",
       "        vertical-align: top;\n",
       "    }\n",
       "\n",
       "    .dataframe thead th {\n",
       "        text-align: right;\n",
       "    }\n",
       "</style>\n",
       "<table border=\"1\" class=\"dataframe\">\n",
       "  <thead>\n",
       "    <tr style=\"text-align: right;\">\n",
       "      <th></th>\n",
       "      <th>ivy_1e_cb</th>\n",
       "      <th>state_cb</th>\n",
       "      <th>ivy_2e_cb</th>\n",
       "      <th>ivy_3e_cb</th>\n",
       "    </tr>\n",
       "  </thead>\n",
       "  <tbody>\n",
       "    <tr>\n",
       "      <th>0</th>\n",
       "      <td>3.816676</td>\n",
       "      <td>3.912955</td>\n",
       "      <td>3.818395</td>\n",
       "      <td>4.11391</td>\n",
       "    </tr>\n",
       "  </tbody>\n",
       "</table>\n",
       "</div>"
      ],
      "text/plain": [
       "   ivy_1e_cb  state_cb  ivy_2e_cb  ivy_3e_cb\n",
       "0   3.816676  3.912955   3.818395    4.11391"
      ]
     },
     "execution_count": 20,
     "metadata": {},
     "output_type": "execute_result"
    }
   ],
   "source": [
    "user_cats[['ivy_1e_cb', 'state_cb', 'ivy_2e_cb', 'ivy_3e_cb']]"
   ]
  },
  {
   "cell_type": "code",
   "execution_count": 23,
   "metadata": {},
   "outputs": [],
   "source": [
    "user_input = pd.Series({'qual_encoded':qual_tot, 'background_check':back_check, 'num_subjects':num_subjects,\n",
    "                          'hours_tutoring':hours_tutored, 'edu_length':edu_length, 'bio_length': bio_length,\n",
    "                        'sunday_hours': sunday,'monday_hours': monday, 'tuesday_hours': tuesday,\n",
    "                        'wednesday_hours': wednesday,'thursday_hours': thursday, 'friday_hours': friday, \n",
    "                        'saturday_hours': saturday, 'rating_count':rating_count, 'rating_av': rating_av,\n",
    "                       'review_count':review_count,'experience':years_exp, 'exptext': years_exp, \n",
    "                        'exp_tot':years_exp})\n",
    "u_input = user_input.to_frame().T.join(user_cats).join(sub_df).join(ed_df)"
   ]
  },
  {
   "cell_type": "code",
   "execution_count": 24,
   "metadata": {},
   "outputs": [
    {
     "data": {
      "text/html": [
       "<div>\n",
       "<style scoped>\n",
       "    .dataframe tbody tr th:only-of-type {\n",
       "        vertical-align: middle;\n",
       "    }\n",
       "\n",
       "    .dataframe tbody tr th {\n",
       "        vertical-align: top;\n",
       "    }\n",
       "\n",
       "    .dataframe thead th {\n",
       "        text-align: right;\n",
       "    }\n",
       "</style>\n",
       "<table border=\"1\" class=\"dataframe\">\n",
       "  <thead>\n",
       "    <tr style=\"text-align: right;\">\n",
       "      <th></th>\n",
       "      <th>qual_encoded</th>\n",
       "      <th>num_subjects</th>\n",
       "      <th>hours_tutoring</th>\n",
       "      <th>edu_length</th>\n",
       "      <th>rating_count</th>\n",
       "      <th>review_count</th>\n",
       "      <th>rating_av</th>\n",
       "      <th>bio_length</th>\n",
       "      <th>sunday_hours</th>\n",
       "      <th>monday_hours</th>\n",
       "      <th>...</th>\n",
       "      <th>sub_3</th>\n",
       "      <th>sub_4</th>\n",
       "      <th>ed_0</th>\n",
       "      <th>ed_1</th>\n",
       "      <th>exptext</th>\n",
       "      <th>exp_tot</th>\n",
       "      <th>state_cb</th>\n",
       "      <th>ivy_1e_cb</th>\n",
       "      <th>ivy_2e_cb</th>\n",
       "      <th>ivy_3e_cb</th>\n",
       "    </tr>\n",
       "  </thead>\n",
       "  <tbody>\n",
       "    <tr>\n",
       "      <th>0</th>\n",
       "      <td>25.0</td>\n",
       "      <td>10.0</td>\n",
       "      <td>200.0</td>\n",
       "      <td>10.0</td>\n",
       "      <td>10.0</td>\n",
       "      <td>1.0</td>\n",
       "      <td>4.895</td>\n",
       "      <td>303.0</td>\n",
       "      <td>0.208333</td>\n",
       "      <td>0.208333</td>\n",
       "      <td>...</td>\n",
       "      <td>-0.010521</td>\n",
       "      <td>-0.137131</td>\n",
       "      <td>-0.036454</td>\n",
       "      <td>-0.070875</td>\n",
       "      <td>10.0</td>\n",
       "      <td>10.0</td>\n",
       "      <td>3.912955</td>\n",
       "      <td>3.816676</td>\n",
       "      <td>3.818395</td>\n",
       "      <td>4.11391</td>\n",
       "    </tr>\n",
       "  </tbody>\n",
       "</table>\n",
       "<p>1 rows × 29 columns</p>\n",
       "</div>"
      ],
      "text/plain": [
       "   qual_encoded  num_subjects  hours_tutoring  edu_length  rating_count  \\\n",
       "0          25.0          10.0           200.0        10.0          10.0   \n",
       "\n",
       "   review_count  rating_av  bio_length  sunday_hours  monday_hours  ...  \\\n",
       "0           1.0      4.895       303.0      0.208333      0.208333  ...   \n",
       "\n",
       "      sub_3     sub_4      ed_0      ed_1  exptext  exp_tot  state_cb  \\\n",
       "0 -0.010521 -0.137131 -0.036454 -0.070875     10.0     10.0  3.912955   \n",
       "\n",
       "   ivy_1e_cb  ivy_2e_cb  ivy_3e_cb  \n",
       "0   3.816676   3.818395    4.11391  \n",
       "\n",
       "[1 rows x 29 columns]"
      ]
     },
     "execution_count": 24,
     "metadata": {},
     "output_type": "execute_result"
    }
   ],
   "source": [
    "u_input = u_input[['qual_encoded', 'num_subjects', 'hours_tutoring', 'edu_length',\n",
    "       'rating_count', 'review_count', 'rating_av', 'bio_length',\n",
    "       'sunday_hours', 'monday_hours', 'tuesday_hours', 'wednesday_hours',\n",
    "       'thursday_hours', 'friday_hours', 'saturday_hours', 'experience',\n",
    "       'sub_0', 'sub_1', 'sub_2', 'sub_3', 'sub_4', 'ed_0', 'ed_1', 'exptext',\n",
    "       'exp_tot', 'state_cb', 'ivy_1e_cb', 'ivy_2e_cb', 'ivy_3e_cb']]\n",
    "u_input"
   ]
  },
  {
   "cell_type": "code",
   "execution_count": 28,
   "metadata": {},
   "outputs": [
    {
     "data": {
      "text/plain": [
       "65.0"
      ]
     },
     "execution_count": 28,
     "metadata": {},
     "output_type": "execute_result"
    }
   ],
   "source": [
    "np.exp(loaded_model.predict(u_input.values))[0].round()"
   ]
  },
  {
   "cell_type": "code",
   "execution_count": 31,
   "metadata": {},
   "outputs": [
    {
     "ename": "ModuleNotFoundError",
     "evalue": "No module named 'utils'",
     "output_type": "error",
     "traceback": [
      "\u001b[0;31m---------------------------------------------------------------------------\u001b[0m",
      "\u001b[0;31mModuleNotFoundError\u001b[0m                       Traceback (most recent call last)",
      "\u001b[0;32m<ipython-input-31-a6c2a3fd5bfa>\u001b[0m in \u001b[0;36m<module>\u001b[0;34m\u001b[0m\n\u001b[0;32m----> 1\u001b[0;31m \u001b[0;32mimport\u001b[0m \u001b[0mutils\u001b[0m\u001b[0;34m.\u001b[0m\u001b[0mproc_funcs\u001b[0m\u001b[0;34m\u001b[0m\u001b[0;34m\u001b[0m\u001b[0m\n\u001b[0m",
      "\u001b[0;31mModuleNotFoundError\u001b[0m: No module named 'utils'"
     ]
    }
   ],
   "source": [
    "import utils.proc_funcs"
   ]
  },
  {
   "cell_type": "code",
   "execution_count": null,
   "metadata": {},
   "outputs": [],
   "source": []
  }
 ],
 "metadata": {
  "kernelspec": {
   "display_name": "Python 3",
   "language": "python",
   "name": "python3"
  },
  "language_info": {
   "codemirror_mode": {
    "name": "ipython",
    "version": 3
   },
   "file_extension": ".py",
   "mimetype": "text/x-python",
   "name": "python",
   "nbconvert_exporter": "python",
   "pygments_lexer": "ipython3",
   "version": "3.8.2"
  }
 },
 "nbformat": 4,
 "nbformat_minor": 4
}
