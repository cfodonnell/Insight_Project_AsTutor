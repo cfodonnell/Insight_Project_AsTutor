{
 "cells": [
  {
   "cell_type": "code",
   "execution_count": 1,
   "metadata": {},
   "outputs": [],
   "source": [
    "import time\n",
    "import numpy as np\n",
    "import pandas as pd\n",
    "import json\n",
    "import seaborn as sb\n",
    "from matplotlib import pyplot as plt\n",
    "from matplotlib import rcParams\n",
    "import matplotlib.cm as cm\n",
    "from matplotlib.colors import ListedColormap\n",
    "import seaborn as sb\n",
    "\n",
    "from sqlalchemy import create_engine\n",
    "from sqlalchemy_utils import database_exists, create_database\n",
    "import psycopg2\n",
    "\n",
    "from sklearn.cluster import MiniBatchKMeans\n",
    "from sklearn.feature_extraction.text import TfidfVectorizer\n",
    "from sklearn.decomposition import PCA\n",
    "from sklearn.manifold import TSNE\n",
    "import category_encoders as ce\n",
    "from sklearn.preprocessing import OneHotEncoder\n",
    "import pickle"
   ]
  },
  {
   "cell_type": "code",
   "execution_count": 5,
   "metadata": {},
   "outputs": [
    {
     "data": {
      "text/html": [
       "<div>\n",
       "<style scoped>\n",
       "    .dataframe tbody tr th:only-of-type {\n",
       "        vertical-align: middle;\n",
       "    }\n",
       "\n",
       "    .dataframe tbody tr th {\n",
       "        vertical-align: top;\n",
       "    }\n",
       "\n",
       "    .dataframe thead th {\n",
       "        text-align: right;\n",
       "    }\n",
       "</style>\n",
       "<table border=\"1\" class=\"dataframe\">\n",
       "  <thead>\n",
       "    <tr style=\"text-align: right;\">\n",
       "      <th></th>\n",
       "      <th>qual_encoded</th>\n",
       "      <th>background_check</th>\n",
       "      <th>num_subjects</th>\n",
       "      <th>hours_tutoring</th>\n",
       "      <th>edu_length</th>\n",
       "      <th>mean_hours</th>\n",
       "      <th>state_cb</th>\n",
       "      <th>qual_encoded_cb</th>\n",
       "    </tr>\n",
       "  </thead>\n",
       "  <tbody>\n",
       "    <tr>\n",
       "      <th>1456</th>\n",
       "      <td>1</td>\n",
       "      <td>1</td>\n",
       "      <td>10</td>\n",
       "      <td>2849.0</td>\n",
       "      <td>7</td>\n",
       "      <td>0.458333</td>\n",
       "      <td>3.779692</td>\n",
       "      <td>3.913101</td>\n",
       "    </tr>\n",
       "    <tr>\n",
       "      <th>2049</th>\n",
       "      <td>1</td>\n",
       "      <td>0</td>\n",
       "      <td>25</td>\n",
       "      <td>3.0</td>\n",
       "      <td>7</td>\n",
       "      <td>0.416667</td>\n",
       "      <td>3.737146</td>\n",
       "      <td>3.913101</td>\n",
       "    </tr>\n",
       "    <tr>\n",
       "      <th>644</th>\n",
       "      <td>1</td>\n",
       "      <td>1</td>\n",
       "      <td>80</td>\n",
       "      <td>2724.0</td>\n",
       "      <td>7</td>\n",
       "      <td>0.291667</td>\n",
       "      <td>3.779692</td>\n",
       "      <td>3.913101</td>\n",
       "    </tr>\n",
       "    <tr>\n",
       "      <th>346</th>\n",
       "      <td>0</td>\n",
       "      <td>0</td>\n",
       "      <td>11</td>\n",
       "      <td>538.0</td>\n",
       "      <td>7</td>\n",
       "      <td>0.160714</td>\n",
       "      <td>3.691904</td>\n",
       "      <td>3.744277</td>\n",
       "    </tr>\n",
       "    <tr>\n",
       "      <th>396</th>\n",
       "      <td>0</td>\n",
       "      <td>0</td>\n",
       "      <td>10</td>\n",
       "      <td>0.0</td>\n",
       "      <td>4</td>\n",
       "      <td>0.416667</td>\n",
       "      <td>3.691904</td>\n",
       "      <td>3.744277</td>\n",
       "    </tr>\n",
       "  </tbody>\n",
       "</table>\n",
       "</div>"
      ],
      "text/plain": [
       "      qual_encoded  background_check  num_subjects  hours_tutoring  \\\n",
       "1456             1                 1            10          2849.0   \n",
       "2049             1                 0            25             3.0   \n",
       "644              1                 1            80          2724.0   \n",
       "346              0                 0            11           538.0   \n",
       "396              0                 0            10             0.0   \n",
       "\n",
       "      edu_length  mean_hours  state_cb  qual_encoded_cb  \n",
       "1456           7    0.458333  3.779692         3.913101  \n",
       "2049           7    0.416667  3.737146         3.913101  \n",
       "644            7    0.291667  3.779692         3.913101  \n",
       "346            7    0.160714  3.691904         3.744277  \n",
       "396            4    0.416667  3.691904         3.744277  "
      ]
     },
     "execution_count": 5,
     "metadata": {},
     "output_type": "execute_result"
    }
   ],
   "source": [
    "tutor_df = pd.read_pickle(\"./model_base_data.pkl\")\n",
    "tutor_df.head()"
   ]
  },
  {
   "cell_type": "code",
   "execution_count": 6,
   "metadata": {},
   "outputs": [
    {
     "data": {
      "text/plain": [
       "qual_encoded         1.000000\n",
       "background_check     0.000000\n",
       "num_subjects        25.000000\n",
       "hours_tutoring       3.000000\n",
       "edu_length           7.000000\n",
       "mean_hours           0.416667\n",
       "state_cb             3.737146\n",
       "qual_encoded_cb      3.913101\n",
       "Name: 2049, dtype: float64"
      ]
     },
     "execution_count": 6,
     "metadata": {},
     "output_type": "execute_result"
    }
   ],
   "source": [
    "tutor_df.iloc[1]"
   ]
  },
  {
   "cell_type": "code",
   "execution_count": 17,
   "metadata": {},
   "outputs": [
    {
     "data": {
      "text/plain": [
       "35.0"
      ]
     },
     "execution_count": 17,
     "metadata": {},
     "output_type": "execute_result"
    }
   ],
   "source": [
    "loaded_model = pickle.load(open('model_base.sav', 'rb'))\n",
    "loaded_encodings = pickle.load(open('cb_encoding.sav', 'rb'))\n",
    "np.exp(loaded_model.predict(tutor_df.iloc[3])[0]).round()"
   ]
  },
  {
   "cell_type": "code",
   "execution_count": null,
   "metadata": {},
   "outputs": [],
   "source": [
    "\"Do you hold any degrees? Choose from the list.\"\n",
    "\"Do you have an approved federal background check?\"\n",
    "\"Approximately how many hours have you tutored in the past year? Enter a number.\"\n",
    "\"Which subjects do you intend to teach? Choose as many as you like from the list.\"\n",
    "\"Where do you plan to teach? Pick a state.\"\n",
    "\"How many hours each week are you available to teach?\""
   ]
  },
  {
   "cell_type": "code",
   "execution_count": 14,
   "metadata": {},
   "outputs": [],
   "source": [
    "degree_list = ['Bachelors','Masters','MD','MBA','PhD','J.D.','Other']\n",
    "\n",
    "def qual_encode(qual):\n",
    "    \n",
    "    qual_list = ['Masters','MBA','PhD','J.D.']\n",
    "    qual_encodings = {'Masters': 1, 'MBA': 1, 'PhD': 2, 'J.D.': 3}\n",
    "    if qual in qual_list:\n",
    "        return qual_encodings[qual]\n",
    "    else:\n",
    "        return 0"
   ]
  },
  {
   "cell_type": "code",
   "execution_count": 71,
   "metadata": {},
   "outputs": [],
   "source": [
    "qual1 = 'Bachelors'\n",
    "qual2 = 'Masters'\n",
    "qual3 = 'PhD'\n",
    "all_quals = [qual1,qual2,qual3]\n",
    "qual_tot = 0\n",
    "\n",
    "for qual in all_quals:\n",
    "    qual_tot += qual_encode(qual)\n",
    "    \n",
    "back_check = 1\n",
    "hours_tutored = 200\n",
    "subject_list = ['1','2','4','4','5','6','7','8','5','2']\n",
    "num_subjects = len(subject_list)\n",
    "edu_length = 3*len(all_quals) + 1\n",
    "state = 'CA'\n",
    "hours = 10\n",
    "mean_hours = hours/(24*7)"
   ]
  },
  {
   "cell_type": "code",
   "execution_count": 72,
   "metadata": {},
   "outputs": [
    {
     "data": {
      "text/html": [
       "<div>\n",
       "<style scoped>\n",
       "    .dataframe tbody tr th:only-of-type {\n",
       "        vertical-align: middle;\n",
       "    }\n",
       "\n",
       "    .dataframe tbody tr th {\n",
       "        vertical-align: top;\n",
       "    }\n",
       "\n",
       "    .dataframe thead th {\n",
       "        text-align: right;\n",
       "    }\n",
       "</style>\n",
       "<table border=\"1\" class=\"dataframe\">\n",
       "  <thead>\n",
       "    <tr style=\"text-align: right;\">\n",
       "      <th></th>\n",
       "      <th>qual_encoded</th>\n",
       "      <th>background_check</th>\n",
       "      <th>num_subjects</th>\n",
       "      <th>hours_tutoring</th>\n",
       "      <th>edu_length</th>\n",
       "      <th>mean_hours</th>\n",
       "      <th>state_cb</th>\n",
       "      <th>qual_encoded_cb</th>\n",
       "    </tr>\n",
       "  </thead>\n",
       "  <tbody>\n",
       "    <tr>\n",
       "      <th>0</th>\n",
       "      <td>3.0</td>\n",
       "      <td>1.0</td>\n",
       "      <td>10.0</td>\n",
       "      <td>200.0</td>\n",
       "      <td>10.0</td>\n",
       "      <td>0.059524</td>\n",
       "      <td>3.871119</td>\n",
       "      <td>4.277966</td>\n",
       "    </tr>\n",
       "  </tbody>\n",
       "</table>\n",
       "</div>"
      ],
      "text/plain": [
       "   qual_encoded  background_check  num_subjects  hours_tutoring  edu_length  \\\n",
       "0           3.0               1.0          10.0           200.0        10.0   \n",
       "\n",
       "   mean_hours  state_cb  qual_encoded_cb  \n",
       "0    0.059524  3.871119         4.277966  "
      ]
     },
     "execution_count": 72,
     "metadata": {},
     "output_type": "execute_result"
    }
   ],
   "source": [
    "cats = pd.Series({'state':state,'qual_encoded':qual_tot})\n",
    "user_cats = loaded_encodings.transform(cats.to_frame().T).add_suffix('_cb')\n",
    "user_input = pd.Series({'qual_encoded':qual_tot, 'background_check':back_check, 'num_subjects':num_subjects,\n",
    "                          'hours_tutoring':hours_tutored, 'edu_length':edu_length, 'mean_hours': mean_hours})\n",
    "u_input = user_input.to_frame().T.join(user_cats)\n",
    "u_input"
   ]
  },
  {
   "cell_type": "code",
   "execution_count": 73,
   "metadata": {},
   "outputs": [
    {
     "data": {
      "text/plain": [
       "52.0"
      ]
     },
     "execution_count": 73,
     "metadata": {},
     "output_type": "execute_result"
    }
   ],
   "source": [
    "np.exp(loaded_model.predict(u_input.values))[0].round()"
   ]
  },
  {
   "cell_type": "code",
   "execution_count": 75,
   "metadata": {},
   "outputs": [],
   "source": [
    "edu = np.array([1,2,0])"
   ]
  },
  {
   "cell_type": "code",
   "execution_count": 77,
   "metadata": {},
   "outputs": [
    {
     "data": {
      "text/plain": [
       "array([1, 2])"
      ]
     },
     "execution_count": 77,
     "metadata": {},
     "output_type": "execute_result"
    }
   ],
   "source": [
    "edu[edu!=0]"
   ]
  },
  {
   "cell_type": "code",
   "execution_count": null,
   "metadata": {},
   "outputs": [],
   "source": []
  }
 ],
 "metadata": {
  "kernelspec": {
   "display_name": "Python 3",
   "language": "python",
   "name": "python3"
  },
  "language_info": {
   "codemirror_mode": {
    "name": "ipython",
    "version": 3
   },
   "file_extension": ".py",
   "mimetype": "text/x-python",
   "name": "python",
   "nbconvert_exporter": "python",
   "pygments_lexer": "ipython3",
   "version": "3.8.2"
  }
 },
 "nbformat": 4,
 "nbformat_minor": 4
}
